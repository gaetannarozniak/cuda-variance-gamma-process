{
 "cells": [
  {
   "cell_type": "markdown",
   "metadata": {},
   "source": [
    "The volatility displays several characteristics:\n",
    "\n",
    "\n",
    "- volatility is positive;\n",
    "- volatility is mean-reverting, but persists;\n",
    "- volatility shocks are negatively correlated with asset price shocks. That is, when volatility goes up, stock prices tend to go down and vice-versa.\n",
    "\n",
    "We analyze a model in which stock prices are conditionally lognormal, and the volatility process is a positive increasing function of a mean-reverting Ornstein-Uhlenbeck (OU) process. That is,\n",
    "\n",
    "\\begin{equation}\n",
    "\\frac{dX_t}{X_t} = \\mu dt + f(Y_t) dW_t, \n",
    "\\end{equation}\n",
    "\n",
    "\\begin{equation}\n",
    "dY_t = \\alpha (m - Y_t) dt + \\beta dZ_t, \n",
    "\\end{equation}\n",
    "\n",
    "\\begin{equation}\n",
    "Z_t := \\rho W_t + \\sqrt{1 - \\rho^2} Z_t,\n",
    "\\end{equation}"
   ]
  },
  {
   "cell_type": "markdown",
   "metadata": {},
   "source": [
    "The core goal is to design and train neural networks on GPU Accelerated Monte Carlo-generated datasets, making them scalable and\n",
    "reusable for a variety of applications. These datasets will act as benchmarks, offering\n",
    "open access to models that will aid data scientists in developing efficient methods without\n",
    "requiring deep knowledge of the underlying pricing model."
   ]
  },
  {
   "cell_type": "markdown",
   "metadata": {},
   "source": [
    "## Importing Libraries"
   ]
  },
  {
   "cell_type": "code",
   "execution_count": 74,
   "metadata": {},
   "outputs": [],
   "source": [
    "from numba import cuda\n",
    "import numpy as np\n",
    "from scipy.stats import norm\n",
    "import torch\n",
    "from torch import nn\n",
    "import torch.nn.functional as F\n",
    "from torch.optim import Adam\n",
    "import matplotlib.pyplot as plt\n",
    "from time import time\n",
    "import pandas as pd\n",
    "import os\n",
    "import copy\n",
    "import scipy.stats as stats\n",
    "from sklearn.metrics import r2_score\n",
    "import polars as pl\n",
    "import re\n",
    "device = torch.device('cpu') \n"
   ]
  },
  {
   "cell_type": "code",
   "execution_count": 104,
   "metadata": {},
   "outputs": [
    {
     "data": {
      "text/plain": [
       "device(type='cuda', index=0)"
      ]
     },
     "execution_count": 104,
     "metadata": {},
     "output_type": "execute_result"
    }
   ],
   "source": [
    "device = torch.device(\"cpu\")\n",
    "if torch.cuda.is_available():\n",
    "    device = torch.device(\"cuda:0\")\n",
    "device"
   ]
  },
  {
   "cell_type": "code",
   "execution_count": 67,
   "metadata": {},
   "outputs": [],
   "source": [
    "#dir = ! pwd\n",
    "#dir = dir[0]"
   ]
  },
  {
   "cell_type": "code",
   "execution_count": 68,
   "metadata": {},
   "outputs": [
    {
     "name": "stdout",
     "output_type": "stream",
     "text": [
      " Volume in drive D is DATA\n",
      " Volume Serial Number is 12D0-7A9C\n",
      "\n",
      " Directory of D:\\Testing\\Validation\n",
      "\n",
      "02/11/2025  05:13 PM    <DIR>          .\n",
      "03/17/2025  10:59 AM    <DIR>          ..\n",
      "10/20/2024  07:04 PM         1,134,930 Tmt0.2500Str0.9752.csv\n",
      "10/20/2024  07:04 PM         1,134,930 Tmt0.2500Str1.0254.csv\n",
      "10/20/2024  07:04 PM         1,134,930 Tmt0.2500Str1.0782.csv\n",
      "10/20/2024  07:04 PM         1,134,930 Tmt0.5000Str0.9570.csv\n",
      "10/20/2024  07:04 PM         1,134,930 Tmt0.5000Str1.0449.csv\n",
      "10/20/2024  07:04 PM         1,134,930 Tmt0.5000Str1.1408.csv\n",
      "10/20/2024  07:04 PM         1,134,930 Tmt1.0000Str0.9217.csv\n",
      "10/20/2024  07:04 PM         1,134,930 Tmt1.0000Str1.0850.csv\n",
      "10/20/2024  07:04 PM         1,134,930 Tmt1.0000Str1.2772.csv\n",
      "10/20/2024  07:04 PM         1,134,930 Tmt1.5000Str0.8876.csv\n",
      "10/20/2024  07:04 PM         1,134,930 Tmt1.5000Str1.1266.csv\n",
      "10/20/2024  07:04 PM         1,134,930 Tmt1.5000Str1.4299.csv\n",
      "10/20/2024  07:04 PM         1,134,930 Tmt2.0000Str0.8548.csv\n",
      "10/20/2024  07:04 PM         1,134,930 Tmt2.0000Str1.1698.csv\n",
      "10/20/2024  07:04 PM         1,134,930 Tmt2.0000Str1.6009.csv\n",
      "              15 File(s)     17,023,950 bytes\n",
      "               2 Dir(s)  1,659,242,262,528 bytes free\n"
     ]
    }
   ],
   "source": [
    "!dir"
   ]
  },
  {
   "cell_type": "markdown",
   "metadata": {},
   "source": [
    "## Inference set division into traning and validation set \n",
    "\n",
    "Since the generated data is intended for training neural networks, two files will be produced for VG model: one corresponding to the training set,\n",
    "and the other for the inference set. The inference set will be divided into test and valida-\n",
    "tion sets, which will allow us to evaluate how well our neural network model generalizes\n",
    "to new, unseen data and perform statistical analysis on the test set.\n"
   ]
  },
  {
   "cell_type": "code",
   "execution_count": 77,
   "metadata": {},
   "outputs": [
    {
     "name": "stdout",
     "output_type": "stream",
     "text": [
      "Files have been successfully divided into testing and validation datasets.\n"
     ]
    }
   ],
   "source": [
    "import os\n",
    "import shutil\n",
    "\n",
    "# Paths to the folders\n",
    "inference_data_folder =  'D:/etud/Brice/Testing/Inference'  \n",
    "testing_data_folder = 'D:/etud/Brice/Testing/Test'      \n",
    "validation_data_folder = 'D:/etud/Brice/Testing/Validation'    \n",
    "\n",
    "# Create the testing and validation folders if they don't exist\n",
    "os.makedirs(testing_data_folder, exist_ok=True)\n",
    "os.makedirs(validation_data_folder, exist_ok=True)\n",
    "\n",
    "# List all files in the inference_data folder\n",
    "files = os.listdir(inference_data_folder)\n",
    "\n",
    "# Loop through files and distribute them alternately\n",
    "for i, filename in enumerate(files):\n",
    "    source_file = os.path.join(inference_data_folder, filename)\n",
    "    \n",
    "    if i % 2 == 0:\n",
    "        destination_folder = testing_data_folder\n",
    "    else:\n",
    "        destination_folder = validation_data_folder\n",
    "    \n",
    "    # Move the file to the appropriate folder\n",
    "    shutil.move(source_file, os.path.join(destination_folder, filename))\n",
    "\n",
    "print(\"Files have been successfully divided into testing and validation datasets.\")\n"
   ]
  },
  {
   "cell_type": "markdown",
   "metadata": {},
   "source": [
    "## Preprocessing Testing,Validation and Test  Data"
   ]
  },
  {
   "cell_type": "markdown",
   "metadata": {},
   "source": [
    "In the data preprocessing , we first add two columns specefically for maturity and strike ,then we remove the aberrant values corresponding to the errors which are greater to the prices and finally we randomize the data :\n",
    "\n",
    "•The generated files only contain the model\n",
    "parameters, prices, and errors. Maturity and strike values are extracted from the\n",
    "filenames and appended as new columns.\n",
    "\n",
    "• Removing aberrant values: First, ensure no null values are present. If there are\n",
    "zero values, this is acceptable, as zero can be a valid outcome. Aberrant values are\n",
    "identified as rows where the price is less than the error (indicating that the error is\n",
    "disproportionately large compared to the price), suggesting that the price might be\n",
    "inaccurate.\n",
    "\n",
    "• Randomizing the data: It is crucial to shuffle the data to prevent any structured\n",
    "order, such as maturities sorted from lowest to highest. If the model is trained on\n",
    "such structured data, it may fit better to higher maturities while neglecting the\n",
    "lower ones, hence the importance of randomization.\n",
    "\n",
    "Those steps will be performed for the training ,validation and test data "
   ]
  },
  {
   "cell_type": "markdown",
   "metadata": {},
   "source": [
    "## 1.Preprocessing Test Data"
   ]
  },
  {
   "cell_type": "code",
   "execution_count": 78,
   "metadata": {},
   "outputs": [
    {
     "name": "stdout",
     "output_type": "stream",
     "text": [
      "Updated DataFrame with 'maturity' and 'strike' as the first two columns:\n",
      "Index(['maturity', 'strike', 'alpha', ' beta', ' m', ' rho', ' Y0', ' price',\n",
      "       ' 95cI', ' numTraj'],\n",
      "      dtype='object')\n",
      "Removed rows: [123119, 145295, 148823, 150478, 152997, 153179, 154292, 154654, 154655, 154686, 154722, 154832, 154902, 155051]\n",
      "Updated DataFrame:\n",
      "       maturity  strike  alpha      beta         m   rho        Y0     price  \\\n",
      "0        0.2500  0.9486    0.2  0.313050 -1.203973  0.05 -1.049822  0.097246   \n",
      "1        0.2500  0.9486    0.2  0.313050 -1.203973  0.05 -1.309333  0.082721   \n",
      "2        0.2500  0.9486    0.2  0.313050 -1.203973  0.05 -1.609438  0.070421   \n",
      "3        0.2500  0.9486    0.2  0.313050 -1.203973  0.05 -1.832582  0.063736   \n",
      "4        0.2500  0.9486    0.2  0.313050 -1.203973  0.05 -2.120264  0.057999   \n",
      "...         ...     ...    ...       ...       ...   ...       ...       ...   \n",
      "155501   2.0000  1.3910   25.6  8.237747 -2.813411 -0.95 -1.309333  0.001900   \n",
      "155502   2.0000  1.3910   25.6  8.237747 -2.813411 -0.95 -1.609438  0.001703   \n",
      "155503   2.0000  1.3910   25.6  8.237747 -2.813411 -0.95 -1.832582  0.001592   \n",
      "155504   2.0000  1.3910   25.6  8.237747 -2.813411 -0.95 -2.120264  0.001492   \n",
      "155505   2.0000  1.3910   25.6  8.237747 -2.813411 -0.95 -2.525729  0.001286   \n",
      "\n",
      "            95cI   numTraj  \n",
      "0       0.000713    131072  \n",
      "1       0.000565    131072  \n",
      "2       0.000432    131072  \n",
      "3       0.000359    131072  \n",
      "4       0.000286    131072  \n",
      "...          ...       ...  \n",
      "155501  0.000070    131072  \n",
      "155502  0.000065    131072  \n",
      "155503  0.000063    131072  \n",
      "155504  0.000059    131072  \n",
      "155505  0.000054    131072  \n",
      "\n",
      "[155506 rows x 10 columns]\n",
      "Final testing data:\n",
      "       maturity  strike  alpha      beta         m   rho        Y0     price  \\\n",
      "0        1.0000  1.1872    0.4  0.772161 -2.407946 -0.35 -1.049822  0.058186   \n",
      "1        1.5000  1.2851    6.4  3.527193 -2.813411 -0.95 -2.120264  0.000000   \n",
      "2        0.2500  1.0000    0.4  0.775051 -1.427116 -0.55 -1.309333  0.055407   \n",
      "3        0.5000  1.0000    0.2  0.591310 -1.714798 -0.75 -1.609438  0.057838   \n",
      "4        0.5000  1.0000    1.6  1.707311 -2.407946  0.05 -1.832582  0.051259   \n",
      "...         ...     ...    ...       ...       ...   ...       ...       ...   \n",
      "155501   0.2500  0.9486    6.4  3.330153 -1.427116 -0.75 -1.832582  0.091247   \n",
      "155502   1.5000  0.7782    6.4  2.579525 -1.427116 -0.75 -1.049822  0.304608   \n",
      "155503   0.2500  0.9486    0.2  0.522000 -2.040221  0.05 -1.832582  0.063374   \n",
      "155504   2.0000  1.3910    6.4  3.527193 -2.813411 -0.75 -2.525729  0.000242   \n",
      "155505   0.2500  1.0542    3.2  2.414503 -2.407946 -0.95 -1.832582  0.005672   \n",
      "\n",
      "            95cI   numTraj  \n",
      "0       0.000880    131072  \n",
      "1       0.000000    131072  \n",
      "2       0.000433    131072  \n",
      "3       0.000425    131072  \n",
      "4       0.000589    131071  \n",
      "...          ...       ...  \n",
      "155501  0.000454    131072  \n",
      "155502  0.001746    131072  \n",
      "155503  0.000360    131072  \n",
      "155504  0.000028    131072  \n",
      "155505  0.000062    131072  \n",
      "\n",
      "[155506 rows x 10 columns]\n",
      "maturity    float64\n",
      "strike      float64\n",
      "alpha       float64\n",
      " beta       float64\n",
      " m          float64\n",
      " rho        float64\n",
      " Y0         float64\n",
      " price      float64\n",
      " 95cI       float64\n",
      " numTraj      int64\n",
      "dtype: object\n"
     ]
    }
   ],
   "source": [
    "\"\"\"\"\"\"\"\"\"\"\"\"\"Data Preprocessing\"\"\"\"\"\"\"\"\"\"\"\"\"\"\"\"\"\"\"\n",
    "\n",
    "\"\"\"1.Gathering different execls data in one table and adding maturity and strike parameters  :testing_data \"\"\"\n",
    "\n",
    "# Specify the directory containing the CSV files\n",
    "inference_folder_path = 'D:/etud/Brice/Testing/Test'\n",
    "\n",
    "# Initialize an empty list to hold all the DataFrames \n",
    "data = []\n",
    "\n",
    "# Loop over all files in the directory\n",
    "for filename in os.listdir(inference_folder_path):\n",
    "    \n",
    "    \n",
    "        # Extract the base name without the extension\n",
    "        base_name = os.path.splitext(filename)[0]\n",
    "        \n",
    "        # Split the filename based on the known format\n",
    "        parts = base_name.split('Str')\n",
    "        \n",
    "        if len(parts) == 2:\n",
    "            # Extract maturity and strike parts\n",
    "            maturity_part = parts[0].replace('Tmt', '').strip()\n",
    "            strike_part = parts[1].strip()\n",
    "            \n",
    "            # Add the DataFrame and the new columns\n",
    "            file_path = os.path.join(inference_folder_path, filename)\n",
    "            df = pd.read_csv(file_path)\n",
    "            df['maturity'] = maturity_part\n",
    "            df['strike'] = strike_part\n",
    "            \n",
    "            # Reorder columns to place 'maturity' and 'strike' as the first two columns\n",
    "            df = df[['maturity', 'strike'] + [col for col in df.columns if col not in ['maturity', 'strike']]]\n",
    "            \n",
    "            # Append DataFrame to the list\n",
    "            data.append(df)\n",
    "\n",
    "# Combine all DataFrames into a single DataFrame\n",
    "inference_table_data = pd.concat(data, ignore_index=True)\n",
    "\n",
    "# Print the updated DataFrame with 'maturity' and 'strike' as the first two columns\n",
    "print(\"Updated DataFrame with 'maturity' and 'strike' as the first two columns:\")\n",
    "print(inference_table_data.columns)\n",
    "\n",
    "\n",
    "\n",
    "\n",
    "\n",
    "\"\"\"2.remove aberrant values: error>price\"\"\"\n",
    "# Create a list to keep track of removed indices\n",
    "removed_indices = []\n",
    "\n",
    "# Iterate over the DataFrame rows\n",
    "for index in range(len(inference_table_data)):\n",
    "    # Check if \"error\" is greater than \"price\" for the current row\n",
    " if (inference_table_data.loc[index,' 95cI'] > inference_table_data.loc[index, ' price']):        # Append the index of the row to the removed_indices list\n",
    "        removed_indices.append(index)\n",
    "\n",
    "# Drop the rows with indices in removed_indices\n",
    "inference_table_data = inference_table_data.drop(removed_indices).reset_index(drop=True)\n",
    "\n",
    "# Print the indices of the removed rows\n",
    "print(f\"Removed rows: {removed_indices}\")\n",
    "\n",
    "# Optionally, print the updated DataFrame\n",
    "print(\"Updated DataFrame:\")\n",
    "print(inference_table_data)\n",
    "\n",
    "\n",
    "\n",
    "\n",
    "\n",
    "\"\"\"3.Randomize Data\"\"\"\n",
    "\n",
    "# Shuffle the DataFrame\n",
    "shuffled_test = inference_table_data.sample(frac=1, random_state=None).reset_index(drop=True)\n",
    "\n",
    "#Print the shuffled DataFrame\n",
    "print(\"Final testing data:\")\n",
    "print(shuffled_test)\n",
    "# Convert 'maturity' and 'strike' columns to float64\n",
    "shuffled_test['maturity'] = pd.to_numeric(shuffled_test['maturity'], errors='coerce')\n",
    "shuffled_test['strike'] = pd.to_numeric(shuffled_test['strike'], errors='coerce')\n",
    "\n",
    "# Verify the conversion\n",
    "print(shuffled_test.dtypes)\n",
    "\n"
   ]
  },
  {
   "cell_type": "markdown",
   "metadata": {},
   "source": [
    "## 2.Preprocessing Validation Data"
   ]
  },
  {
   "cell_type": "code",
   "execution_count": 79,
   "metadata": {},
   "outputs": [
    {
     "name": "stdout",
     "output_type": "stream",
     "text": [
      "Removed rows: [55799, 57635, 59183, 61234, 61703, 85211, 86831, 88450, 88486, 89921, 90573, 90610, 91613, 91649, 91798, 92230, 92261, 92692, 114077, 115846, 115882, 116026, 116098, 116351, 118115, 118151, 118259, 119409, 119553, 119806, 119878, 119948, 120059, 120164, 120983, 121133, 121205, 121281, 121421, 121460, 121890, 122000, 122003, 122142, 122286, 122399, 122711, 122721, 122825, 122969, 123045, 123080, 123116, 123148, 123149, 123187, 123259, 123332, 123364, 123474, 123549, 123616, 123617, 123726, 124005, 124046, 124047, 124195, 124222, 124223, 124224, 124261, 145253, 145289, 145365, 145402, 145474, 145510, 145619, 145727, 146981, 147057, 147310, 147346, 148631, 148673, 148709, 148713, 148929, 149109, 149145, 149289, 149326, 149363, 150437, 150581, 150584, 150656, 150765, 151015, 151088, 151231, 151340, 151342, 151486, 152165, 152240, 152276, 152456, 152527, 152671, 152740, 152741, 152814, 152923, 152924, 152957, 153102, 153172, 153357, 153503, 153815, 153824, 153851, 153893, 153929, 153965, 153968, 154073, 154109, 154219, 154252, 154289, 154398, 154434, 154435, 154466, 154504, 154652, 154680, 154717, 154756, 154757, 154971, 154973, 155106, 155108, 155146, 155185, 155186, 155188, 155316, 155320, 155368, 155402, 155405]\n",
      "Updated DataFrame:\n",
      "       maturity  strike  alpha      beta         m   rho        Y0     price  \\\n",
      "0        0.2500  0.9739    0.2  0.313050 -1.203973  0.05 -1.049822  0.083253   \n",
      "1        0.2500  0.9739    0.2  0.313050 -1.203973  0.05 -1.309333  0.067803   \n",
      "2        0.2500  0.9739    0.2  0.313050 -1.203973  0.05 -1.609438  0.054262   \n",
      "3        0.2500  0.9739    0.2  0.313050 -1.203973  0.05 -1.832582  0.046635   \n",
      "4        0.2500  0.9739    0.2  0.313050 -1.203973  0.05 -2.120264  0.039680   \n",
      "...         ...     ...    ...       ...       ...   ...       ...       ...   \n",
      "155359   2.0000  1.6406   25.6  8.237747 -2.813411 -0.95 -1.309333  0.000001   \n",
      "155360   2.0000  1.6406   25.6  8.237747 -2.813411 -0.95 -1.609438  0.000000   \n",
      "155361   2.0000  1.6406   25.6  8.237747 -2.813411 -0.95 -1.832582  0.000001   \n",
      "155362   2.0000  1.6406   25.6  8.237747 -2.813411 -0.95 -2.120264  0.000001   \n",
      "155363   2.0000  1.6406   25.6  8.237747 -2.813411 -0.95 -2.525729  0.000001   \n",
      "\n",
      "            95cI   numTraj  \n",
      "0       0.000673    131072  \n",
      "1       0.000519    131072  \n",
      "2       0.000390    131072  \n",
      "3       0.000319    131072  \n",
      "4       0.000251    131072  \n",
      "...          ...       ...  \n",
      "155359  0.000001    131072  \n",
      "155360  0.000000    131072  \n",
      "155361  0.000001    131072  \n",
      "155362  0.000001    131072  \n",
      "155363  0.000001    131072  \n",
      "\n",
      "[155364 rows x 10 columns]\n",
      "Final Training Data:\n",
      "       maturity  strike  alpha      beta         m   rho        Y0     price  \\\n",
      "0        1.5000  1.4568    6.4  3.593060 -1.714798 -0.75 -2.525729  0.020348   \n",
      "1        1.5000  0.8821   25.6  4.604276 -2.407946 -0.95 -1.832582  0.142620   \n",
      "2        0.5000  0.9548    1.6  1.774459 -2.040221  0.05 -1.609438  0.091882   \n",
      "3        2.0000  1.1794   25.6  6.689913 -1.714798 -0.95 -2.120264  0.135299   \n",
      "4        1.5000  0.8821    0.8  1.084435 -1.203973  0.05 -2.525729  0.167399   \n",
      "...         ...     ...    ...       ...       ...   ...       ...       ...   \n",
      "155359   1.5000  1.4568   25.6  5.905756 -2.040221 -0.95 -2.120264  0.002641   \n",
      "155360   1.5000  0.8821    1.6  1.037227 -1.714798 -0.15 -1.832582  0.169094   \n",
      "155361   1.0000  1.0896    1.6  1.550102 -1.427116 -0.55 -2.120264  0.054411   \n",
      "155362   1.5000  1.4568    0.2  0.591310 -1.714798 -0.55 -1.309333  0.018989   \n",
      "155363   1.5000  1.1336    0.8  0.626099 -1.203973 -0.15 -1.049822  0.126201   \n",
      "\n",
      "            95cI   numTraj  \n",
      "0       0.000479    131072  \n",
      "1       0.000668    131072  \n",
      "2       0.000923    131072  \n",
      "3       0.001357    131072  \n",
      "4       0.001517    131059  \n",
      "...          ...       ...  \n",
      "155359  0.000095    131072  \n",
      "155360  0.001193    131072  \n",
      "155361  0.000689    131072  \n",
      "155362  0.000524    131072  \n",
      "155363  0.001734    131071  \n",
      "\n",
      "[155364 rows x 10 columns]\n",
      "Index(['maturity', 'strike', 'alpha', ' beta', ' m', ' rho', ' Y0', ' price',\n",
      "       ' 95cI', ' numTraj'],\n",
      "      dtype='object')\n"
     ]
    }
   ],
   "source": [
    "\"\"\"\"\"\"\"\"\"\"\"\"\"Data Preprocessing\"\"\"\"\"\"\"\"\"\"\"\"\"\"\"\"\"\"\"\n",
    "\n",
    "\"\"\"1.Gathering different execls data in one table : validation_data\"\"\"\n",
    "\n",
    "# Specify the directory containing the CSV files\n",
    "validation_folder_path = 'D:/etud/Brice//Testing/Validation'\n",
    "\n",
    "# Initialize an empty list to hold all the DataFrames\n",
    "data = []\n",
    "\n",
    "# Loop over all files in the directory\n",
    "for filename in os.listdir(validation_folder_path):\n",
    "   \n",
    "       # Extract the base name without the extension\n",
    "        base_name = os.path.splitext(filename)[0]\n",
    "        \n",
    "        # Split the filename based on the known format\n",
    "        parts = base_name.split('Str')\n",
    "        \n",
    "        if len(parts) == 2:\n",
    "            # Extract maturity and strike parts\n",
    "            maturity_part = parts[0].replace('Tmt', '').strip()\n",
    "            strike_part = parts[1].strip()\n",
    "            \n",
    "            # Add the DataFrame and the new columns\n",
    "            file_path = os.path.join(validation_folder_path, filename)\n",
    "            df = pd.read_csv(file_path)\n",
    "            df['maturity'] = maturity_part\n",
    "            df['strike'] = strike_part\n",
    "            \n",
    "            # Reorder columns to place 'maturity' and 'strike' as the first two columns\n",
    "            df = df[['maturity', 'strike'] + [col for col in df.columns if col not in ['maturity', 'strike']]]\n",
    "            \n",
    "            # Append DataFrame to the list\n",
    "            data.append(df)\n",
    "\n",
    "# Concatenate all the DataFrames into a single DataFrame\n",
    "validation_table_data = pd.concat(data, ignore_index=True)\n",
    "\n",
    "\n",
    "\n",
    "\n",
    "\n",
    "\"\"\"2.remove aberrant values: error>price\"\"\"\n",
    "# Create a list to keep track of removed indices\n",
    "removed_indices = []\n",
    "\n",
    "# Iterate over the DataFrame rows\n",
    "for index in range(len(validation_table_data)):\n",
    "    # Check if \"error\" is greater than \"price\" for the current row\n",
    "    if validation_table_data.loc[index, ' 95cI'] > validation_table_data.loc[index, ' price']:\n",
    "        # Append the index of the row to the removed_indices list\n",
    "        removed_indices.append(index)\n",
    "\n",
    "# Drop the rows with indices in removed_indices\n",
    "validation_table_data = validation_table_data.drop(removed_indices).reset_index(drop=True)\n",
    "\n",
    "# Print the indices of the removed rows\n",
    "print(f\"Removed rows: {removed_indices}\")\n",
    "\n",
    "# Optionally, print the updated DataFrame\n",
    "print(\"Updated DataFrame:\")\n",
    "print(validation_table_data)\n",
    "\n",
    "\n",
    "\n",
    "\n",
    "\n",
    "\"\"\"3.Randomize Data\"\"\"\n",
    "\n",
    "# Shuffle the DataFrame\n",
    "shuffled_validation = validation_table_data.sample(frac=1, random_state=None).reset_index(drop=True)\n",
    "\n",
    "# Print the shuffled DataFrame\n",
    "print(\"Final Training Data:\")\n",
    "print(shuffled_validation)\n",
    "\n",
    "# Convert 'maturity' and 'strike' columns to float64\n",
    "shuffled_validation['maturity'] = pd.to_numeric(shuffled_validation['maturity'], errors='coerce')\n",
    "shuffled_validation['strike'] = pd.to_numeric(shuffled_validation['strike'], errors='coerce')\n",
    "\n",
    "# Verify the conversion\n",
    "print(shuffled_validation.columns)\n",
    "\n",
    "\n"
   ]
  },
  {
   "cell_type": "markdown",
   "metadata": {},
   "source": [
    "## 3.Preprocessing Training Data"
   ]
  },
  {
   "cell_type": "code",
   "execution_count": 80,
   "metadata": {},
   "outputs": [
    {
     "name": "stdout",
     "output_type": "stream",
     "text": [
      "Index(['maturity', 'strike', 'alpha', ' beta', ' m', ' rho', ' Y0', ' price',\n",
      "       ' 95cI', ' numTraj'],\n",
      "      dtype='object')\n",
      "Removed rows: [165707, 486719, 486935, 487115, 494819, 495143, 496367, 496439, 496799, 497123, 497159, 497375, 497519, 642203, 642239, 650303, 650339, 651995, 652175, 652391, 652570, 657035, 657071, 657179, 657215, 657251, 658979, 659159, 660599, 660851, 661283, 662111, 662147, 662687, 663369, 663443, 807875, 808127, 814283, 815939, 816119, 816155, 816227, 816263, 816299, 816515, 817703, 817811, 818171, 818351, 818387, 818531, 818675, 819467, 819503, 821195, 821231, 821375, 822815, 822851, 822887, 822923, 822995, 823067, 823103, 824399, 824867, 826055, 826127, 826451, 826631, 826775, 826847, 826919, 827135, 828430, 828466, 828575, 828682, 828718, 828755, 828791, 828825, 828861, 828934, 828935, 829113, 829151, 971531, 973331, 973367, 973547, 973619, 973871, 978263, 980243, 980315, 981647, 981719, 981935, 982295, 982439, 982475, 984059, 984166, 984238, 984275, 984345, 984381, 984634, 984671, 984778, 984815, 985175, 985247, 985355, 985535, 987191, 987227, 987263, 987299, 987335, 988487, 988523, 988703, 988919, 988955, 988991, 989027, 989063, 990971, 991043, 991907, 992447, 992554, 992699, 992843, 992879, 993707, 993737, 994138, 994390, 994426, 994533, 994606, 994642, 994679, 995003, 995075, 995143, 995218, 1137347, 1137383, 1137419, 1137455, 1139111, 1139147, 1139327, 1139363, 1139543, 1139723, 1139759, 1139866, 1139939, 1139975, 1140695, 1142387, 1142423, 1142567, 1142819, 1144223, 1144367, 1144511, 1144547, 1145771, 1145807, 1146203, 1146239, 1147643, 1147679, 1148003, 1148039, 1148183, 1148363, 1149838, 1149874, 1149910, 1149947, 1149983, 1150017, 1150089, 1150199, 1150306, 1150343, 1150379, 1150448, 1150484, 1150485, 1150521, 1150703, 1150919, 1151387, 1151423, 1151459, 1152647, 1152827, 1153079, 1153115, 1153151, 1153187, 1153223, 1154375, 1154411, 1154771, 1155023, 1155059, 1156715, 1156787, 1156931, 1156967, 1157897, 1158478, 1158550, 1158587, 1158657, 1158730, 1158767, 1158803, 1158874, 1158909, 1158911, 1158946, 1159090, 1159127, 1159589, 1159625, 1159918, 1159949, 1160062, 1160099, 1160205, 1160313, 1160314, 1160381, 1160420, 1160421, 1160493, 1160494, 1160529, 1160566, 1160597, 1160636, 1160783, 1160887, 1160924, 1160925, 1160962, 1161067, 1161143, 1295207, 1301507, 1301579, 1301615, 1303163, 1303199, 1303415, 1303487, 1303595, 1303631, 1304963, 1305035, 1305431, 1305467, 1305574, 1305790, 1305826, 1305969, 1306475, 1306583, 1306727, 1306799, 1308491, 1310327, 1311659, 1311947, 1311983, 1312091, 1312163, 1313315, 1313999, 1314107, 1314215, 1314287, 1314395, 1314431, 1315546, 1315835, 1315941, 1316014, 1316050, 1316120, 1316156, 1316193, 1316230, 1316267, 1316303, 1316371, 1316589, 1316591, 1316771, 1316807, 1317275, 1317311, 1317347, 1318529, 1319039, 1319075, 1320329, 1320401, 1320803, 1320911, 1320947, 1322021, 1322093, 1322129, 1322278, 1322350, 1322459, 1322711, 1323677, 1323713, 1323785, 1323857, 1324114, 1324295, 1324330, 1324438, 1324439, 1324475, 1324511, 1324546, 1324581, 1324618, 1324655, 1324691, 1324761, 1324763, 1324871, 1324979, 1325014, 1325441, 1325513, 1325549, 1325554, 1325590, 1325621, 1325657, 1325693, 1325873, 1325914, 1326022, 1326057, 1326202, 1326237, 1326238, 1326239, 1326269, 1326344, 1326417, 1326485, 1326487, 1326596, 1326633, 1326670, 1326671, 1326701, 1326702, 1326811, 1326849, 1326851, 1326887, 1326917, 1326954, 1327028, 1327030, 1460519, 1460555, 1460735, 1460771, 1465559, 1465739, 1465775, 1467143, 1467287, 1467611, 1469087, 1469231, 1469699, 1470779, 1471139, 1471210, 1471318, 1471391, 1471461, 1471462, 1471498, 1471534, 1471571, 1471893, 1472074, 1472075, 1472399, 1472615, 1472687, 1474307, 1474343, 1474379, 1474415, 1475999, 1476071, 1476287, 1478015, 1478051, 1478159, 1478195, 1479815, 1479886, 1479959, 1479995, 1480031, 1480138, 1480139, 1480175, 1480318, 1480355, 1480931, 1481069, 1481141, 1481290, 1481357, 1481470, 1481542, 1481650, 1481685, 1481759, 1481789, 1481828, 1481901, 1482080, 1482118, 1482119, 1482154, 1482221, 1482298, 1482439, 1482441, 1482476, 1482477, 1482513, 1482514, 1482659, 1482833, 1483163, 1483271, 1484387, 1484417, 1484453, 1484489, 1484819, 1484891, 1484999, 1486109, 1486181, 1486253, 1486289, 1486438, 1486655, 1486799, 1487837, 1487873, 1487909, 1487945, 1488053, 1488094, 1488202, 1488238, 1488274, 1488346, 1488563, 1489565, 1489595, 1489637, 1489673, 1489709, 1489714, 1489750, 1489781, 1489817, 1489853, 1489858, 1489966, 1489997, 1490217, 1490253, 1490289, 1490326, 1490362, 1490432, 1490469, 1490505, 1490541, 1490542, 1490649, 1490684, 1490721, 1490795, 1491329, 1491365, 1491370, 1491406, 1491437, 1491442, 1491473, 1491478, 1491509, 1491514, 1491545, 1491581, 1491725, 1491873, 1491981, 1492089, 1492090, 1492125, 1492126, 1492157, 1492233, 1492304, 1492343, 1492372, 1492446, 1492484, 1492558, 1492559, 1492589, 1492698, 1492699, 1492700, 1492738, 1492775, 1492803, 1492804, 1492879, 1492917, 1492918, 1624499, 1624751, 1625039, 1626155, 1626335, 1626407, 1626479, 1626623, 1626803, 1626839, 1627162, 1627198, 1627991, 1629647, 1629683, 1629863, 1631411, 1631519, 1633139, 1633175, 1633247, 1633391, 1633427, 1634723, 1634831, 1635119, 1635371, 1635443, 1635479, 1636847, 1636918, 1636954, 1637027, 1637098, 1637134, 1637206, 1637313, 1637422, 1637459, 1637529, 1637601, 1637602, 1637638, 1637675, 1637746, 1637781, 1637818, 1637963, 1638215, 1638539, 1638575, 1640231, 1642247, 1643393, 1645121, 1645378, 1645414, 1645450, 1645558, 1645630, 1645703, 1645846, 1646027, 1646062, 1646063, 1646099, 1646170, 1646207, 1646243, 1646387, 1646813, 1646885, 1647029, 1647065, 1647070, 1647106, 1647142, 1647178, 1647245, 1647394, 1647461, 1647465, 1647501, 1647537, 1647573, 1647610, 1647752, 1647826, 1647893, 1647895, 1647931, 1647967, 1648004, 1648042, 1648079, 1648109, 1648183, 1648221, 1648258, 1648259, 1648326, 1648402, 1648577, 1648685, 1649015, 1649159, 1650305, 1650377, 1650449, 1651997, 1652141, 1652182, 1652213, 1652615, 1652687, 1652723, 1653719, 1653761, 1653833, 1653838, 1653869, 1653874, 1653905, 1653910, 1653941, 1653977, 1654018, 1654162, 1654234, 1654343, 1654450, 1654594, 1654631, 1654667, 1655447, 1655483, 1655489, 1655530, 1655561, 1655566, 1655638, 1655705, 1655818, 1655885, 1655998, 1656034, 1656035, 1656070, 1656141, 1656177, 1656213, 1656214, 1656250, 1656320, 1656392, 1656429, 1656503, 1656572, 1656609, 1656647, 1656789, 1656790, 1657175, 1657181, 1657186, 1657289, 1657294, 1657325, 1657361, 1657391, 1657397, 1657469, 1657505, 1657613, 1657797, 1657865, 1657868, 1657977, 1658013, 1658044, 1658083, 1658155, 1658192, 1658228, 1658229, 1658230, 1658259, 1658260, 1658297, 1658407, 1658409, 1658443, 1658444, 1658474, 1658475, 1658476, 1658477, 1658512, 1658550, 1658623, 1658626, 1658661, 1658688, 1658692, 1658693, 1658766, 1658806, 1658842, 1658843, 1788695, 1790495, 1790531, 1790567, 1790603, 1790747, 1790783, 1792007, 1792115, 1792187, 1792295, 1792367, 1792763, 1792870, 1792943, 1793303, 1793843, 1793879, 1795499, 1795751, 1795787, 1797191, 1797371, 1797407, 1797443, 1797479, 1797551, 1798883, 1798919, 1798991, 1799135, 1799243, 1799387, 1799423, 1801151, 1801187, 1801223, 1801367, 1801474, 1801510, 1801583, 1802698, 1802735, 1802770, 1802914, 1803057, 1803131, 1803273, 1803309, 1803310, 1803346, 1803347, 1803383, 1803416, 1803563, 1803669, 1803705, 1803706, 1803849, 1803886, 1803887, 1804103, 1804283, 1804319, 1804463, 1807517, 1808063, 1808099, 1809245, 1809317, 1809863, 1810007, 1811009, 1811045, 1811158, 1811230, 1811261, 1811266, 1811302, 1811374, 1811410, 1811482, 1811518, 1811555, 1811591, 1811734, 1811771, 1811807, 1811841, 1811878, 1811914, 1811951, 1812058, 1812093, 1812095, 1812275, 1812701, 1812850, 1812922, 1812953, 1813133, 1813209, 1813245, 1813282, 1813318, 1813349, 1813352, 1813424, 1813498, 1813534, 1813603, 1813749, 1813750, 1813781, 1813818, 1813892, 1813893, 1813928, 1813929, 1813966, 1813967, 1813995, 1814073, 1814108, 1814288, 1814289, 1814290, 1814326, 1814327, 1814465, 1814501, 1814573, 1814867, 1814903, 1815011, 1816193, 1816229, 1816265, 1816301, 1816306, 1816337, 1816342, 1816486, 1816522, 1816667, 1816703, 1816739, 1816775, 1817885, 1817921, 1817957, 1817998, 1818029, 1818034, 1818065, 1818137, 1818178, 1818214, 1818358, 1818503, 1818539, 1818575, 1818611, 1818647, 1819649, 1819654, 1819685, 1819721, 1819757, 1819793, 1819865, 1819901, 1819906, 1819942, 1820014, 1820122, 1820158, 1820338, 1820375, 1820447, 1820482, 1820518, 1820591, 1821449, 1821485, 1821521, 1821557, 1821593, 1821777, 1821849, 1821958, 1822101, 1822102, 1822103, 1822138, 1822139, 1822174, 1822175, 1822208, 1822244, 1822280, 1822316, 1822317, 1822355, 1822460, 1822534, 1822535, 1822570, 1822571, 1823074, 1823135, 1823177, 1823182, 1823249, 1823279, 1823321, 1823357, 1823393, 1823397, 1823429, 1823537, 1823573, 1823685, 1823716, 1823717, 1823792, 1823828, 1823864, 1823901, 1823902, 1823903, 1823931, 1823932, 1823933, 1823969, 1824043, 1824079, 1824080, 1824117, 1824146, 1824147, 1824185, 1824335, 1824361, 1824362, 1824401, 1824474, 1824511, 1824548, 1824549, 1824550, 1824576, 1824578, 1824616, 1824691, 1824729, 1954511, 1954547, 1956203, 1956239, 1956455, 1956563, 1956779, 1956815, 1957967, 1958255, 1958435, 1958615, 1958794, 1958795, 1959011, 1959154, 1959911, 1961423, 1961639, 1963043, 1963259, 1963403, 1965203, 1965275, 1965311, 1967075, 1967111, 1967146, 1967255, 1967362, 1967398, 1967435, 1968586, 1968658, 1968766, 1968802, 1968838, 1968839, 1968873, 1969018, 1969019, 1969054, 1969055, 1969085, 1969124, 1969234, 1969235, 1969271, 1969301, 1969340, 1969413, 1969451, 1969520, 1969555, 1969631, 1969738, 1969774, 1970243, 1971677, 1971821, 1972151, 1973441, 1973879, 1973915, 1973951, 1975169, 1975205, 1975313, 1975426, 1975462, 1975498, 1975606, 1975642, 1975678, 1975751, 1975822, 1975895, 1976039, 1976861, 1976897, 1976933, 1977010, 1977041, 1977077, 1977082, 1977118, 1977226, 1977262, 1977370, 1977406, 1977407, 1977586, 1977622, 1977623, 1977658, 1977729, 1977765, 1977801, 1977802, 1977839, 1977981, 1977982, 1978019, 1978055, 1978625, 1978661, 1978702, 1978733, 1978805, 1978810, 1978877, 1978954, 1978990, 1979021, 1979025, 1979061, 1979097, 1979133, 1979169, 1979170, 1979206, 1979240, 1979312, 1979348, 1979349, 1979422, 1979453, 1979455, 1979527, 1979528, 1979565, 1979637, 1979638, 1979668, 1979706, 1979742, 1979817, 1979818, 1979819, 1979852, 1979882, 1979883, 1979884, 1979885, 1979995, 1980071, 1980100, 1980101, 1980175, 1980176, 1980214, 1980215, 1980353, 1980755, 1980863, 1982045, 1982081, 1982117, 1982122, 1982225, 1982591, 1982627, 1982663, 1983809, 1983845, 1983850, 1983881, 1983917, 1983922, 1983953, 1983989, 1984030, 1984066, 1984138, 1984174, 1984246, 1984318, 1984391, 1985495, 1985573, 1985609, 1985645, 1985650, 1985681, 1985717, 1985789, 1985825, 1985866, 1985902, 1985974, 1986082, 1986118, 1986189, 1986190, 1986299, 1986407, 1986442, 1986443, 1986587, 1987223, 1987234, 1987270, 1987301, 1987373, 1987409, 1987445, 1987481, 1987553, 1987594, 1987661, 1987701, 1987773, 1987809, 1987810, 1987845, 1987880, 1987916, 1988025, 1988061, 1988062, 1988168, 1988204, 1988241, 1988242, 1988278, 1988279, 1988347, 1988348, 1988383, 1988420, 1988421, 1988564, 1988600, 1988601, 1988602, 1988603, 1988639, 1989023, 1989065, 1989137, 1989213, 1989245, 1989249, 1989281, 1989357, 1989425, 1989428, 1989461, 1989464, 1989500, 1989573, 1989604, 1989641, 1989643, 1989677, 1989715, 1989753, 1989788, 1989820, 1989821, 1989822, 1989856, 1989857, 1989894, 1989930, 1989931, 1989967, 1990004, 1990031, 1990033, 1990034, 1990071, 1990072, 1990182, 1990183, 1990185, 1990219, 1990221, 1990252, 1990253, 1990286, 1990287, 1990288, 1990289, 1990435, 1990436, 1990437, 1990439, 1990462, 1990463, 1990464, 1990465, 1990467, 1990505, 1990578, 1990617, 1990618, 1990619, 2113487, 2113595, 2113631, 2113667, 2114063, 2114099, 2114315, 2116907, 2118599, 2118671, 2118743, 2118851, 2118887, 2120327, 2120435, 2120471, 2120543, 2120579, 2120615, 2120651, 2120723, 2122019, 2122127, 2122235, 2122271, 2122415, 2122523, 2122883, 2124143, 2124178, 2124251, 2124286, 2124359, 2124539, 2124681, 2124683, 2124719, 2124755, 2124861, 2125475, 2125691, 2125871, 2127419, 2127491, 2127527, 2127563, 2127599, 2129183, 2129327, 2129363, 2129399, 2129435, 2131343, 2132530, 2132566, 2132674, 2132710, 2132746, 2132782, 2132783, 2132890, 2132926, 2132927, 2132963, 2132999, 2133179, 2133249, 2133285, 2133286, 2133359, 2134109, 2134150, 2134217, 2134222, 2134325, 2134438, 2134474, 2134510, 2134541, 2134581, 2134617, 2134690, 2134726, 2134727, 2134757, 2134760, 2134832, 2134870, 2134905, 2134942, 2134943, 2134975, 2135011, 2135048, 2135084, 2135085, 2135121, 2135158, 2135263, 2135300, 2135339, 2135375, 2135403, 2135405, 2135479, 2135480, 2135516, 2135519, 2135622, 2135623, 2135624, 2135660, 2135661, 2135699, 2135909, 2136347, 2137565, 2137601, 2137637, 2137673, 2137750, 2138075, 2139329, 2139365, 2139442, 2139509, 2139550, 2139586, 2139622, 2139658, 2139695, 2139803, 2139839, 2139875, 2139911, 2139947, 2141021, 2141026, 2141093, 2141134, 2141170, 2141314, 2141350, 2141386, 2141422, 2141423, 2141530, 2141602, 2141638, 2141639, 2141674, 2141746, 2141747, 2141782, 2141783, 2141819, 2141926, 2141927, 2141963, 2142743, 2142754, 2142785, 2142821, 2142857, 2142893, 2142965, 2143077, 2143113, 2143181, 2143257, 2143293, 2143329, 2143365, 2143367, 2143400, 2143436, 2143472, 2143509, 2143582, 2143583, 2143617, 2143652, 2143689, 2143726, 2143762, 2143763, 2143799, 2143831, 2143906, 2143941, 2144049, 2144087, 2144471, 2144513, 2144549, 2144585, 2144621, 2144625, 2144729, 2144765, 2144805, 2144841, 2144877, 2144878, 2144945, 2144984, 2145056, 2145093, 2145125, 2145161, 2145163, 2145272, 2145308, 2145310, 2145339, 2145340, 2145342, 2145377, 2145378, 2145414, 2145487, 2145488, 2145491, 2145524, 2145526, 2145527, 2145554, 2145593, 2145666, 2145704, 2145740, 2145741, 2145769, 2145770, 2145807, 2145808, 2145809, 2145882, 2145919, 2145920, 2145922, 2145986, 2145987, 2145989, 2146064, 2146099, 2146100, 2146101, 2146277, 2146282, 2146313, 2146354, 2146385, 2146498, 2146534, 2146570, 2146679, 2146715, 2146751, 2147927, 2147933, 2148041, 2148077, 2148113, 2148118, 2148149, 2148154, 2148226, 2148257, 2148298, 2148442, 2148479, 2148515, 2149655, 2149697, 2149769, 2149805, 2149841, 2149877, 2149882, 2149913, 2149949, 2149954, 2150062, 2150098, 2150206, 2150242, 2150243, 2150314, 2150350, 2150387, 2150423, 2151383, 2151394, 2151455, 2151497, 2151537, 2151569, 2151641, 2151645, 2151677, 2151717, 2151753, 2151790, 2151825, 2151861, 2151897, 2151969, 2152005, 2152006, 2152076, 2152112, 2152113, 2152149, 2152185, 2152187, 2152222, 2152256, 2152257, 2152366, 2152367, 2152403, 2152511, 2153111, 2153147, 2153153, 2153193, 2153261, 2153265, 2153297, 2153301, 2153327, 2153337, 2153369, 2153373, 2153405, 2153445, 2153477, 2153481, 2153549, 2153585, 2153621, 2153660, 2153697, 2153732, 2153733, 2153765, 2153876, 2153912, 2153950, 2154017, 2154019, 2154164, 2154165, 2154166, 2154167, 2154196, 2154197, 2154198, 2154234, 2154307, 2154309, 2154344, 2154345, 2154347, 2154383, 2154450, 2154451, 2154452, 2154488, 2154490, 2154526, 2154527, 2154631, 2154635, 2154875, 2154885, 2154911, 2154953, 2154983, 2154989, 2155025, 2155060, 2155091, 2155100, 2155133, 2155169, 2155172, 2155205, 2155208, 2155244, 2155312, 2155313, 2155349, 2155424, 2155487, 2155491, 2155492, 2155528, 2155529, 2155530, 2155564, 2155565, 2155567, 2155675, 2155703, 2155706, 2155707, 2155742, 2155743, 2155745, 2155780, 2155781, 2155891, 2155918, 2155919, 2155922, 2155957, 2155958, 2155959, 2155960, 2155961, 2155995, 2155996, 2155997, 2156107, 2156135, 2156136, 2156137, 2156173, 2156175, 2156176, 2156213, 2156323, 2156345, 2156347, 2156350, 2156351, 2156352, 2156389, 2156390, 2156391, 2156393, 2156429, 2156503, 2277611, 2277683, 2277755, 2277791, 2277827, 2278007, 2279375, 2279411, 2279555, 2279843, 2280023, 2280130, 2280166, 2280203, 2280346, 2281067, 2281103, 2281139, 2282903, 2284595, 2284739, 2284775, 2284811, 2284847, 2286539, 2286575, 2286683, 2288267, 2288411, 2288447, 2288483, 2288554, 2288590, 2288663, 2288771, 2288843, 2289778, 2289845, 2289886, 2289958, 2290101, 2290137, 2290174, 2290210, 2290247, 2290317, 2290353, 2290389, 2290390, 2290426, 2290427, 2290463, 2290568, 2290606, 2290642, 2290784, 2290786, 2290822, 2290928, 2290964, 2290965, 2290966, 2291002, 2291003, 2291147, 2291399, 2291615, 2291651, 2291723, 2291759, 2293343, 2293487, 2295215, 2295251, 2295287, 2295323, 2296577, 2296582, 2296618, 2296690, 2296870, 2296906, 2296943, 2297014, 2297050, 2297051, 2297086, 2297159, 2297267, 2297411, 2298274, 2298305, 2298377, 2298382, 2298526, 2298598, 2298634, 2298701, 2298850, 2298851, 2298887, 2298921, 2298993, 2298994, 2299029, 2299030, 2299066, 2299103, 2299172, 2299246, 2299426, 2299997, 2300002, 2300069, 2300141, 2300213, 2300249, 2300285, 2300397, 2300399, 2300465, 2300504, 2300577, 2300613, 2300645, 2300647, 2300792, 2300793, 2300828, 2300829, 2300860, 2300897, 2300971, 2301045, 2301076, 2301077, 2301078, 2301261, 2301262, 2301263, 2301290, 2301291, 2301292, 2301293, 2301328, 2301367, 2301407, 2301443, 2301507, 2301508, 2301509, 2301546, 2301548, 2301587, 2301725, 2301761, 2301797, 2301833, 2301838, 2301905, 2302090, 2302091, 2302271, 2303447, 2303453, 2303489, 2303525, 2303530, 2303561, 2303566, 2303746, 2303782, 2304035, 2305181, 2305186, 2305217, 2305222, 2305253, 2305289, 2305397, 2305402, 2305438, 2305546, 2305582, 2305618, 2305690, 2305727, 2305763, 2305907, 2306903, 2307017, 2307089, 2307125, 2307201, 2307345, 2307381, 2307417, 2307454, 2307490, 2307526, 2307597, 2307634, 2307669, 2307670, 2307671, 2307777, 2307813, 2307814, 2307850, 2308631, 2308667, 2308673, 2308709, 2308713, 2308745, 2308781, 2308785, 2308817, 2308925, 2308929, 2309001, 2309037, 2309038, 2309069, 2309072, 2309108, 2309144, 2309180, 2309217, 2309253, 2309254, 2309285, 2309396, 2309397, 2309539, 2309575, 2309612, 2309648, 2309649, 2309650, 2309687, 2309719, 2309755, 2309791, 2309828, 2309829, 2309866, 2309867, 2309935, 2309972, 2309973, 2309974, 2310011, 2310359, 2310509, 2310513, 2310549, 2310575, 2310580, 2310617, 2310620, 2310653, 2310656, 2310689, 2310692, 2310693, 2310728, 2310764, 2310791, 2310796, 2310833, 2310869, 2310944, 2311011, 2311047, 2311048, 2311049, 2311050, 2311195, 2311223, 2311226, 2311229, 2311264, 2311265, 2311374, 2311410, 2311411, 2311439, 2311442, 2311477, 2311478, 2311480, 2311481, 2311516, 2311653, 2311654, 2311655, 2311657, 2311693, 2311732, 2311806, 2311844, 2311845, 2311868, 2311869, 2311870, 2311871, 2311873, 2311875, 2311877, 2311910, 2311911, 2311913, 2311986, 2311987, 2311990, 2312024, 2312025, 2312087, 2312098, 2312129, 2312195, 2312237, 2312273, 2312350, 2312458, 2312494, 2312567, 2312639, 2312675, 2312711, 2313815, 2313851, 2313887, 2313929, 2313933, 2313934, 2313965, 2313969, 2314001, 2314005, 2314330, 2314366, 2314367, 2314403, 2314439, 2314511, 2315543, 2315579, 2315615, 2315657, 2315661, 2315693, 2315697, 2315729, 2315801, 2315805, 2315837, 2315841, 2315877, 2315951, 2315981, 2315985, 2316021, 2316057, 2316094, 2316130, 2316166, 2316167, 2316238, 2316239, 2316273, 2316275, 2316310, 2317265, 2317276, 2317307, 2317317, 2317343, 2317353, 2317385, 2317421, 2317457, 2317533, 2317565, 2317601, 2317677, 2317709, 2317712, 2317784, 2317821, 2317858, 2317893, 2317894, 2317964, 2318036, 2318037, 2318073, 2318074, 2318075, 2318111, 2318144, 2318179, 2318180, 2318216, 2318218, 2318254, 2318291, 2318397, 2318398, 2318399, 2318434, 2318993, 2318999, 2319004, 2319009, 2319029, 2319035, 2319045, 2319071, 2319077, 2319107, 2319189, 2319220, 2319257, 2319260, 2319293, 2319296, 2319332, 2319368, 2319369, 2319404, 2319405, 2319436, 2319437, 2319473, 2319475, 2319620, 2319622, 2319651, 2319763, 2319800, 2319867, 2319868, 2319869, 2319870, 2319906, 2319942, 2319978, 2319979, 2320014, 2320016, 2320018, 2320051, 2320052, 2320083, 2320084, 2320085, 2320158, 2320231, 2320233, 2320234, 2320268, 2320269, 2320270, 2320271, 2320300, 2320301, 2320375, 2320377, 2320412, 2320413, 2320414, 2320518, 2320520, 2320522, 2320557, 2320558, 2320721, 2320732, 2320763, 2320768, 2320793, 2320799, 2320804, 2320808, 2320835, 2320840, 2320877, 2320880, 2320917, 2320943, 2320952, 2320984, 2321020, 2321021, 2321057, 2321093, 2321159, 2321163, 2321164, 2321200, 2321201, 2321237, 2321311, 2321375, 2321378, 2321417, 2321452, 2321453, 2321490, 2321562, 2321567, 2321589, 2321590, 2321591, 2321593, 2321595, 2321631, 2321667, 2321669, 2321741, 2321778, 2321804, 2321805, 2321806, 2321807, 2321843, 2321844, 2321845, 2321848, 2321881, 2321882, 2321883, 2321884, 2321885, 2321920, 2322015, 2322017, 2322020, 2322023, 2322057, 2322058, 2322060, 2322062, 2322097, 2322098, 2322099, 2322101, 2322134, 2322229, 2322230, 2322231, 2322232, 2322233, 2322235, 2322272, 2322273, 2322274, 2322276, 2322280, 2322281, 2322314, 2322316, 2322317, 2322391, 2322430, 2322431, 2441771, 2441807, 2441843, 2443607, 2443643, 2443859, 2444075, 2445335, 2445479, 2445515, 2445586, 2445731, 2445874, 2445911, 2445947, 2446090, 2446234, 2446270, 2446307, 2446991, 2447027, 2447063, 2448611, 2448791, 2448899, 2450483, 2450627, 2450663, 2450699, 2452211, 2452355, 2452391, 2452463, 2453825, 2453938, 2454082, 2454191, 2454262, 2454335, 2454371, 2454477, 2454478, 2454514, 2454551, 2454730, 2454731, 2455553, 2455702, 2455733, 2455845, 2456098, 2456135, 2456165, 2456276, 2456277, 2456312, 2456314, 2456350, 2456351, 2456383, 2456419, 2456455, 2456528, 2456529, 2456530, 2456566, 2456567, 2456635, 2456671, 2456708, 2456747, 2456814, 2456852, 2456853, 2457032, 2457033, 2457034, 2457575, 2457611, 2457647, 2459158, 2459447, 2460701, 2460742, 2460773, 2460886, 2461066, 2461174, 2461175, 2461283, 2462429, 2462434, 2462465, 2462614, 2462758, 2462902, 2463010, 2463011, 2463047, 2463082, 2463118, 2463119, 2463155, 2463299, 2463335, 2464162, 2464193, 2464229, 2464265, 2464341, 2464373, 2464449, 2464558, 2464589, 2464625, 2464665, 2464666, 2464774, 2464880, 2464916, 2464917, 2464954, 2464991, 2465023, 2465096, 2465133, 2465171, 2465276, 2465313, 2465314, 2465458, 2465915, 2465921, 2465957, 2465961, 2465993, 2465997, 2466029, 2466033, 2466065, 2466069, 2466137, 2466248, 2466285, 2466316, 2466317, 2466353, 2466428, 2466465, 2466500, 2466532, 2466533, 2466569, 2466571, 2466643, 2466683, 2466717, 2466746, 2466747, 2466748, 2466783, 2466784, 2466785, 2466894, 2466895, 2466896, 2466931, 2466934, 2466961, 2466962, 2466964, 2467001, 2467037, 2467074, 2467110, 2467149, 2467151, 2467177, 2467180, 2467214, 2467215, 2467217, 2467290, 2467295, 2467327, 2467328, 2467330, 2467395, 2467396, 2467471, 2467472, 2467649, 2467654, 2467685, 2467721, 2467726, 2467762, 2467793, 2467906, 2467942, 2468014, 2468015, 2468087, 2469341, 2469346, 2469449, 2469485, 2469490, 2469521, 2469526, 2469562, 2469634, 2469635, 2469742, 2469743, 2469851, 2469887, 2471063, 2471074, 2471141, 2471177, 2471213, 2471217, 2471285, 2471290, 2471398, 2471542, 2471578, 2471614, 2471615, 2471651, 2471687, 2471758, 2471759, 2471795, 2471831, 2472791, 2472827, 2472833, 2472869, 2472873, 2472905, 2472941, 2472945, 2472981, 2473049, 2473053, 2473085, 2473125, 2473162, 2473197, 2473268, 2473269, 2473304, 2473305, 2473341, 2473342, 2473377, 2473378, 2473414, 2473448, 2473558, 2473559, 2473631, 2473664, 2473665, 2473701, 2473702, 2473736, 2473737, 2473774, 2473775, 2473883, 2474525, 2474555, 2474565, 2474597, 2474669, 2474705, 2474709, 2474741, 2474777, 2474813, 2474924, 2474993, 2474996, 2475031, 2475068, 2475104, 2475105, 2475140, 2475173, 2475211, 2475247, 2475283, 2475356, 2475357, 2475358, 2475389, 2475426, 2475462, 2475499, 2475572, 2475573, 2475574, 2475575, 2475603, 2475604, 2475605, 2475606, 2475678, 2475680, 2475681, 2475716, 2475719, 2475754, 2475822, 2475823, 2475858, 2475859, 2475899, 2476040, 2476247, 2476252, 2476283, 2476288, 2476313, 2476329, 2476355, 2476397, 2476433, 2476463, 2476468, 2476504, 2476505, 2476541, 2476544, 2476577, 2476580, 2476652, 2476678, 2476679, 2476684, 2476687, 2476721, 2476723, 2476757, 2476759, 2476795, 2476894, 2476895, 2476898, 2476899, 2476934, 2476935, 2476936, 2476937, 2476973, 2477010, 2477046, 2477109, 2477110, 2477111, 2477147, 2477150, 2477151, 2477152, 2477153, 2477188, 2477189, 2477298, 2477324, 2477325, 2477327, 2477328, 2477329, 2477332, 2477365, 2477366, 2477368, 2477403, 2477404, 2477405, 2477538, 2477539, 2477540, 2477541, 2477542, 2477580, 2477583, 2477619, 2477621, 2477730, 2477732, 2477750, 2477753, 2477755, 2477756, 2477758, 2477759, 2477760, 2477761, 2477796, 2477797, 2477798, 2477837, 2477874, 2477912, 2477914, 2477915, 2477975, 2478011, 2478047, 2478057, 2478089, 2478125, 2478129, 2478161, 2478165, 2478197, 2478269, 2478274, 2478346, 2478491, 2478527, 2478563, 2478599, 2479697, 2479703, 2479739, 2479785, 2479817, 2479857, 2479889, 2479893, 2479961, 2479965, 2480001, 2480073, 2480146, 2480290, 2480291, 2480326, 2480363, 2481425, 2481431, 2481467, 2481472, 2481477, 2481513, 2481581, 2481617, 2481725, 2481765, 2481801, 2481837, 2481838, 2481908, 2481946, 2481981, 2482017, 2482054, 2482089, 2482090, 2482126, 2482161, 2482162, 2482198, 2482199, 2482235, 2482343, 2483164, 2483169, 2483189, 2483200, 2483231, 2483273, 2483276, 2483312, 2483345, 2483348, 2483375, 2483384, 2483417, 2483420, 2483453, 2483489, 2483492, 2483528, 2483529, 2483564, 2483566, 2483597, 2483672, 2483708, 2483710, 2483744, 2483781, 2483815, 2483851, 2483923, 2483924, 2483926, 2483996, 2483997, 2483998, 2483999, 2484031, 2484067, 2484103, 2484106, 2484140, 2484141, 2484142, 2484179, 2484248, 2484283, 2484284, 2484286, 2484321, 2484322, 2484359, 2484881, 2484887, 2484892, 2484923, 2484928, 2484932, 2484959, 2484964, 2484968, 2485000, 2485001, 2485036, 2485037, 2485040, 2485076, 2485108, 2485145, 2485181, 2485217, 2485253, 2485324, 2485327, 2485360, 2485361, 2485397, 2485435, 2485471, 2485507, 2485508, 2485538, 2485540, 2485614, 2485650, 2485688, 2485722, 2485723, 2485754, 2485757, 2485792, 2485793, 2485938, 2485939, 2485969, 2485971, 2485972, 2486009, 2486045, 2486118, 2486121, 2486155, 2486156, 2486157, 2486158, 2486159, 2486186, 2486188, 2486189, 2486262, 2486298, 2486299, 2486300, 2486338, 2486339, 2486406, 2486443, 2486445, 2486447, 2486482, 2486603, 2486609, 2486620, 2486645, 2486651, 2486687, 2486692, 2486728, 2486765, 2486768, 2486835, 2486871, 2486872, 2486875, 2486908, 2486911, 2486944, 2486945, 2486947, 2486980, 2486981, 2486983, 2487041, 2487047, 2487051, 2487054, 2487083, 2487087, 2487088, 2487119, 2487161, 2487197, 2487261, 2487262, 2487265, 2487269, 2487299, 2487302, 2487303, 2487338, 2487450, 2487477, 2487479, 2487480, 2487514, 2487515, 2487516, 2487517, 2487518, 2487553, 2487554, 2487555, 2487556, 2487592, 2487593, 2487685, 2487688, 2487689, 2487690, 2487691, 2487692, 2487693, 2487694, 2487728, 2487729, 2487731, 2487732, 2487733, 2487769, 2487770, 2487771, 2487773, 2487807, 2487809, 2487899, 2487900, 2487902, 2487905, 2487907, 2487908, 2487909, 2487943, 2487944, 2487945, 2487947, 2487983, 2487984, 2487986, 2487987, 2487988, 2488020, 2488023, 2488024, 2488025, 2488104, 2488112, 2488113, 2488114, 2488116, 2488117, 2488118, 2488120, 2488123, 2488160, 2488163, 2488166, 2488200, 2488201, 2488203, 2488204, 2488205, 2488240, 2488241, 2488278, 2488314, 2488315, 2488316, 2488319, 2601539, 2605931, 2606003, 2607587, 2607767, 2607803, 2607875, 2609495, 2609675, 2609711, 2609999, 2611330, 2611439, 2611546, 2611582, 2611655, 2611761, 2611798, 2611904, 2611940, 2611941, 2611976, 2611977, 2611978, 2612015, 2612121, 2612157, 2612195, 2612807, 2612879, 2612915, 2612951, 2614715, 2616371, 2616443, 2616551, 2616587, 2618026, 2618098, 2618206, 2618242, 2618243, 2618279, 2618351, 2618459, 2618495, 2618603, 2619713, 2619826, 2619898, 2620006, 2620042, 2620078, 2620079, 2620113, 2620149, 2620186, 2620222, 2620258, 2620259, 2620329, 2620365, 2620438, 2620439, 2620475, 2620581, 2620582, 2620618, 2620763, 2621405, 2621410, 2621441, 2621477, 2621590, 2621621, 2621625, 2621733, 2621806, 2621837, 2621876, 2621912, 2622021, 2622053, 2622055, 2622127, 2622165, 2622201, 2622202, 2622237, 2622238, 2622268, 2622269, 2622306, 2622379, 2622416, 2622454, 2622455, 2622484, 2622485, 2622522, 2622558, 2622633, 2622634, 2622635, 2622671, 2622700, 2622702, 2622738, 2622775, 2622776, 2622920, 2622921, 2622957, 2623282, 2623391, 2623463, 2623499, 2623535, 2624861, 2624902, 2624969, 2625046, 2625154, 2625263, 2625335, 2626594, 2626625, 2626630, 2626666, 2626702, 2626774, 2626810, 2626846, 2626918, 2626954, 2626991, 2627135, 2627171, 2628358, 2628429, 2628502, 2628533, 2628537, 2628681, 2628718, 2628753, 2628789, 2628861, 2628862, 2628863, 2628898, 2628935, 2628969, 2629005, 2629007, 2629042, 2629078, 2629079, 2630085, 2630111, 2630117, 2630121, 2630157, 2630193, 2630261, 2630265, 2630301, 2630337, 2630373, 2630409, 2630446, 2630477, 2630516, 2630624, 2630625, 2630661, 2630662, 2630693, 2630695, 2630731, 2630767, 2630840, 2630841, 2630878, 2630948, 2631020, 2631057, 2631058, 2631095, 2631127, 2631163, 2631199, 2631201, 2631238, 2631239, 2631347, 2631767, 2631777, 2631849, 2631885, 2631917, 2631921, 2631983, 2631992, 2632061, 2632100, 2632136, 2632172, 2632174, 2632204, 2632205, 2632241, 2632279, 2632315, 2632351, 2632388, 2632415, 2632419, 2632420, 2632422, 2632456, 2632457, 2632458, 2632493, 2632530, 2632602, 2632605, 2632630, 2632634, 2632671, 2632672, 2632709, 2632747, 2632782, 2632818, 2632819, 2632844, 2632845, 2632846, 2632847, 2632848, 2632849, 2632886, 2632888, 2632925, 2632998, 2633035, 2633036, 2633037, 2633038, 2633063, 2633064, 2633065, 2633066, 2633067, 2633102, 2633104, 2633105, 2633142, 2633215, 2633217, 2633276, 2633278, 2633280, 2633281, 2633282, 2633283, 2633320, 2633321, 2633359, 2633360, 2633397, 2633398, 2633399, 2633531, 2633573, 2633578, 2633609, 2633645, 2633722, 2633758, 2633794, 2633830, 2633902, 2633975, 2635223, 2635301, 2635373, 2635409, 2635413, 2635486, 2635594, 2635630, 2635703, 2635738, 2635739, 2635775, 2635811, 2635847, 2636951, 2636993, 2636997, 2637029, 2637065, 2637069, 2637105, 2637131, 2637173, 2637249, 2637322, 2637393, 2637429, 2637502, 2637538, 2637539, 2637575, 2637610, 2637611, 2637683, 2637719, 2638679, 2638721, 2638757, 2638793, 2638829, 2638833, 2638869, 2638895, 2638901, 2638937, 2638973, 2638976, 2639048, 2639049, 2639084, 2639085, 2639086, 2639117, 2639192, 2639228, 2639266, 2639337, 2639444, 2639481, 2639482, 2639519, 2639552, 2639588, 2639662, 2639663, 2639699, 2639770, 2639807, 2640401, 2640407, 2640417, 2640448, 2640488, 2640521, 2640557, 2640560, 2640593, 2640596, 2640628, 2640629, 2640701, 2640776, 2640812, 2640844, 2640845, 2640847, 2640881, 2640919, 2640955, 2640957, 2641028, 2641029, 2641060, 2641097, 2641098, 2641134, 2641135, 2641170, 2641207, 2641244, 2641274, 2641275, 2641276, 2641313, 2641350, 2641386, 2641422, 2641423, 2641424, 2641460, 2641463, 2641491, 2641492, 2641493, 2641529, 2641566, 2641602, 2641603, 2641640, 2641641, 2641643, 2641679, 2641708, 2641746, 2641747, 2641782, 2641783, 2641784, 2641822, 2641823, 2641930, 2641931, 2642134, 2642135, 2642140, 2642171, 2642176, 2642180, 2642212, 2642213, 2642248, 2642249, 2642252, 2642285, 2642288, 2642321, 2642324, 2642345, 2642351, 2642355, 2642356, 2642392, 2642429, 2642431, 2642465, 2642501, 2642567, 2642571, 2642608, 2642645, 2642646, 2642647, 2642682, 2642754, 2642783, 2642786, 2642822, 2642823, 2642859, 2642860, 2642861, 2642895, 2642970, 2642999, 2643000, 2643034, 2643037, 2643038, 2643074, 2643075, 2643077, 2643208, 2643209, 2643210, 2643211, 2643215, 2643253, 2643256, 2643289, 2643290, 2643291, 2643292, 2643293, 2643327, 2643329, 2643422, 2643423, 2643426, 2643427, 2643464, 2643467, 2643470, 2643504, 2643505, 2643506, 2643507, 2643508, 2643509, 2643618, 2643621, 2643634, 2643636, 2643637, 2643638, 2643639, 2643640, 2643641, 2643642, 2643646, 2643647, 2643681, 2643682, 2643684, 2643687, 2643721, 2643722, 2643723, 2643724, 2643725, 2643798, 2643799, 2643801, 2643803, 2643904, 2643905, 2643940, 2643941, 2643945, 2643971, 2643977, 2644013, 2644049, 2644053, 2644085, 2644125, 2644161, 2644198, 2644234, 2644269, 2644343, 2644379, 2644415, 2644487, 2645591, 2645596, 2645601, 2645627, 2645637, 2645663, 2645705, 2645709, 2645744, 2645745, 2645777, 2645780, 2645813, 2645817, 2645849, 2645853, 2645889, 2645926, 2645961, 2645997, 2646033, 2646070, 2646105, 2646142, 2646178, 2646214, 2646215, 2646323, 2647319, 2647324, 2647329, 2647355, 2647396, 2647397, 2647400, 2647427, 2647433, 2647436, 2647469, 2647473, 2647508, 2647541, 2647544, 2647577, 2647616, 2647652, 2647757, 2647760, 2647796, 2647832, 2647868, 2647904, 2647941, 2647942, 2647943, 2647976, 2647977, 2648048, 2648049, 2648086, 2648123, 2648159, 2648193, 2648230, 2648267, 2649035, 2649041, 2649052, 2649083, 2649088, 2649092, 2649119, 2649124, 2649128, 2649160, 2649161, 2649191, 2649233, 2649236, 2649263, 2649268, 2649304, 2649341, 2649377, 2649452, 2649484, 2649487, 2649521, 2649523, 2649557, 2649559, 2649595, 2649631, 2649668, 2649669, 2649701, 2649702, 2649738, 2649774, 2649811, 2649847, 2649848, 2649884, 2649887, 2649918, 2649954, 2649991, 2650027, 2650029, 2650064, 2650065, 2650101, 2650102, 2650103, 2650135, 2650136, 2650137, 2650170, 2650172, 2650207, 2650209, 2650247, 2650757, 2650769, 2650774, 2650784, 2650805, 2650816, 2650847, 2650852, 2650888, 2650892, 2650919, 2650924, 2650991, 2650995, 2650996, 2650999, 2651027, 2651032, 2651071, 2651141, 2651143, 2651144, 2651179, 2651211, 2651212, 2651248, 2651249, 2651250, 2651285, 2651286, 2651322, 2651359, 2651395, 2651423, 2651428, 2651463, 2651464, 2651465, 2651466, 2651500, 2651501, 2651610, 2651611, 2651638, 2651641, 2651642, 2651643, 2651679, 2651680, 2651681, 2651790, 2651826, 2651857, 2651861, 2651894, 2651896, 2651897, 2652042, 2652043, 2652071, 2652072, 2652073, 2652074, 2652076, 2652077, 2652110, 2652111, 2652113, 2652187, 2652191, 2652223, 2652224, 2652225, 2652226, 2652227, 2652290, 2652291, 2652293, 2652326, 2652330, 2652331, 2652332, 2652367, 2652369, 2652370, 2652371, 2652491, 2652502, 2652507, 2652512, 2652533, 2652539, 2652575, 2652580, 2652611, 2652616, 2652647, 2652652, 2652688, 2652689, 2652713, 2652718, 2652723, 2652727, 2652755, 2652760, 2652791, 2652795, 2652796, 2652833, 2652869, 2652905, 2652929, 2652934, 2652938, 2652940, 2652971, 2652974, 2652975, 2652976, 2653011, 2653012, 2653013, 2653049, 2653149, 2653150, 2653153, 2653187, 2653189, 2653226, 2653227, 2653229, 2653359, 2653361, 2653363, 2653364, 2653365, 2653366, 2653400, 2653401, 2653403, 2653404, 2653407, 2653440, 2653441, 2653442, 2653444, 2653479, 2653480, 2653481, 2653569, 2653571, 2653576, 2653578, 2653583, 2653615, 2653616, 2653617, 2653618, 2653619, 2653656, 2653657, 2653660, 2653661, 2653693, 2653695, 2653697, 2653733, 2653783, 2653784, 2653786, 2653788, 2653789, 2653790, 2653791, 2653792, 2653793, 2653829, 2653830, 2653831, 2653832, 2653833, 2653835, 2653872, 2653874, 2653876, 2653910, 2653911, 2653913, 2653993, 2653994, 2653996, 2653997, 2654000, 2654001, 2654002, 2654003, 2654004, 2654009, 2654042, 2654044, 2654045, 2654046, 2654048, 2654049, 2654050, 2654084, 2654085, 2654088, 2654090, 2654091, 2654125, 2654126, 2654127, 2654128, 2654129, 2654202, 2654203]\n",
      "Updated DataFrame:\n",
      "Index(['maturity', 'strike', 'alpha', ' beta', ' m', ' rho', ' Y0', ' price',\n",
      "       ' 95cI', ' numTraj'],\n",
      "      dtype='object')\n",
      "Final Training Data:\n",
      "        maturity  strike  alpha      beta         m   rho        Y0     price  \\\n",
      "0         0.4167  0.9564    0.4  0.953037 -2.040221 -0.95 -1.309333  0.095436   \n",
      "1         0.7500  1.2190    0.2  0.673899 -2.040221 -0.15 -1.609438  0.014759   \n",
      "2         0.8333  1.0276    0.4  0.593970 -1.203973 -0.55 -1.609438  0.068638   \n",
      "3         0.5833  0.8880    0.8  0.626099 -1.203973 -0.55 -1.609438  0.140655   \n",
      "4         0.7500  0.9517    6.4  3.190466 -2.813411 -0.75 -1.609438  0.078137   \n",
      "...          ...     ...    ...       ...       ...   ...       ...       ...   \n",
      "2650286   0.2500  0.9707    6.4  3.527193 -2.813411 -0.15 -1.049822  0.065254   \n",
      "2650287   0.7500  0.8409    0.8  1.092000 -2.407946 -0.55 -1.609438  0.181299   \n",
      "2650288   0.7500  1.1041    3.2  1.608617 -1.427116 -0.95 -2.525729  0.018944   \n",
      "2650289   1.5000  1.3899    0.8  0.740810 -1.203973 -0.75 -2.525729  0.000994   \n",
      "2650290   0.5833  1.0000    0.4  0.928022 -2.407946 -0.95 -1.309333  0.077259   \n",
      "\n",
      "             95cI   numTraj  \n",
      "0        0.001483     16384  \n",
      "1        0.000969     16384  \n",
      "2        0.001733     16384  \n",
      "3        0.002067     16384  \n",
      "4        0.001061     16384  \n",
      "...           ...       ...  \n",
      "2650286  0.001476     16383  \n",
      "2650287  0.002136     16384  \n",
      "2650288  0.000538     16384  \n",
      "2650289  0.000204     16384  \n",
      "2650290  0.001391     16384  \n",
      "\n",
      "[2650291 rows x 10 columns]\n",
      "Index(['maturity', 'strike', 'alpha', ' beta', ' m', ' rho', ' Y0', ' price',\n",
      "       ' 95cI', ' numTraj'],\n",
      "      dtype='object')\n"
     ]
    }
   ],
   "source": [
    "\"\"\"\"\"\"\"\"\"\"\"\"\"Data Preprocessing\"\"\"\"\"\"\"\"\"\"\"\"\"\"\"\"\"\"\"\n",
    "\n",
    "\"\"\"1.Gathering different execls data in one table : training_data\"\"\"\n",
    "\n",
    "# Specify the directory containing the CSV files\n",
    "training_folder_path = 'D:/etud/Brice/Training'\n",
    "\n",
    "# Initialize an empty list to hold all the DataFrames\n",
    "data = []\n",
    "\n",
    "# Loop over all files in the directory\n",
    "for filename in os.listdir(training_folder_path):\n",
    "   \n",
    "       # Extract the base name without the extension\n",
    "        base_name = os.path.splitext(filename)[0]\n",
    "        \n",
    "        # Split the filename based on the known format\n",
    "        parts = base_name.split('Str')\n",
    "        \n",
    "        if len(parts) == 2:\n",
    "            # Extract maturity and strike parts\n",
    "            maturity_part = parts[0].replace('Tmt', '').strip()\n",
    "            strike_part = parts[1].strip()\n",
    "            \n",
    "            # Add the DataFrame and the new columns\n",
    "            file_path = os.path.join(training_folder_path, filename)\n",
    "            df = pd.read_csv(file_path)\n",
    "            df['maturity'] = maturity_part\n",
    "            df['strike'] = strike_part\n",
    "            \n",
    "            # Reorder columns to place 'maturity' and 'strike' as the first two columns\n",
    "            df = df[['maturity', 'strike'] + [col for col in df.columns if col not in ['maturity', 'strike']]]\n",
    "            \n",
    "            # Append DataFrame to the list\n",
    "            data.append(df)\n",
    "\n",
    "# Concatenate all the DataFrames into a single DataFrame\n",
    "training_table_data = pd.concat(data, ignore_index=True)\n",
    "\n",
    "print(training_table_data.columns)\n",
    "\n",
    "\n",
    "\n",
    "\"\"\"2.remove aberrant values: error>price\"\"\"\n",
    "# Create a list to keep track of removed indices\n",
    "removed_indices = []\n",
    "\n",
    "# Iterate over the DataFrame rows\n",
    "for index in range(len(training_table_data)):\n",
    "    # Check if \"error\" is greater than \"price\" for the current row\n",
    "    if training_table_data.loc[index, ' 95cI'] > training_table_data.loc[index, ' price']:\n",
    "        # Append the index of the row to the removed_indices list\n",
    "        removed_indices.append(index)\n",
    "\n",
    "# Drop the rows with indices in removed_indices\n",
    "training_table_data = training_table_data.drop(removed_indices).reset_index(drop=True)\n",
    "\n",
    "# Print the indices of the removed rows\n",
    "print(f\"Removed rows: {removed_indices}\")\n",
    "\n",
    "# Optionally, print the updated DataFrame\n",
    "print(\"Updated DataFrame:\")\n",
    "print(training_table_data.columns)\n",
    "\n",
    "\n",
    "\n",
    "\n",
    "\n",
    "\"\"\"3.Randomize Data\"\"\"\n",
    "\n",
    "# Shuffle the DataFrame\n",
    "shuffled_train = training_table_data.sample(frac=1, random_state=None).reset_index(drop=True)\n",
    "\n",
    "# Print the shuffled DataFrame\n",
    "print(\"Final Training Data:\")\n",
    "print(shuffled_train)\n",
    "\n",
    "# Convert 'maturity' and 'strike' columns to float64\n",
    "shuffled_train['maturity'] = pd.to_numeric(shuffled_train['maturity'], errors='coerce')\n",
    "shuffled_train['strike'] = pd.to_numeric(shuffled_train['strike'], errors='coerce')\n",
    "\n",
    "# Verify the conversion\n",
    "print(shuffled_train.columns)\n",
    "\n",
    "\n"
   ]
  },
  {
   "cell_type": "markdown",
   "metadata": {},
   "source": [
    "## Model Establishment\n",
    "\n",
    "Defining the neural network  model :The neural network model is constructed using the PyTorch framework. It consists of\n",
    "an input layer, three hidden layers, and an output layer, each fully connected. The\n",
    "architecture is defined by the class net, where the number of perceptrons in the hidden\n",
    "layers is configurable. In this implementation, each hidden layer contains 200 perceptrons"
   ]
  },
  {
   "cell_type": "code",
   "execution_count": 81,
   "metadata": {},
   "outputs": [],
   "source": [
    "#from torch import jit\n",
    "\n",
    "class net(nn.Module):\n",
    "    def __init__(self, n_input, n_hidden1, n_hidden2, n_hidden3, n_output, GeLU=False, soft=False):\n",
    "        \"\"\"\n",
    "        :param n_input: number of perceptrons for the input layer (int)\n",
    "        :param n_hidden: number of perceptrons for the hidden layer (int)\n",
    "        :param n_output: number of perceptrons for the output layer (int)\n",
    "        \"\"\"\n",
    "        super().__init__()\n",
    "        self.hidden1 = nn.Linear(n_input, n_hidden1)\n",
    "        self.hidden2 = nn.Linear(n_hidden1, n_hidden2)\n",
    "        self.hidden3 = nn.Linear(n_hidden2, n_hidden3)\n",
    "        self.output = nn.Linear(n_hidden3, n_output)\n",
    "        self.nonlin = nn.ReLU()\n",
    "        if GeLU:\n",
    "            self.nonlin = nn.GELU()\n",
    "        self.out = lambda x : x\n",
    "        if soft:\n",
    "            self.out = nn.Softplus()\n",
    "\n",
    "\n",
    "    def forward(self, x):\n",
    "        \"\"\"\n",
    "        :param x: Neural network input (2d torch tensor with arbitrary number of rows and n_input columns)\n",
    "        :return: 2d torch tensor: Neural network output (same number of rows as x, n_output columns)\n",
    "        \"\"\"\n",
    "        x = self.nonlin(self.hidden1(x))\n",
    "        x = self.nonlin(self.hidden2(x))\n",
    "        x = self.nonlin(self.hidden3(x))\n",
    "        x = self.output(x)\n",
    "        return self.out(x)  \n"
   ]
  },
  {
   "cell_type": "markdown",
   "metadata": {},
   "source": [
    "## NN Model training "
   ]
  },
  {
   "cell_type": "markdown",
   "metadata": {},
   "source": [
    "For each pricing model, approximately 10^7 data points are generated, creating a compre-\n",
    "hensive dataset for training the neural network (NN) mode .\n",
    "\n",
    "During training, the forward pass through the network generates predictions based on\n",
    "the input features. The Mean Squared Error (MSE) is utilized as the loss function to\n",
    "quantify the difference between the predicted and true values. The Adam optimizer, with\n",
    "a learning rate of 0.001, is employed to update the model weights using backpropagation,\n",
    "minimizing the loss at each iteration. The model is trained for 100 epochs.\n",
    "\n",
    "\n",
    "To monitor the best-performing model, a variable is defined to store the model with the\n",
    "lowest validation loss. A checkpoint is created to save the details and path of this optimal\n",
    "model.\n",
    "\n",
    "For both the training and validation sets, their respective losses are concatenated into\n",
    "two variables, training loss and validation loss, over the 100 epochs. This enables the\n",
    "plotting of the loss curve for both training and validation losses as a function of the\n",
    "epochs, providing insight into how the model’s performance improves over time\n",
    "\n",
    "The shape and dynamics of a learning curve can be used to diagnose the behavior of a\n",
    "NN model .There are three common dynamics that you are likely to observe in learning curves; they\n",
    "are:\n",
    "• Underfit:An underfit model can be identified from the learning curve of the training\n",
    "loss only.It may show a flat line or noisy values of relatively high loss, indicating\n",
    "that the model was unable to learn the training dataset at all.\n",
    "\n",
    "• Overfit:A plot of learning curves shows overfitting if the plot of training loss continues to decrease with experience. The plot of validation\n",
    "loss decreases to a point and begins increasing again\n",
    "\n",
    "• Good Fit:A plot of learning curves shows a good fit if the plot of training loss decreases to a point of stability. The plot of validation loss\n",
    "decreases to a point of stability and has a small gap with the training loss"
   ]
  },
  {
   "cell_type": "code",
   "execution_count": 102,
   "metadata": {},
   "outputs": [],
   "source": [
    "device = torch.device('cpu') "
   ]
  },
  {
   "cell_type": "code",
   "execution_count": 105,
   "metadata": {},
   "outputs": [
    {
     "name": "stderr",
     "output_type": "stream",
     "text": [
      "  0%|                                                                                 | 1/1000 [00:00<08:33,  1.95it/s]"
     ]
    },
    {
     "name": "stdout",
     "output_type": "stream",
     "text": [
      "Best model checkpoint saved at epoch 1 with validation loss 0.0042569609\n"
     ]
    },
    {
     "name": "stderr",
     "output_type": "stream",
     "text": [
      "  0%|▏                                                                                | 2/1000 [00:00<06:29,  2.56it/s]"
     ]
    },
    {
     "name": "stdout",
     "output_type": "stream",
     "text": [
      "Best model checkpoint saved at epoch 2 with validation loss 0.0006655035\n"
     ]
    },
    {
     "name": "stderr",
     "output_type": "stream",
     "text": [
      "  0%|▏                                                                                | 3/1000 [00:01<05:34,  2.98it/s]"
     ]
    },
    {
     "name": "stdout",
     "output_type": "stream",
     "text": [
      "Best model checkpoint saved at epoch 3 with validation loss 0.0003776390\n"
     ]
    },
    {
     "name": "stderr",
     "output_type": "stream",
     "text": [
      "  0%|▎                                                                                | 4/1000 [00:01<05:19,  3.11it/s]"
     ]
    },
    {
     "name": "stdout",
     "output_type": "stream",
     "text": [
      "Best model checkpoint saved at epoch 4 with validation loss 0.0003153704\n"
     ]
    },
    {
     "name": "stderr",
     "output_type": "stream",
     "text": [
      "  0%|▍                                                                                | 5/1000 [00:01<04:59,  3.32it/s]"
     ]
    },
    {
     "name": "stdout",
     "output_type": "stream",
     "text": [
      "Best model checkpoint saved at epoch 5 with validation loss 0.0003039250\n"
     ]
    },
    {
     "name": "stderr",
     "output_type": "stream",
     "text": [
      "  1%|▍                                                                                | 6/1000 [00:01<04:50,  3.42it/s]"
     ]
    },
    {
     "name": "stdout",
     "output_type": "stream",
     "text": [
      "Best model checkpoint saved at epoch 6 with validation loss 0.0002291388\n"
     ]
    },
    {
     "name": "stderr",
     "output_type": "stream",
     "text": [
      "  1%|▌                                                                                | 7/1000 [00:02<04:43,  3.50it/s]"
     ]
    },
    {
     "name": "stdout",
     "output_type": "stream",
     "text": [
      "Best model checkpoint saved at epoch 7 with validation loss 0.0001767323\n"
     ]
    },
    {
     "name": "stderr",
     "output_type": "stream",
     "text": [
      "  1%|▋                                                                                | 8/1000 [00:02<04:44,  3.49it/s]"
     ]
    },
    {
     "name": "stdout",
     "output_type": "stream",
     "text": [
      "Best model checkpoint saved at epoch 8 with validation loss 0.0001457170\n"
     ]
    },
    {
     "name": "stderr",
     "output_type": "stream",
     "text": [
      "  1%|▋                                                                                | 9/1000 [00:02<04:37,  3.58it/s]"
     ]
    },
    {
     "name": "stdout",
     "output_type": "stream",
     "text": [
      "Best model checkpoint saved at epoch 9 with validation loss 0.0001087307\n"
     ]
    },
    {
     "name": "stderr",
     "output_type": "stream",
     "text": [
      "  1%|▊                                                                               | 10/1000 [00:03<04:38,  3.56it/s]"
     ]
    },
    {
     "name": "stdout",
     "output_type": "stream",
     "text": [
      "Best model checkpoint saved at epoch 10 with validation loss 0.0000925088\n"
     ]
    },
    {
     "name": "stderr",
     "output_type": "stream",
     "text": [
      "  1%|▉                                                                               | 11/1000 [00:03<04:51,  3.39it/s]"
     ]
    },
    {
     "name": "stdout",
     "output_type": "stream",
     "text": [
      "Best model checkpoint saved at epoch 11 with validation loss 0.0000903895\n"
     ]
    },
    {
     "name": "stderr",
     "output_type": "stream",
     "text": [
      "  1%|▉                                                                               | 12/1000 [00:03<04:44,  3.47it/s]"
     ]
    },
    {
     "name": "stdout",
     "output_type": "stream",
     "text": [
      "Best model checkpoint saved at epoch 12 with validation loss 0.0000561172\n"
     ]
    },
    {
     "name": "stderr",
     "output_type": "stream",
     "text": [
      "  1%|█                                                                               | 14/1000 [00:04<04:35,  3.58it/s]"
     ]
    },
    {
     "name": "stdout",
     "output_type": "stream",
     "text": [
      "Best model checkpoint saved at epoch 14 with validation loss 0.0000508708\n"
     ]
    },
    {
     "name": "stderr",
     "output_type": "stream",
     "text": [
      "  2%|█▏                                                                              | 15/1000 [00:04<04:31,  3.63it/s]"
     ]
    },
    {
     "name": "stdout",
     "output_type": "stream",
     "text": [
      "Best model checkpoint saved at epoch 15 with validation loss 0.0000435229\n"
     ]
    },
    {
     "name": "stderr",
     "output_type": "stream",
     "text": [
      "  2%|█▎                                                                              | 17/1000 [00:04<04:14,  3.86it/s]"
     ]
    },
    {
     "name": "stdout",
     "output_type": "stream",
     "text": [
      "Best model checkpoint saved at epoch 17 with validation loss 0.0000351238\n"
     ]
    },
    {
     "name": "stderr",
     "output_type": "stream",
     "text": [
      "  2%|█▌                                                                              | 19/1000 [00:05<04:08,  3.95it/s]"
     ]
    },
    {
     "name": "stdout",
     "output_type": "stream",
     "text": [
      "Best model checkpoint saved at epoch 19 with validation loss 0.0000314615\n"
     ]
    },
    {
     "name": "stderr",
     "output_type": "stream",
     "text": [
      "  2%|█▌                                                                              | 20/1000 [00:05<04:11,  3.90it/s]"
     ]
    },
    {
     "name": "stdout",
     "output_type": "stream",
     "text": [
      "Best model checkpoint saved at epoch 20 with validation loss 0.0000264649\n"
     ]
    },
    {
     "name": "stderr",
     "output_type": "stream",
     "text": [
      "  2%|█▊                                                                              | 22/1000 [00:06<04:05,  3.98it/s]"
     ]
    },
    {
     "name": "stdout",
     "output_type": "stream",
     "text": [
      "Best model checkpoint saved at epoch 22 with validation loss 0.0000213054\n"
     ]
    },
    {
     "name": "stderr",
     "output_type": "stream",
     "text": [
      "  2%|█▊                                                                              | 23/1000 [00:06<04:08,  3.93it/s]"
     ]
    },
    {
     "name": "stdout",
     "output_type": "stream",
     "text": [
      "Best model checkpoint saved at epoch 23 with validation loss 0.0000177717\n"
     ]
    },
    {
     "name": "stderr",
     "output_type": "stream",
     "text": [
      "  2%|█▉                                                                              | 24/1000 [00:06<04:13,  3.85it/s]"
     ]
    },
    {
     "name": "stdout",
     "output_type": "stream",
     "text": [
      "Best model checkpoint saved at epoch 24 with validation loss 0.0000176890\n"
     ]
    },
    {
     "name": "stderr",
     "output_type": "stream",
     "text": [
      "  3%|██▏                                                                             | 28/1000 [00:07<04:04,  3.97it/s]"
     ]
    },
    {
     "name": "stdout",
     "output_type": "stream",
     "text": [
      "Best model checkpoint saved at epoch 28 with validation loss 0.0000135750\n"
     ]
    },
    {
     "name": "stderr",
     "output_type": "stream",
     "text": [
      "  3%|██▍                                                                             | 31/1000 [00:08<04:12,  3.83it/s]"
     ]
    },
    {
     "name": "stdout",
     "output_type": "stream",
     "text": [
      "Best model checkpoint saved at epoch 31 with validation loss 0.0000106890\n"
     ]
    },
    {
     "name": "stderr",
     "output_type": "stream",
     "text": [
      "  4%|██▊                                                                             | 35/1000 [00:09<04:11,  3.84it/s]"
     ]
    },
    {
     "name": "stdout",
     "output_type": "stream",
     "text": [
      "Best model checkpoint saved at epoch 35 with validation loss 0.0000085115\n"
     ]
    },
    {
     "name": "stderr",
     "output_type": "stream",
     "text": [
      "  4%|███▏                                                                            | 40/1000 [00:10<04:11,  3.81it/s]"
     ]
    },
    {
     "name": "stdout",
     "output_type": "stream",
     "text": [
      "Best model checkpoint saved at epoch 40 with validation loss 0.0000082117\n"
     ]
    },
    {
     "name": "stderr",
     "output_type": "stream",
     "text": [
      "  4%|███▎                                                                            | 42/1000 [00:11<04:09,  3.84it/s]"
     ]
    },
    {
     "name": "stdout",
     "output_type": "stream",
     "text": [
      "Best model checkpoint saved at epoch 42 with validation loss 0.0000071550\n"
     ]
    },
    {
     "name": "stderr",
     "output_type": "stream",
     "text": [
      "  5%|███▋                                                                            | 46/1000 [00:12<04:05,  3.88it/s]"
     ]
    },
    {
     "name": "stdout",
     "output_type": "stream",
     "text": [
      "Best model checkpoint saved at epoch 46 with validation loss 0.0000060386\n"
     ]
    },
    {
     "name": "stderr",
     "output_type": "stream",
     "text": [
      "  5%|████                                                                            | 50/1000 [00:13<04:06,  3.85it/s]"
     ]
    },
    {
     "name": "stdout",
     "output_type": "stream",
     "text": [
      "Best model checkpoint saved at epoch 50 with validation loss 0.0000052959\n"
     ]
    },
    {
     "name": "stderr",
     "output_type": "stream",
     "text": [
      "  5%|████▎                                                                           | 54/1000 [00:14<03:59,  3.95it/s]"
     ]
    },
    {
     "name": "stdout",
     "output_type": "stream",
     "text": [
      "Best model checkpoint saved at epoch 54 with validation loss 0.0000051242\n"
     ]
    },
    {
     "name": "stderr",
     "output_type": "stream",
     "text": [
      "  6%|████▍                                                                           | 55/1000 [00:14<03:58,  3.96it/s]"
     ]
    },
    {
     "name": "stdout",
     "output_type": "stream",
     "text": [
      "Best model checkpoint saved at epoch 55 with validation loss 0.0000041588\n"
     ]
    },
    {
     "name": "stderr",
     "output_type": "stream",
     "text": [
      "  6%|█████                                                                           | 64/1000 [00:16<03:52,  4.02it/s]"
     ]
    },
    {
     "name": "stdout",
     "output_type": "stream",
     "text": [
      "Best model checkpoint saved at epoch 64 with validation loss 0.0000027538\n"
     ]
    },
    {
     "name": "stderr",
     "output_type": "stream",
     "text": [
      "  7%|█████▎                                                                          | 67/1000 [00:17<04:12,  3.70it/s]"
     ]
    },
    {
     "name": "stdout",
     "output_type": "stream",
     "text": [
      "Best model checkpoint saved at epoch 67 with validation loss 0.0000026786\n"
     ]
    },
    {
     "name": "stderr",
     "output_type": "stream",
     "text": [
      "  7%|█████▋                                                                          | 71/1000 [00:19<04:39,  3.32it/s]"
     ]
    },
    {
     "name": "stdout",
     "output_type": "stream",
     "text": [
      "Best model checkpoint saved at epoch 71 with validation loss 0.0000022776\n"
     ]
    },
    {
     "name": "stderr",
     "output_type": "stream",
     "text": [
      "  7%|█████▊                                                                          | 72/1000 [00:19<04:44,  3.26it/s]"
     ]
    },
    {
     "name": "stdout",
     "output_type": "stream",
     "text": [
      "Best model checkpoint saved at epoch 72 with validation loss 0.0000022370\n"
     ]
    },
    {
     "name": "stderr",
     "output_type": "stream",
     "text": [
      "  8%|██████▍                                                                         | 80/1000 [00:21<04:55,  3.12it/s]"
     ]
    },
    {
     "name": "stdout",
     "output_type": "stream",
     "text": [
      "Best model checkpoint saved at epoch 80 with validation loss 0.0000017122\n"
     ]
    },
    {
     "name": "stderr",
     "output_type": "stream",
     "text": [
      "  8%|██████▋                                                                         | 84/1000 [00:23<04:53,  3.12it/s]"
     ]
    },
    {
     "name": "stdout",
     "output_type": "stream",
     "text": [
      "Best model checkpoint saved at epoch 84 with validation loss 0.0000015326\n"
     ]
    },
    {
     "name": "stderr",
     "output_type": "stream",
     "text": [
      " 10%|███████▌                                                                        | 95/1000 [00:26<04:50,  3.11it/s]"
     ]
    },
    {
     "name": "stdout",
     "output_type": "stream",
     "text": [
      "Best model checkpoint saved at epoch 95 with validation loss 0.0000012411\n"
     ]
    },
    {
     "name": "stderr",
     "output_type": "stream",
     "text": [
      " 11%|████████▌                                                                      | 109/1000 [00:31<04:26,  3.35it/s]"
     ]
    },
    {
     "name": "stdout",
     "output_type": "stream",
     "text": [
      "Best model checkpoint saved at epoch 109 with validation loss 0.0000009940\n"
     ]
    },
    {
     "name": "stderr",
     "output_type": "stream",
     "text": [
      " 11%|████████▉                                                                      | 113/1000 [00:32<04:38,  3.19it/s]"
     ]
    },
    {
     "name": "stdout",
     "output_type": "stream",
     "text": [
      "Best model checkpoint saved at epoch 113 with validation loss 0.0000009924\n"
     ]
    },
    {
     "name": "stderr",
     "output_type": "stream",
     "text": [
      " 12%|█████████▉                                                                     | 125/1000 [00:36<04:36,  3.17it/s]"
     ]
    },
    {
     "name": "stdout",
     "output_type": "stream",
     "text": [
      "Best model checkpoint saved at epoch 125 with validation loss 0.0000007684\n"
     ]
    },
    {
     "name": "stderr",
     "output_type": "stream",
     "text": [
      " 15%|███████████▊                                                                   | 150/1000 [00:43<04:25,  3.20it/s]"
     ]
    },
    {
     "name": "stdout",
     "output_type": "stream",
     "text": [
      "Best model checkpoint saved at epoch 150 with validation loss 0.0000007106\n"
     ]
    },
    {
     "name": "stderr",
     "output_type": "stream",
     "text": [
      " 15%|████████████▏                                                                  | 154/1000 [00:45<04:25,  3.19it/s]"
     ]
    },
    {
     "name": "stdout",
     "output_type": "stream",
     "text": [
      "Best model checkpoint saved at epoch 154 with validation loss 0.0000006253\n"
     ]
    },
    {
     "name": "stderr",
     "output_type": "stream",
     "text": [
      " 17%|█████████████▌                                                                 | 171/1000 [00:50<03:46,  3.65it/s]"
     ]
    },
    {
     "name": "stdout",
     "output_type": "stream",
     "text": [
      "Best model checkpoint saved at epoch 171 with validation loss 0.0000005456\n"
     ]
    },
    {
     "name": "stderr",
     "output_type": "stream",
     "text": [
      " 18%|█████████████▊                                                                 | 175/1000 [00:51<03:35,  3.83it/s]"
     ]
    },
    {
     "name": "stdout",
     "output_type": "stream",
     "text": [
      "Best model checkpoint saved at epoch 175 with validation loss 0.0000005416\n"
     ]
    },
    {
     "name": "stderr",
     "output_type": "stream",
     "text": [
      " 19%|██████████████▋                                                                | 186/1000 [00:54<03:45,  3.61it/s]"
     ]
    },
    {
     "name": "stdout",
     "output_type": "stream",
     "text": [
      "Best model checkpoint saved at epoch 186 with validation loss 0.0000005329\n"
     ]
    },
    {
     "name": "stderr",
     "output_type": "stream",
     "text": [
      " 20%|███████████████▉                                                               | 201/1000 [00:58<03:25,  3.89it/s]"
     ]
    },
    {
     "name": "stdout",
     "output_type": "stream",
     "text": [
      "Best model checkpoint saved at epoch 201 with validation loss 0.0000004412\n"
     ]
    },
    {
     "name": "stderr",
     "output_type": "stream",
     "text": [
      " 21%|████████████████▎                                                              | 207/1000 [00:59<03:34,  3.70it/s]"
     ]
    },
    {
     "name": "stdout",
     "output_type": "stream",
     "text": [
      "Best model checkpoint saved at epoch 207 with validation loss 0.0000004389\n"
     ]
    },
    {
     "name": "stderr",
     "output_type": "stream",
     "text": [
      " 40%|███████████████████████████████▋                                               | 401/1000 [01:56<02:32,  3.92it/s]"
     ]
    },
    {
     "name": "stdout",
     "output_type": "stream",
     "text": [
      "Best model checkpoint saved at epoch 401 with validation loss 0.0000003247\n"
     ]
    },
    {
     "name": "stderr",
     "output_type": "stream",
     "text": [
      " 60%|███████████████████████████████████████████████▍                               | 601/1000 [02:55<02:09,  3.07it/s]"
     ]
    },
    {
     "name": "stdout",
     "output_type": "stream",
     "text": [
      "Best model checkpoint saved at epoch 601 with validation loss 0.0000003058\n"
     ]
    },
    {
     "name": "stderr",
     "output_type": "stream",
     "text": [
      " 60%|███████████████████████████████████████████████▋                               | 603/1000 [02:55<02:08,  3.09it/s]"
     ]
    },
    {
     "name": "stdout",
     "output_type": "stream",
     "text": [
      "Best model checkpoint saved at epoch 603 with validation loss 0.0000003033\n"
     ]
    },
    {
     "name": "stderr",
     "output_type": "stream",
     "text": [
      " 60%|███████████████████████████████████████████████▋                               | 604/1000 [02:56<02:08,  3.09it/s]"
     ]
    },
    {
     "name": "stdout",
     "output_type": "stream",
     "text": [
      "Best model checkpoint saved at epoch 604 with validation loss 0.0000003026\n"
     ]
    },
    {
     "name": "stderr",
     "output_type": "stream",
     "text": [
      " 71%|███████████████████████████████████████████████████████▊                       | 706/1000 [03:28<01:33,  3.14it/s]"
     ]
    },
    {
     "name": "stdout",
     "output_type": "stream",
     "text": [
      "Best model checkpoint saved at epoch 706 with validation loss 0.0000003026\n"
     ]
    },
    {
     "name": "stderr",
     "output_type": "stream",
     "text": [
      " 71%|███████████████████████████████████████████████████████▊                       | 707/1000 [03:29<01:32,  3.18it/s]"
     ]
    },
    {
     "name": "stdout",
     "output_type": "stream",
     "text": [
      "Best model checkpoint saved at epoch 707 with validation loss 0.0000003025\n"
     ]
    },
    {
     "name": "stderr",
     "output_type": "stream",
     "text": [
      " 71%|███████████████████████████████████████████████████████▉                       | 708/1000 [03:29<01:32,  3.15it/s]"
     ]
    },
    {
     "name": "stdout",
     "output_type": "stream",
     "text": [
      "Best model checkpoint saved at epoch 708 with validation loss 0.0000003025\n"
     ]
    },
    {
     "name": "stderr",
     "output_type": "stream",
     "text": [
      " 71%|████████████████████████████████████████████████████████                       | 709/1000 [03:29<01:32,  3.16it/s]"
     ]
    },
    {
     "name": "stdout",
     "output_type": "stream",
     "text": [
      "Best model checkpoint saved at epoch 709 with validation loss 0.0000003024\n"
     ]
    },
    {
     "name": "stderr",
     "output_type": "stream",
     "text": [
      " 71%|████████████████████████████████████████████████████████                       | 710/1000 [03:30<01:30,  3.20it/s]"
     ]
    },
    {
     "name": "stdout",
     "output_type": "stream",
     "text": [
      "Best model checkpoint saved at epoch 710 with validation loss 0.0000003024\n"
     ]
    },
    {
     "name": "stderr",
     "output_type": "stream",
     "text": [
      " 71%|████████████████████████████████████████████████████████▏                      | 711/1000 [03:30<01:31,  3.16it/s]"
     ]
    },
    {
     "name": "stdout",
     "output_type": "stream",
     "text": [
      "Best model checkpoint saved at epoch 711 with validation loss 0.0000003024\n"
     ]
    },
    {
     "name": "stderr",
     "output_type": "stream",
     "text": [
      " 71%|████████████████████████████████████████████████████████▏                      | 712/1000 [03:30<01:31,  3.13it/s]"
     ]
    },
    {
     "name": "stdout",
     "output_type": "stream",
     "text": [
      "Best model checkpoint saved at epoch 712 with validation loss 0.0000003023\n"
     ]
    },
    {
     "name": "stderr",
     "output_type": "stream",
     "text": [
      " 71%|████████████████████████████████████████████████████████▎                      | 713/1000 [03:30<01:30,  3.18it/s]"
     ]
    },
    {
     "name": "stdout",
     "output_type": "stream",
     "text": [
      "Best model checkpoint saved at epoch 713 with validation loss 0.0000003023\n"
     ]
    },
    {
     "name": "stderr",
     "output_type": "stream",
     "text": [
      " 71%|████████████████████████████████████████████████████████▍                      | 714/1000 [03:31<01:30,  3.15it/s]"
     ]
    },
    {
     "name": "stdout",
     "output_type": "stream",
     "text": [
      "Best model checkpoint saved at epoch 714 with validation loss 0.0000003023\n"
     ]
    },
    {
     "name": "stderr",
     "output_type": "stream",
     "text": [
      " 72%|████████████████████████████████████████████████████████▍                      | 715/1000 [03:31<01:31,  3.13it/s]"
     ]
    },
    {
     "name": "stdout",
     "output_type": "stream",
     "text": [
      "Best model checkpoint saved at epoch 715 with validation loss 0.0000003022\n"
     ]
    },
    {
     "name": "stderr",
     "output_type": "stream",
     "text": [
      " 72%|████████████████████████████████████████████████████████▌                      | 716/1000 [03:31<01:28,  3.20it/s]"
     ]
    },
    {
     "name": "stdout",
     "output_type": "stream",
     "text": [
      "Best model checkpoint saved at epoch 716 with validation loss 0.0000003022\n"
     ]
    },
    {
     "name": "stderr",
     "output_type": "stream",
     "text": [
      " 72%|████████████████████████████████████████████████████████▋                      | 717/1000 [03:32<01:29,  3.16it/s]"
     ]
    },
    {
     "name": "stdout",
     "output_type": "stream",
     "text": [
      "Best model checkpoint saved at epoch 717 with validation loss 0.0000003021\n"
     ]
    },
    {
     "name": "stderr",
     "output_type": "stream",
     "text": [
      " 72%|████████████████████████████████████████████████████████▋                      | 718/1000 [03:32<01:29,  3.14it/s]"
     ]
    },
    {
     "name": "stdout",
     "output_type": "stream",
     "text": [
      "Best model checkpoint saved at epoch 718 with validation loss 0.0000003021\n"
     ]
    },
    {
     "name": "stderr",
     "output_type": "stream",
     "text": [
      " 72%|████████████████████████████████████████████████████████▊                      | 719/1000 [03:32<01:25,  3.28it/s]"
     ]
    },
    {
     "name": "stdout",
     "output_type": "stream",
     "text": [
      "Best model checkpoint saved at epoch 719 with validation loss 0.0000003021\n"
     ]
    },
    {
     "name": "stderr",
     "output_type": "stream",
     "text": [
      " 72%|████████████████████████████████████████████████████████▉                      | 720/1000 [03:33<01:27,  3.21it/s]"
     ]
    },
    {
     "name": "stdout",
     "output_type": "stream",
     "text": [
      "Best model checkpoint saved at epoch 720 with validation loss 0.0000003020\n"
     ]
    },
    {
     "name": "stderr",
     "output_type": "stream",
     "text": [
      " 72%|████████████████████████████████████████████████████████▉                      | 721/1000 [03:33<01:27,  3.18it/s]"
     ]
    },
    {
     "name": "stdout",
     "output_type": "stream",
     "text": [
      "Best model checkpoint saved at epoch 721 with validation loss 0.0000003020\n"
     ]
    },
    {
     "name": "stderr",
     "output_type": "stream",
     "text": [
      " 72%|█████████████████████████████████████████████████████████                      | 722/1000 [03:33<01:26,  3.21it/s]"
     ]
    },
    {
     "name": "stdout",
     "output_type": "stream",
     "text": [
      "Best model checkpoint saved at epoch 722 with validation loss 0.0000003020\n"
     ]
    },
    {
     "name": "stderr",
     "output_type": "stream",
     "text": [
      " 72%|█████████████████████████████████████████████████████████                      | 723/1000 [03:34<01:24,  3.26it/s]"
     ]
    },
    {
     "name": "stdout",
     "output_type": "stream",
     "text": [
      "Best model checkpoint saved at epoch 723 with validation loss 0.0000003019\n"
     ]
    },
    {
     "name": "stderr",
     "output_type": "stream",
     "text": [
      " 72%|█████████████████████████████████████████████████████████▏                     | 724/1000 [03:34<01:26,  3.20it/s]"
     ]
    },
    {
     "name": "stdout",
     "output_type": "stream",
     "text": [
      "Best model checkpoint saved at epoch 724 with validation loss 0.0000003019\n"
     ]
    },
    {
     "name": "stderr",
     "output_type": "stream",
     "text": [
      " 72%|█████████████████████████████████████████████████████████▎                     | 725/1000 [03:34<01:26,  3.16it/s]"
     ]
    },
    {
     "name": "stdout",
     "output_type": "stream",
     "text": [
      "Best model checkpoint saved at epoch 725 with validation loss 0.0000003018\n"
     ]
    },
    {
     "name": "stderr",
     "output_type": "stream",
     "text": [
      " 73%|█████████████████████████████████████████████████████████▎                     | 726/1000 [03:35<01:24,  3.23it/s]"
     ]
    },
    {
     "name": "stdout",
     "output_type": "stream",
     "text": [
      "Best model checkpoint saved at epoch 726 with validation loss 0.0000003018\n"
     ]
    },
    {
     "name": "stderr",
     "output_type": "stream",
     "text": [
      " 73%|█████████████████████████████████████████████████████████▍                     | 727/1000 [03:35<01:25,  3.21it/s]"
     ]
    },
    {
     "name": "stdout",
     "output_type": "stream",
     "text": [
      "Best model checkpoint saved at epoch 727 with validation loss 0.0000003018\n"
     ]
    },
    {
     "name": "stderr",
     "output_type": "stream",
     "text": [
      " 73%|█████████████████████████████████████████████████████████▌                     | 728/1000 [03:35<01:22,  3.30it/s]"
     ]
    },
    {
     "name": "stdout",
     "output_type": "stream",
     "text": [
      "Best model checkpoint saved at epoch 728 with validation loss 0.0000003017\n"
     ]
    },
    {
     "name": "stderr",
     "output_type": "stream",
     "text": [
      " 73%|█████████████████████████████████████████████████████████▌                     | 729/1000 [03:35<01:22,  3.29it/s]"
     ]
    },
    {
     "name": "stdout",
     "output_type": "stream",
     "text": [
      "Best model checkpoint saved at epoch 729 with validation loss 0.0000003017\n"
     ]
    },
    {
     "name": "stderr",
     "output_type": "stream",
     "text": [
      " 73%|█████████████████████████████████████████████████████████▋                     | 730/1000 [03:36<01:21,  3.32it/s]"
     ]
    },
    {
     "name": "stdout",
     "output_type": "stream",
     "text": [
      "Best model checkpoint saved at epoch 730 with validation loss 0.0000003017\n"
     ]
    },
    {
     "name": "stderr",
     "output_type": "stream",
     "text": [
      " 73%|█████████████████████████████████████████████████████████▋                     | 731/1000 [03:36<01:22,  3.28it/s]"
     ]
    },
    {
     "name": "stdout",
     "output_type": "stream",
     "text": [
      "Best model checkpoint saved at epoch 731 with validation loss 0.0000003016\n"
     ]
    },
    {
     "name": "stderr",
     "output_type": "stream",
     "text": [
      " 73%|█████████████████████████████████████████████████████████▊                     | 732/1000 [03:36<01:22,  3.25it/s]"
     ]
    },
    {
     "name": "stdout",
     "output_type": "stream",
     "text": [
      "Best model checkpoint saved at epoch 732 with validation loss 0.0000003016\n"
     ]
    },
    {
     "name": "stderr",
     "output_type": "stream",
     "text": [
      " 73%|█████████████████████████████████████████████████████████▉                     | 733/1000 [03:37<01:22,  3.22it/s]"
     ]
    },
    {
     "name": "stdout",
     "output_type": "stream",
     "text": [
      "Best model checkpoint saved at epoch 733 with validation loss 0.0000003015\n"
     ]
    },
    {
     "name": "stderr",
     "output_type": "stream",
     "text": [
      " 73%|█████████████████████████████████████████████████████████▉                     | 734/1000 [03:37<01:23,  3.20it/s]"
     ]
    },
    {
     "name": "stdout",
     "output_type": "stream",
     "text": [
      "Best model checkpoint saved at epoch 734 with validation loss 0.0000003015\n"
     ]
    },
    {
     "name": "stderr",
     "output_type": "stream",
     "text": [
      " 74%|██████████████████████████████████████████████████████████                     | 735/1000 [03:37<01:24,  3.13it/s]"
     ]
    },
    {
     "name": "stdout",
     "output_type": "stream",
     "text": [
      "Best model checkpoint saved at epoch 735 with validation loss 0.0000003015\n"
     ]
    },
    {
     "name": "stderr",
     "output_type": "stream",
     "text": [
      " 74%|██████████████████████████████████████████████████████████▏                    | 736/1000 [03:38<01:23,  3.15it/s]"
     ]
    },
    {
     "name": "stdout",
     "output_type": "stream",
     "text": [
      "Best model checkpoint saved at epoch 736 with validation loss 0.0000003014\n"
     ]
    },
    {
     "name": "stderr",
     "output_type": "stream",
     "text": [
      " 74%|██████████████████████████████████████████████████████████▏                    | 737/1000 [03:38<01:24,  3.11it/s]"
     ]
    },
    {
     "name": "stdout",
     "output_type": "stream",
     "text": [
      "Best model checkpoint saved at epoch 737 with validation loss 0.0000003014\n"
     ]
    },
    {
     "name": "stderr",
     "output_type": "stream",
     "text": [
      " 74%|██████████████████████████████████████████████████████████▎                    | 738/1000 [03:38<01:24,  3.09it/s]"
     ]
    },
    {
     "name": "stdout",
     "output_type": "stream",
     "text": [
      "Best model checkpoint saved at epoch 738 with validation loss 0.0000003014\n"
     ]
    },
    {
     "name": "stderr",
     "output_type": "stream",
     "text": [
      " 74%|██████████████████████████████████████████████████████████▍                    | 739/1000 [03:39<01:21,  3.21it/s]"
     ]
    },
    {
     "name": "stdout",
     "output_type": "stream",
     "text": [
      "Best model checkpoint saved at epoch 739 with validation loss 0.0000003013\n"
     ]
    },
    {
     "name": "stderr",
     "output_type": "stream",
     "text": [
      " 74%|██████████████████████████████████████████████████████████▍                    | 740/1000 [03:39<01:21,  3.20it/s]"
     ]
    },
    {
     "name": "stdout",
     "output_type": "stream",
     "text": [
      "Best model checkpoint saved at epoch 740 with validation loss 0.0000003013\n"
     ]
    },
    {
     "name": "stderr",
     "output_type": "stream",
     "text": [
      " 74%|██████████████████████████████████████████████████████████▌                    | 741/1000 [03:39<01:21,  3.16it/s]"
     ]
    },
    {
     "name": "stdout",
     "output_type": "stream",
     "text": [
      "Best model checkpoint saved at epoch 741 with validation loss 0.0000003013\n"
     ]
    },
    {
     "name": "stderr",
     "output_type": "stream",
     "text": [
      " 74%|██████████████████████████████████████████████████████████▌                    | 742/1000 [03:40<01:20,  3.19it/s]"
     ]
    },
    {
     "name": "stdout",
     "output_type": "stream",
     "text": [
      "Best model checkpoint saved at epoch 742 with validation loss 0.0000003012\n"
     ]
    },
    {
     "name": "stderr",
     "output_type": "stream",
     "text": [
      " 74%|██████████████████████████████████████████████████████████▋                    | 743/1000 [03:40<01:19,  3.25it/s]"
     ]
    },
    {
     "name": "stdout",
     "output_type": "stream",
     "text": [
      "Best model checkpoint saved at epoch 743 with validation loss 0.0000003012\n"
     ]
    },
    {
     "name": "stderr",
     "output_type": "stream",
     "text": [
      " 74%|██████████████████████████████████████████████████████████▊                    | 744/1000 [03:40<01:19,  3.23it/s]"
     ]
    },
    {
     "name": "stdout",
     "output_type": "stream",
     "text": [
      "Best model checkpoint saved at epoch 744 with validation loss 0.0000003011\n"
     ]
    },
    {
     "name": "stderr",
     "output_type": "stream",
     "text": [
      " 74%|██████████████████████████████████████████████████████████▊                    | 745/1000 [03:40<01:19,  3.21it/s]"
     ]
    },
    {
     "name": "stdout",
     "output_type": "stream",
     "text": [
      "Best model checkpoint saved at epoch 745 with validation loss 0.0000003011\n"
     ]
    },
    {
     "name": "stderr",
     "output_type": "stream",
     "text": [
      " 75%|██████████████████████████████████████████████████████████▉                    | 746/1000 [03:41<01:20,  3.17it/s]"
     ]
    },
    {
     "name": "stdout",
     "output_type": "stream",
     "text": [
      "Best model checkpoint saved at epoch 746 with validation loss 0.0000003011\n"
     ]
    },
    {
     "name": "stderr",
     "output_type": "stream",
     "text": [
      " 75%|███████████████████████████████████████████████████████████                    | 747/1000 [03:41<01:20,  3.14it/s]"
     ]
    },
    {
     "name": "stdout",
     "output_type": "stream",
     "text": [
      "Best model checkpoint saved at epoch 747 with validation loss 0.0000003010\n"
     ]
    },
    {
     "name": "stderr",
     "output_type": "stream",
     "text": [
      " 75%|███████████████████████████████████████████████████████████                    | 748/1000 [03:41<01:21,  3.09it/s]"
     ]
    },
    {
     "name": "stdout",
     "output_type": "stream",
     "text": [
      "Best model checkpoint saved at epoch 748 with validation loss 0.0000003010\n"
     ]
    },
    {
     "name": "stderr",
     "output_type": "stream",
     "text": [
      " 75%|███████████████████████████████████████████████████████████▏                   | 749/1000 [03:42<01:19,  3.15it/s]"
     ]
    },
    {
     "name": "stdout",
     "output_type": "stream",
     "text": [
      "Best model checkpoint saved at epoch 749 with validation loss 0.0000003010\n"
     ]
    },
    {
     "name": "stderr",
     "output_type": "stream",
     "text": [
      " 75%|███████████████████████████████████████████████████████████▎                   | 750/1000 [03:42<01:19,  3.13it/s]"
     ]
    },
    {
     "name": "stdout",
     "output_type": "stream",
     "text": [
      "Best model checkpoint saved at epoch 750 with validation loss 0.0000003009\n"
     ]
    },
    {
     "name": "stderr",
     "output_type": "stream",
     "text": [
      " 75%|███████████████████████████████████████████████████████████▎                   | 751/1000 [03:42<01:19,  3.12it/s]"
     ]
    },
    {
     "name": "stdout",
     "output_type": "stream",
     "text": [
      "Best model checkpoint saved at epoch 751 with validation loss 0.0000003009\n"
     ]
    },
    {
     "name": "stderr",
     "output_type": "stream",
     "text": [
      " 75%|███████████████████████████████████████████████████████████▍                   | 752/1000 [03:43<01:16,  3.23it/s]"
     ]
    },
    {
     "name": "stdout",
     "output_type": "stream",
     "text": [
      "Best model checkpoint saved at epoch 752 with validation loss 0.0000003009\n"
     ]
    },
    {
     "name": "stderr",
     "output_type": "stream",
     "text": [
      " 75%|███████████████████████████████████████████████████████████▍                   | 753/1000 [03:43<01:16,  3.21it/s]"
     ]
    },
    {
     "name": "stdout",
     "output_type": "stream",
     "text": [
      "Best model checkpoint saved at epoch 753 with validation loss 0.0000003008\n"
     ]
    },
    {
     "name": "stderr",
     "output_type": "stream",
     "text": [
      " 75%|███████████████████████████████████████████████████████████▌                   | 754/1000 [03:43<01:17,  3.17it/s]"
     ]
    },
    {
     "name": "stdout",
     "output_type": "stream",
     "text": [
      "Best model checkpoint saved at epoch 754 with validation loss 0.0000003008\n"
     ]
    },
    {
     "name": "stderr",
     "output_type": "stream",
     "text": [
      " 76%|███████████████████████████████████████████████████████████▋                   | 755/1000 [03:44<01:17,  3.14it/s]"
     ]
    },
    {
     "name": "stdout",
     "output_type": "stream",
     "text": [
      "Best model checkpoint saved at epoch 755 with validation loss 0.0000003008\n"
     ]
    },
    {
     "name": "stderr",
     "output_type": "stream",
     "text": [
      " 76%|███████████████████████████████████████████████████████████▋                   | 756/1000 [03:44<01:15,  3.22it/s]"
     ]
    },
    {
     "name": "stdout",
     "output_type": "stream",
     "text": [
      "Best model checkpoint saved at epoch 756 with validation loss 0.0000003007\n"
     ]
    },
    {
     "name": "stderr",
     "output_type": "stream",
     "text": [
      " 76%|███████████████████████████████████████████████████████████▊                   | 757/1000 [03:44<01:16,  3.17it/s]"
     ]
    },
    {
     "name": "stdout",
     "output_type": "stream",
     "text": [
      "Best model checkpoint saved at epoch 757 with validation loss 0.0000003007\n"
     ]
    },
    {
     "name": "stderr",
     "output_type": "stream",
     "text": [
      " 76%|███████████████████████████████████████████████████████████▉                   | 758/1000 [03:45<01:16,  3.18it/s]"
     ]
    },
    {
     "name": "stdout",
     "output_type": "stream",
     "text": [
      "Best model checkpoint saved at epoch 758 with validation loss 0.0000003007\n"
     ]
    },
    {
     "name": "stderr",
     "output_type": "stream",
     "text": [
      " 76%|███████████████████████████████████████████████████████████▉                   | 759/1000 [03:45<01:16,  3.15it/s]"
     ]
    },
    {
     "name": "stdout",
     "output_type": "stream",
     "text": [
      "Best model checkpoint saved at epoch 759 with validation loss 0.0000003006\n"
     ]
    },
    {
     "name": "stderr",
     "output_type": "stream",
     "text": [
      " 76%|████████████████████████████████████████████████████████████                   | 760/1000 [03:45<01:16,  3.12it/s]"
     ]
    },
    {
     "name": "stdout",
     "output_type": "stream",
     "text": [
      "Best model checkpoint saved at epoch 760 with validation loss 0.0000003006\n"
     ]
    },
    {
     "name": "stderr",
     "output_type": "stream",
     "text": [
      " 76%|████████████████████████████████████████████████████████████                   | 761/1000 [03:46<01:15,  3.17it/s]"
     ]
    },
    {
     "name": "stdout",
     "output_type": "stream",
     "text": [
      "Best model checkpoint saved at epoch 761 with validation loss 0.0000003006\n"
     ]
    },
    {
     "name": "stderr",
     "output_type": "stream",
     "text": [
      " 76%|████████████████████████████████████████████████████████████▏                  | 762/1000 [03:46<01:14,  3.20it/s]"
     ]
    },
    {
     "name": "stdout",
     "output_type": "stream",
     "text": [
      "Best model checkpoint saved at epoch 762 with validation loss 0.0000003005\n"
     ]
    },
    {
     "name": "stderr",
     "output_type": "stream",
     "text": [
      " 76%|████████████████████████████████████████████████████████████▎                  | 763/1000 [03:46<01:14,  3.16it/s]"
     ]
    },
    {
     "name": "stdout",
     "output_type": "stream",
     "text": [
      "Best model checkpoint saved at epoch 763 with validation loss 0.0000003005\n"
     ]
    },
    {
     "name": "stderr",
     "output_type": "stream",
     "text": [
      " 76%|████████████████████████████████████████████████████████████▎                  | 764/1000 [03:46<01:15,  3.11it/s]"
     ]
    },
    {
     "name": "stdout",
     "output_type": "stream",
     "text": [
      "Best model checkpoint saved at epoch 764 with validation loss 0.0000003005\n"
     ]
    },
    {
     "name": "stderr",
     "output_type": "stream",
     "text": [
      " 76%|████████████████████████████████████████████████████████████▍                  | 765/1000 [03:47<01:13,  3.21it/s]"
     ]
    },
    {
     "name": "stdout",
     "output_type": "stream",
     "text": [
      "Best model checkpoint saved at epoch 765 with validation loss 0.0000003004\n"
     ]
    },
    {
     "name": "stderr",
     "output_type": "stream",
     "text": [
      " 77%|████████████████████████████████████████████████████████████▌                  | 766/1000 [03:47<01:13,  3.18it/s]"
     ]
    },
    {
     "name": "stdout",
     "output_type": "stream",
     "text": [
      "Best model checkpoint saved at epoch 766 with validation loss 0.0000003004\n"
     ]
    },
    {
     "name": "stderr",
     "output_type": "stream",
     "text": [
      " 77%|████████████████████████████████████████████████████████████▌                  | 767/1000 [03:47<01:13,  3.15it/s]"
     ]
    },
    {
     "name": "stdout",
     "output_type": "stream",
     "text": [
      "Best model checkpoint saved at epoch 767 with validation loss 0.0000003004\n"
     ]
    },
    {
     "name": "stderr",
     "output_type": "stream",
     "text": [
      " 77%|████████████████████████████████████████████████████████████▋                  | 768/1000 [03:48<01:11,  3.25it/s]"
     ]
    },
    {
     "name": "stdout",
     "output_type": "stream",
     "text": [
      "Best model checkpoint saved at epoch 768 with validation loss 0.0000003003\n"
     ]
    },
    {
     "name": "stderr",
     "output_type": "stream",
     "text": [
      " 77%|████████████████████████████████████████████████████████████▊                  | 769/1000 [03:48<01:07,  3.42it/s]"
     ]
    },
    {
     "name": "stdout",
     "output_type": "stream",
     "text": [
      "Best model checkpoint saved at epoch 769 with validation loss 0.0000003003\n"
     ]
    },
    {
     "name": "stderr",
     "output_type": "stream",
     "text": [
      " 77%|████████████████████████████████████████████████████████████▊                  | 770/1000 [03:48<01:06,  3.47it/s]"
     ]
    },
    {
     "name": "stdout",
     "output_type": "stream",
     "text": [
      "Best model checkpoint saved at epoch 770 with validation loss 0.0000003003\n"
     ]
    },
    {
     "name": "stderr",
     "output_type": "stream",
     "text": [
      " 77%|████████████████████████████████████████████████████████████▉                  | 771/1000 [03:48<01:03,  3.59it/s]"
     ]
    },
    {
     "name": "stdout",
     "output_type": "stream",
     "text": [
      "Best model checkpoint saved at epoch 771 with validation loss 0.0000003002\n"
     ]
    },
    {
     "name": "stderr",
     "output_type": "stream",
     "text": [
      " 77%|████████████████████████████████████████████████████████████▉                  | 772/1000 [03:49<01:03,  3.60it/s]"
     ]
    },
    {
     "name": "stdout",
     "output_type": "stream",
     "text": [
      "Best model checkpoint saved at epoch 772 with validation loss 0.0000003002\n"
     ]
    },
    {
     "name": "stderr",
     "output_type": "stream",
     "text": [
      " 77%|█████████████████████████████████████████████████████████████                  | 773/1000 [03:49<01:05,  3.48it/s]"
     ]
    },
    {
     "name": "stdout",
     "output_type": "stream",
     "text": [
      "Best model checkpoint saved at epoch 773 with validation loss 0.0000003002\n"
     ]
    },
    {
     "name": "stderr",
     "output_type": "stream",
     "text": [
      " 77%|█████████████████████████████████████████████████████████████▏                 | 774/1000 [03:49<01:02,  3.60it/s]"
     ]
    },
    {
     "name": "stdout",
     "output_type": "stream",
     "text": [
      "Best model checkpoint saved at epoch 774 with validation loss 0.0000003001\n"
     ]
    },
    {
     "name": "stderr",
     "output_type": "stream",
     "text": [
      " 78%|█████████████████████████████████████████████████████████████▏                 | 775/1000 [03:50<01:04,  3.49it/s]"
     ]
    },
    {
     "name": "stdout",
     "output_type": "stream",
     "text": [
      "Best model checkpoint saved at epoch 775 with validation loss 0.0000003001\n"
     ]
    },
    {
     "name": "stderr",
     "output_type": "stream",
     "text": [
      " 78%|█████████████████████████████████████████████████████████████▎                 | 776/1000 [03:50<01:02,  3.56it/s]"
     ]
    },
    {
     "name": "stdout",
     "output_type": "stream",
     "text": [
      "Best model checkpoint saved at epoch 776 with validation loss 0.0000003001\n"
     ]
    },
    {
     "name": "stderr",
     "output_type": "stream",
     "text": [
      " 78%|█████████████████████████████████████████████████████████████▍                 | 777/1000 [03:50<01:01,  3.60it/s]"
     ]
    },
    {
     "name": "stdout",
     "output_type": "stream",
     "text": [
      "Best model checkpoint saved at epoch 777 with validation loss 0.0000003000\n"
     ]
    },
    {
     "name": "stderr",
     "output_type": "stream",
     "text": [
      " 78%|█████████████████████████████████████████████████████████████▍                 | 778/1000 [03:50<00:59,  3.74it/s]"
     ]
    },
    {
     "name": "stdout",
     "output_type": "stream",
     "text": [
      "Best model checkpoint saved at epoch 778 with validation loss 0.0000003000\n"
     ]
    },
    {
     "name": "stderr",
     "output_type": "stream",
     "text": [
      " 78%|█████████████████████████████████████████████████████████████▌                 | 779/1000 [03:51<01:01,  3.58it/s]"
     ]
    },
    {
     "name": "stdout",
     "output_type": "stream",
     "text": [
      "Best model checkpoint saved at epoch 779 with validation loss 0.0000003000\n"
     ]
    },
    {
     "name": "stderr",
     "output_type": "stream",
     "text": [
      " 78%|█████████████████████████████████████████████████████████████▌                 | 780/1000 [03:51<01:04,  3.40it/s]"
     ]
    },
    {
     "name": "stdout",
     "output_type": "stream",
     "text": [
      "Best model checkpoint saved at epoch 780 with validation loss 0.0000002999\n"
     ]
    },
    {
     "name": "stderr",
     "output_type": "stream",
     "text": [
      " 78%|█████████████████████████████████████████████████████████████▋                 | 781/1000 [03:51<01:02,  3.53it/s]"
     ]
    },
    {
     "name": "stdout",
     "output_type": "stream",
     "text": [
      "Best model checkpoint saved at epoch 781 with validation loss 0.0000002999\n"
     ]
    },
    {
     "name": "stderr",
     "output_type": "stream",
     "text": [
      " 78%|█████████████████████████████████████████████████████████████▊                 | 782/1000 [03:52<01:00,  3.59it/s]"
     ]
    },
    {
     "name": "stdout",
     "output_type": "stream",
     "text": [
      "Best model checkpoint saved at epoch 782 with validation loss 0.0000002999\n"
     ]
    },
    {
     "name": "stderr",
     "output_type": "stream",
     "text": [
      " 78%|█████████████████████████████████████████████████████████████▊                 | 783/1000 [03:52<00:59,  3.68it/s]"
     ]
    },
    {
     "name": "stdout",
     "output_type": "stream",
     "text": [
      "Best model checkpoint saved at epoch 783 with validation loss 0.0000002998\n"
     ]
    },
    {
     "name": "stderr",
     "output_type": "stream",
     "text": [
      " 78%|█████████████████████████████████████████████████████████████▉                 | 784/1000 [03:52<00:57,  3.78it/s]"
     ]
    },
    {
     "name": "stdout",
     "output_type": "stream",
     "text": [
      "Best model checkpoint saved at epoch 784 with validation loss 0.0000002998\n"
     ]
    },
    {
     "name": "stderr",
     "output_type": "stream",
     "text": [
      " 78%|██████████████████████████████████████████████████████████████                 | 785/1000 [03:52<00:56,  3.81it/s]"
     ]
    },
    {
     "name": "stdout",
     "output_type": "stream",
     "text": [
      "Best model checkpoint saved at epoch 785 with validation loss 0.0000002998\n"
     ]
    },
    {
     "name": "stderr",
     "output_type": "stream",
     "text": [
      " 79%|██████████████████████████████████████████████████████████████                 | 786/1000 [03:53<00:55,  3.88it/s]"
     ]
    },
    {
     "name": "stdout",
     "output_type": "stream",
     "text": [
      "Best model checkpoint saved at epoch 786 with validation loss 0.0000002997\n"
     ]
    },
    {
     "name": "stderr",
     "output_type": "stream",
     "text": [
      " 79%|██████████████████████████████████████████████████████████████▏                | 787/1000 [03:53<00:55,  3.84it/s]"
     ]
    },
    {
     "name": "stdout",
     "output_type": "stream",
     "text": [
      "Best model checkpoint saved at epoch 787 with validation loss 0.0000002997\n"
     ]
    },
    {
     "name": "stderr",
     "output_type": "stream",
     "text": [
      " 79%|██████████████████████████████████████████████████████████████▎                | 788/1000 [03:53<00:54,  3.89it/s]"
     ]
    },
    {
     "name": "stdout",
     "output_type": "stream",
     "text": [
      "Best model checkpoint saved at epoch 788 with validation loss 0.0000002997\n"
     ]
    },
    {
     "name": "stderr",
     "output_type": "stream",
     "text": [
      " 79%|██████████████████████████████████████████████████████████████▎                | 789/1000 [03:53<00:54,  3.86it/s]"
     ]
    },
    {
     "name": "stdout",
     "output_type": "stream",
     "text": [
      "Best model checkpoint saved at epoch 789 with validation loss 0.0000002996\n"
     ]
    },
    {
     "name": "stderr",
     "output_type": "stream",
     "text": [
      " 79%|██████████████████████████████████████████████████████████████▍                | 790/1000 [03:54<00:54,  3.87it/s]"
     ]
    },
    {
     "name": "stdout",
     "output_type": "stream",
     "text": [
      "Best model checkpoint saved at epoch 790 with validation loss 0.0000002996\n"
     ]
    },
    {
     "name": "stderr",
     "output_type": "stream",
     "text": [
      " 79%|██████████████████████████████████████████████████████████████▍                | 791/1000 [03:54<00:53,  3.87it/s]"
     ]
    },
    {
     "name": "stdout",
     "output_type": "stream",
     "text": [
      "Best model checkpoint saved at epoch 791 with validation loss 0.0000002996\n"
     ]
    },
    {
     "name": "stderr",
     "output_type": "stream",
     "text": [
      " 79%|██████████████████████████████████████████████████████████████▌                | 792/1000 [03:54<00:58,  3.58it/s]"
     ]
    },
    {
     "name": "stdout",
     "output_type": "stream",
     "text": [
      "Best model checkpoint saved at epoch 792 with validation loss 0.0000002995\n"
     ]
    },
    {
     "name": "stderr",
     "output_type": "stream",
     "text": [
      " 79%|██████████████████████████████████████████████████████████████▋                | 793/1000 [03:54<00:57,  3.58it/s]"
     ]
    },
    {
     "name": "stdout",
     "output_type": "stream",
     "text": [
      "Best model checkpoint saved at epoch 793 with validation loss 0.0000002995\n"
     ]
    },
    {
     "name": "stderr",
     "output_type": "stream",
     "text": [
      " 79%|██████████████████████████████████████████████████████████████▋                | 794/1000 [03:55<00:56,  3.64it/s]"
     ]
    },
    {
     "name": "stdout",
     "output_type": "stream",
     "text": [
      "Best model checkpoint saved at epoch 794 with validation loss 0.0000002995\n"
     ]
    },
    {
     "name": "stderr",
     "output_type": "stream",
     "text": [
      " 80%|██████████████████████████████████████████████████████████████▊                | 795/1000 [03:55<00:55,  3.71it/s]"
     ]
    },
    {
     "name": "stdout",
     "output_type": "stream",
     "text": [
      "Best model checkpoint saved at epoch 795 with validation loss 0.0000002994\n"
     ]
    },
    {
     "name": "stderr",
     "output_type": "stream",
     "text": [
      " 80%|██████████████████████████████████████████████████████████████▉                | 796/1000 [03:55<00:55,  3.68it/s]"
     ]
    },
    {
     "name": "stdout",
     "output_type": "stream",
     "text": [
      "Best model checkpoint saved at epoch 796 with validation loss 0.0000002994\n"
     ]
    },
    {
     "name": "stderr",
     "output_type": "stream",
     "text": [
      " 80%|██████████████████████████████████████████████████████████████▉                | 797/1000 [03:56<00:53,  3.79it/s]"
     ]
    },
    {
     "name": "stdout",
     "output_type": "stream",
     "text": [
      "Best model checkpoint saved at epoch 797 with validation loss 0.0000002994\n"
     ]
    },
    {
     "name": "stderr",
     "output_type": "stream",
     "text": [
      " 80%|███████████████████████████████████████████████████████████████                | 798/1000 [03:56<00:53,  3.81it/s]"
     ]
    },
    {
     "name": "stdout",
     "output_type": "stream",
     "text": [
      "Best model checkpoint saved at epoch 798 with validation loss 0.0000002993\n"
     ]
    },
    {
     "name": "stderr",
     "output_type": "stream",
     "text": [
      " 80%|███████████████████████████████████████████████████████████████                | 799/1000 [03:56<00:52,  3.80it/s]"
     ]
    },
    {
     "name": "stdout",
     "output_type": "stream",
     "text": [
      "Best model checkpoint saved at epoch 799 with validation loss 0.0000002993\n"
     ]
    },
    {
     "name": "stderr",
     "output_type": "stream",
     "text": [
      " 80%|███████████████████████████████████████████████████████████████▏               | 800/1000 [03:56<00:51,  3.86it/s]"
     ]
    },
    {
     "name": "stdout",
     "output_type": "stream",
     "text": [
      "Best model checkpoint saved at epoch 800 with validation loss 0.0000002993\n"
     ]
    },
    {
     "name": "stderr",
     "output_type": "stream",
     "text": [
      " 80%|███████████████████████████████████████████████████████████████▎               | 801/1000 [03:57<00:56,  3.53it/s]"
     ]
    },
    {
     "name": "stdout",
     "output_type": "stream",
     "text": [
      "Best model checkpoint saved at epoch 801 with validation loss 0.0000002943\n"
     ]
    },
    {
     "name": "stderr",
     "output_type": "stream",
     "text": [
      " 80%|███████████████████████████████████████████████████████████████▎               | 802/1000 [03:57<00:56,  3.53it/s]"
     ]
    },
    {
     "name": "stdout",
     "output_type": "stream",
     "text": [
      "Best model checkpoint saved at epoch 802 with validation loss 0.0000002936\n"
     ]
    },
    {
     "name": "stderr",
     "output_type": "stream",
     "text": [
      " 81%|███████████████████████████████████████████████████████████████▊               | 807/1000 [03:58<00:47,  4.05it/s]"
     ]
    },
    {
     "name": "stdout",
     "output_type": "stream",
     "text": [
      "Best model checkpoint saved at epoch 807 with validation loss 0.0000002933\n"
     ]
    },
    {
     "name": "stderr",
     "output_type": "stream",
     "text": [
      " 86%|████████████████████████████████████████████████████████████████████           | 861/1000 [04:13<00:35,  3.87it/s]"
     ]
    },
    {
     "name": "stdout",
     "output_type": "stream",
     "text": [
      "Best model checkpoint saved at epoch 861 with validation loss 0.0000002933\n"
     ]
    },
    {
     "name": "stderr",
     "output_type": "stream",
     "text": [
      " 86%|████████████████████████████████████████████████████████████████████           | 862/1000 [04:13<00:36,  3.76it/s]"
     ]
    },
    {
     "name": "stdout",
     "output_type": "stream",
     "text": [
      "Best model checkpoint saved at epoch 862 with validation loss 0.0000002932\n"
     ]
    },
    {
     "name": "stderr",
     "output_type": "stream",
     "text": [
      " 86%|████████████████████████████████████████████████████████████████████▏          | 863/1000 [04:13<00:35,  3.81it/s]"
     ]
    },
    {
     "name": "stdout",
     "output_type": "stream",
     "text": [
      "Best model checkpoint saved at epoch 863 with validation loss 0.0000002932\n"
     ]
    },
    {
     "name": "stderr",
     "output_type": "stream",
     "text": [
      " 86%|████████████████████████████████████████████████████████████████████▎          | 864/1000 [04:14<00:35,  3.86it/s]"
     ]
    },
    {
     "name": "stdout",
     "output_type": "stream",
     "text": [
      "Best model checkpoint saved at epoch 864 with validation loss 0.0000002932\n"
     ]
    },
    {
     "name": "stderr",
     "output_type": "stream",
     "text": [
      " 86%|████████████████████████████████████████████████████████████████████▎          | 865/1000 [04:14<00:35,  3.78it/s]"
     ]
    },
    {
     "name": "stdout",
     "output_type": "stream",
     "text": [
      "Best model checkpoint saved at epoch 865 with validation loss 0.0000002932\n"
     ]
    },
    {
     "name": "stderr",
     "output_type": "stream",
     "text": [
      " 87%|████████████████████████████████████████████████████████████████████▍          | 866/1000 [04:14<00:35,  3.79it/s]"
     ]
    },
    {
     "name": "stdout",
     "output_type": "stream",
     "text": [
      "Best model checkpoint saved at epoch 866 with validation loss 0.0000002932\n"
     ]
    },
    {
     "name": "stderr",
     "output_type": "stream",
     "text": [
      " 87%|████████████████████████████████████████████████████████████████████▍          | 867/1000 [04:14<00:34,  3.85it/s]"
     ]
    },
    {
     "name": "stdout",
     "output_type": "stream",
     "text": [
      "Best model checkpoint saved at epoch 867 with validation loss 0.0000002932\n"
     ]
    },
    {
     "name": "stderr",
     "output_type": "stream",
     "text": [
      " 87%|████████████████████████████████████████████████████████████████████▌          | 868/1000 [04:15<00:34,  3.83it/s]"
     ]
    },
    {
     "name": "stdout",
     "output_type": "stream",
     "text": [
      "Best model checkpoint saved at epoch 868 with validation loss 0.0000002931\n"
     ]
    },
    {
     "name": "stderr",
     "output_type": "stream",
     "text": [
      " 87%|████████████████████████████████████████████████████████████████████▋          | 869/1000 [04:15<00:35,  3.71it/s]"
     ]
    },
    {
     "name": "stdout",
     "output_type": "stream",
     "text": [
      "Best model checkpoint saved at epoch 869 with validation loss 0.0000002931\n"
     ]
    },
    {
     "name": "stderr",
     "output_type": "stream",
     "text": [
      " 87%|████████████████████████████████████████████████████████████████████▋          | 870/1000 [04:15<00:34,  3.75it/s]"
     ]
    },
    {
     "name": "stdout",
     "output_type": "stream",
     "text": [
      "Best model checkpoint saved at epoch 870 with validation loss 0.0000002931\n"
     ]
    },
    {
     "name": "stderr",
     "output_type": "stream",
     "text": [
      " 87%|████████████████████████████████████████████████████████████████████▊          | 871/1000 [04:15<00:35,  3.64it/s]"
     ]
    },
    {
     "name": "stdout",
     "output_type": "stream",
     "text": [
      "Best model checkpoint saved at epoch 871 with validation loss 0.0000002931\n"
     ]
    },
    {
     "name": "stderr",
     "output_type": "stream",
     "text": [
      " 87%|████████████████████████████████████████████████████████████████████▉          | 872/1000 [04:16<00:34,  3.74it/s]"
     ]
    },
    {
     "name": "stdout",
     "output_type": "stream",
     "text": [
      "Best model checkpoint saved at epoch 872 with validation loss 0.0000002931\n"
     ]
    },
    {
     "name": "stderr",
     "output_type": "stream",
     "text": [
      " 87%|████████████████████████████████████████████████████████████████████▉          | 873/1000 [04:16<00:33,  3.83it/s]"
     ]
    },
    {
     "name": "stdout",
     "output_type": "stream",
     "text": [
      "Best model checkpoint saved at epoch 873 with validation loss 0.0000002930\n"
     ]
    },
    {
     "name": "stderr",
     "output_type": "stream",
     "text": [
      " 87%|█████████████████████████████████████████████████████████████████████          | 874/1000 [04:16<00:32,  3.85it/s]"
     ]
    },
    {
     "name": "stdout",
     "output_type": "stream",
     "text": [
      "Best model checkpoint saved at epoch 874 with validation loss 0.0000002930\n"
     ]
    },
    {
     "name": "stderr",
     "output_type": "stream",
     "text": [
      " 88%|█████████████████████████████████████████████████████████████████████▏         | 875/1000 [04:16<00:32,  3.86it/s]"
     ]
    },
    {
     "name": "stdout",
     "output_type": "stream",
     "text": [
      "Best model checkpoint saved at epoch 875 with validation loss 0.0000002930\n"
     ]
    },
    {
     "name": "stderr",
     "output_type": "stream",
     "text": [
      " 88%|█████████████████████████████████████████████████████████████████████▏         | 876/1000 [04:17<00:32,  3.87it/s]"
     ]
    },
    {
     "name": "stdout",
     "output_type": "stream",
     "text": [
      "Best model checkpoint saved at epoch 876 with validation loss 0.0000002930\n"
     ]
    },
    {
     "name": "stderr",
     "output_type": "stream",
     "text": [
      " 88%|█████████████████████████████████████████████████████████████████████▎         | 877/1000 [04:17<00:31,  3.87it/s]"
     ]
    },
    {
     "name": "stdout",
     "output_type": "stream",
     "text": [
      "Best model checkpoint saved at epoch 877 with validation loss 0.0000002930\n"
     ]
    },
    {
     "name": "stderr",
     "output_type": "stream",
     "text": [
      " 88%|█████████████████████████████████████████████████████████████████████▎         | 878/1000 [04:17<00:31,  3.88it/s]"
     ]
    },
    {
     "name": "stdout",
     "output_type": "stream",
     "text": [
      "Best model checkpoint saved at epoch 878 with validation loss 0.0000002929\n"
     ]
    },
    {
     "name": "stderr",
     "output_type": "stream",
     "text": [
      " 88%|█████████████████████████████████████████████████████████████████████▍         | 879/1000 [04:18<00:30,  3.93it/s]"
     ]
    },
    {
     "name": "stdout",
     "output_type": "stream",
     "text": [
      "Best model checkpoint saved at epoch 879 with validation loss 0.0000002929\n"
     ]
    },
    {
     "name": "stderr",
     "output_type": "stream",
     "text": [
      " 88%|█████████████████████████████████████████████████████████████████████▌         | 880/1000 [04:18<00:30,  3.97it/s]"
     ]
    },
    {
     "name": "stdout",
     "output_type": "stream",
     "text": [
      "Best model checkpoint saved at epoch 880 with validation loss 0.0000002929\n"
     ]
    },
    {
     "name": "stderr",
     "output_type": "stream",
     "text": [
      " 88%|█████████████████████████████████████████████████████████████████████▌         | 881/1000 [04:18<00:32,  3.69it/s]"
     ]
    },
    {
     "name": "stdout",
     "output_type": "stream",
     "text": [
      "Best model checkpoint saved at epoch 881 with validation loss 0.0000002929\n"
     ]
    },
    {
     "name": "stderr",
     "output_type": "stream",
     "text": [
      " 88%|█████████████████████████████████████████████████████████████████████▋         | 882/1000 [04:18<00:33,  3.55it/s]"
     ]
    },
    {
     "name": "stdout",
     "output_type": "stream",
     "text": [
      "Best model checkpoint saved at epoch 882 with validation loss 0.0000002929\n"
     ]
    },
    {
     "name": "stderr",
     "output_type": "stream",
     "text": [
      " 88%|█████████████████████████████████████████████████████████████████████▊         | 883/1000 [04:19<00:34,  3.38it/s]"
     ]
    },
    {
     "name": "stdout",
     "output_type": "stream",
     "text": [
      "Best model checkpoint saved at epoch 883 with validation loss 0.0000002929\n"
     ]
    },
    {
     "name": "stderr",
     "output_type": "stream",
     "text": [
      " 88%|█████████████████████████████████████████████████████████████████████▊         | 884/1000 [04:19<00:35,  3.28it/s]"
     ]
    },
    {
     "name": "stdout",
     "output_type": "stream",
     "text": [
      "Best model checkpoint saved at epoch 884 with validation loss 0.0000002928\n"
     ]
    },
    {
     "name": "stderr",
     "output_type": "stream",
     "text": [
      " 88%|█████████████████████████████████████████████████████████████████████▉         | 885/1000 [04:19<00:35,  3.28it/s]"
     ]
    },
    {
     "name": "stdout",
     "output_type": "stream",
     "text": [
      "Best model checkpoint saved at epoch 885 with validation loss 0.0000002928\n"
     ]
    },
    {
     "name": "stderr",
     "output_type": "stream",
     "text": [
      " 89%|█████████████████████████████████████████████████████████████████████▉         | 886/1000 [04:20<00:35,  3.24it/s]"
     ]
    },
    {
     "name": "stdout",
     "output_type": "stream",
     "text": [
      "Best model checkpoint saved at epoch 886 with validation loss 0.0000002928\n"
     ]
    },
    {
     "name": "stderr",
     "output_type": "stream",
     "text": [
      " 89%|██████████████████████████████████████████████████████████████████████         | 887/1000 [04:20<00:34,  3.32it/s]"
     ]
    },
    {
     "name": "stdout",
     "output_type": "stream",
     "text": [
      "Best model checkpoint saved at epoch 887 with validation loss 0.0000002928\n"
     ]
    },
    {
     "name": "stderr",
     "output_type": "stream",
     "text": [
      " 89%|██████████████████████████████████████████████████████████████████████▏        | 888/1000 [04:20<00:33,  3.30it/s]"
     ]
    },
    {
     "name": "stdout",
     "output_type": "stream",
     "text": [
      "Best model checkpoint saved at epoch 888 with validation loss 0.0000002928\n"
     ]
    },
    {
     "name": "stderr",
     "output_type": "stream",
     "text": [
      " 89%|██████████████████████████████████████████████████████████████████████▏        | 889/1000 [04:21<00:32,  3.37it/s]"
     ]
    },
    {
     "name": "stdout",
     "output_type": "stream",
     "text": [
      "Best model checkpoint saved at epoch 889 with validation loss 0.0000002927\n"
     ]
    },
    {
     "name": "stderr",
     "output_type": "stream",
     "text": [
      " 89%|██████████████████████████████████████████████████████████████████████▎        | 890/1000 [04:21<00:33,  3.29it/s]"
     ]
    },
    {
     "name": "stdout",
     "output_type": "stream",
     "text": [
      "Best model checkpoint saved at epoch 890 with validation loss 0.0000002927\n"
     ]
    },
    {
     "name": "stderr",
     "output_type": "stream",
     "text": [
      " 89%|██████████████████████████████████████████████████████████████████████▍        | 891/1000 [04:21<00:32,  3.32it/s]"
     ]
    },
    {
     "name": "stdout",
     "output_type": "stream",
     "text": [
      "Best model checkpoint saved at epoch 891 with validation loss 0.0000002927\n"
     ]
    },
    {
     "name": "stderr",
     "output_type": "stream",
     "text": [
      " 89%|██████████████████████████████████████████████████████████████████████▍        | 892/1000 [04:21<00:33,  3.27it/s]"
     ]
    },
    {
     "name": "stdout",
     "output_type": "stream",
     "text": [
      "Best model checkpoint saved at epoch 892 with validation loss 0.0000002927\n"
     ]
    },
    {
     "name": "stderr",
     "output_type": "stream",
     "text": [
      " 89%|██████████████████████████████████████████████████████████████████████▌        | 893/1000 [04:22<00:33,  3.24it/s]"
     ]
    },
    {
     "name": "stdout",
     "output_type": "stream",
     "text": [
      "Best model checkpoint saved at epoch 893 with validation loss 0.0000002927\n"
     ]
    },
    {
     "name": "stderr",
     "output_type": "stream",
     "text": [
      " 89%|██████████████████████████████████████████████████████████████████████▋        | 894/1000 [04:22<00:33,  3.18it/s]"
     ]
    },
    {
     "name": "stdout",
     "output_type": "stream",
     "text": [
      "Best model checkpoint saved at epoch 894 with validation loss 0.0000002927\n"
     ]
    },
    {
     "name": "stderr",
     "output_type": "stream",
     "text": [
      " 90%|██████████████████████████████████████████████████████████████████████▋        | 895/1000 [04:22<00:32,  3.20it/s]"
     ]
    },
    {
     "name": "stdout",
     "output_type": "stream",
     "text": [
      "Best model checkpoint saved at epoch 895 with validation loss 0.0000002926\n"
     ]
    },
    {
     "name": "stderr",
     "output_type": "stream",
     "text": [
      " 90%|██████████████████████████████████████████████████████████████████████▊        | 896/1000 [04:23<00:32,  3.16it/s]"
     ]
    },
    {
     "name": "stdout",
     "output_type": "stream",
     "text": [
      "Best model checkpoint saved at epoch 896 with validation loss 0.0000002926\n"
     ]
    },
    {
     "name": "stderr",
     "output_type": "stream",
     "text": [
      " 90%|██████████████████████████████████████████████████████████████████████▊        | 897/1000 [04:23<00:32,  3.13it/s]"
     ]
    },
    {
     "name": "stdout",
     "output_type": "stream",
     "text": [
      "Best model checkpoint saved at epoch 897 with validation loss 0.0000002926\n"
     ]
    },
    {
     "name": "stderr",
     "output_type": "stream",
     "text": [
      " 90%|██████████████████████████████████████████████████████████████████████▉        | 898/1000 [04:23<00:32,  3.11it/s]"
     ]
    },
    {
     "name": "stdout",
     "output_type": "stream",
     "text": [
      "Best model checkpoint saved at epoch 898 with validation loss 0.0000002926\n"
     ]
    },
    {
     "name": "stderr",
     "output_type": "stream",
     "text": [
      " 90%|███████████████████████████████████████████████████████████████████████        | 899/1000 [04:24<00:32,  3.10it/s]"
     ]
    },
    {
     "name": "stdout",
     "output_type": "stream",
     "text": [
      "Best model checkpoint saved at epoch 899 with validation loss 0.0000002926\n"
     ]
    },
    {
     "name": "stderr",
     "output_type": "stream",
     "text": [
      " 90%|███████████████████████████████████████████████████████████████████████        | 900/1000 [04:24<00:32,  3.08it/s]"
     ]
    },
    {
     "name": "stdout",
     "output_type": "stream",
     "text": [
      "Best model checkpoint saved at epoch 900 with validation loss 0.0000002925\n"
     ]
    },
    {
     "name": "stderr",
     "output_type": "stream",
     "text": [
      " 90%|███████████████████████████████████████████████████████████████████████▏       | 901/1000 [04:24<00:31,  3.14it/s]"
     ]
    },
    {
     "name": "stdout",
     "output_type": "stream",
     "text": [
      "Best model checkpoint saved at epoch 901 with validation loss 0.0000002925\n"
     ]
    },
    {
     "name": "stderr",
     "output_type": "stream",
     "text": [
      " 90%|███████████████████████████████████████████████████████████████████████▎       | 902/1000 [04:25<00:31,  3.11it/s]"
     ]
    },
    {
     "name": "stdout",
     "output_type": "stream",
     "text": [
      "Best model checkpoint saved at epoch 902 with validation loss 0.0000002925\n"
     ]
    },
    {
     "name": "stderr",
     "output_type": "stream",
     "text": [
      " 90%|███████████████████████████████████████████████████████████████████████▎       | 903/1000 [04:25<00:31,  3.13it/s]"
     ]
    },
    {
     "name": "stdout",
     "output_type": "stream",
     "text": [
      "Best model checkpoint saved at epoch 903 with validation loss 0.0000002925\n"
     ]
    },
    {
     "name": "stderr",
     "output_type": "stream",
     "text": [
      " 90%|███████████████████████████████████████████████████████████████████████▍       | 904/1000 [04:25<00:29,  3.23it/s]"
     ]
    },
    {
     "name": "stdout",
     "output_type": "stream",
     "text": [
      "Best model checkpoint saved at epoch 904 with validation loss 0.0000002925\n"
     ]
    },
    {
     "name": "stderr",
     "output_type": "stream",
     "text": [
      " 90%|███████████████████████████████████████████████████████████████████████▍       | 905/1000 [04:26<00:29,  3.24it/s]"
     ]
    },
    {
     "name": "stdout",
     "output_type": "stream",
     "text": [
      "Best model checkpoint saved at epoch 905 with validation loss 0.0000002925\n"
     ]
    },
    {
     "name": "stderr",
     "output_type": "stream",
     "text": [
      " 91%|███████████████████████████████████████████████████████████████████████▌       | 906/1000 [04:26<00:29,  3.18it/s]"
     ]
    },
    {
     "name": "stdout",
     "output_type": "stream",
     "text": [
      "Best model checkpoint saved at epoch 906 with validation loss 0.0000002924\n"
     ]
    },
    {
     "name": "stderr",
     "output_type": "stream",
     "text": [
      " 91%|███████████████████████████████████████████████████████████████████████▋       | 907/1000 [04:26<00:29,  3.15it/s]"
     ]
    },
    {
     "name": "stdout",
     "output_type": "stream",
     "text": [
      "Best model checkpoint saved at epoch 907 with validation loss 0.0000002924\n"
     ]
    },
    {
     "name": "stderr",
     "output_type": "stream",
     "text": [
      " 91%|███████████████████████████████████████████████████████████████████████▋       | 908/1000 [04:27<00:29,  3.09it/s]"
     ]
    },
    {
     "name": "stdout",
     "output_type": "stream",
     "text": [
      "Best model checkpoint saved at epoch 908 with validation loss 0.0000002924\n"
     ]
    },
    {
     "name": "stderr",
     "output_type": "stream",
     "text": [
      " 91%|███████████████████████████████████████████████████████████████████████▊       | 909/1000 [04:27<00:29,  3.08it/s]"
     ]
    },
    {
     "name": "stdout",
     "output_type": "stream",
     "text": [
      "Best model checkpoint saved at epoch 909 with validation loss 0.0000002924\n"
     ]
    },
    {
     "name": "stderr",
     "output_type": "stream",
     "text": [
      " 91%|███████████████████████████████████████████████████████████████████████▉       | 910/1000 [04:27<00:29,  3.04it/s]"
     ]
    },
    {
     "name": "stdout",
     "output_type": "stream",
     "text": [
      "Best model checkpoint saved at epoch 910 with validation loss 0.0000002924\n"
     ]
    },
    {
     "name": "stderr",
     "output_type": "stream",
     "text": [
      " 91%|███████████████████████████████████████████████████████████████████████▉       | 911/1000 [04:28<00:28,  3.17it/s]"
     ]
    },
    {
     "name": "stdout",
     "output_type": "stream",
     "text": [
      "Best model checkpoint saved at epoch 911 with validation loss 0.0000002924\n"
     ]
    },
    {
     "name": "stderr",
     "output_type": "stream",
     "text": [
      " 91%|████████████████████████████████████████████████████████████████████████       | 912/1000 [04:28<00:27,  3.17it/s]"
     ]
    },
    {
     "name": "stdout",
     "output_type": "stream",
     "text": [
      "Best model checkpoint saved at epoch 912 with validation loss 0.0000002923\n"
     ]
    },
    {
     "name": "stderr",
     "output_type": "stream",
     "text": [
      " 91%|████████████████████████████████████████████████████████████████████████▏      | 913/1000 [04:28<00:27,  3.20it/s]"
     ]
    },
    {
     "name": "stdout",
     "output_type": "stream",
     "text": [
      "Best model checkpoint saved at epoch 913 with validation loss 0.0000002923\n"
     ]
    },
    {
     "name": "stderr",
     "output_type": "stream",
     "text": [
      " 91%|████████████████████████████████████████████████████████████████████████▏      | 914/1000 [04:28<00:26,  3.28it/s]"
     ]
    },
    {
     "name": "stdout",
     "output_type": "stream",
     "text": [
      "Best model checkpoint saved at epoch 914 with validation loss 0.0000002923\n"
     ]
    },
    {
     "name": "stderr",
     "output_type": "stream",
     "text": [
      " 92%|████████████████████████████████████████████████████████████████████████▎      | 915/1000 [04:29<00:25,  3.31it/s]"
     ]
    },
    {
     "name": "stdout",
     "output_type": "stream",
     "text": [
      "Best model checkpoint saved at epoch 915 with validation loss 0.0000002923\n"
     ]
    },
    {
     "name": "stderr",
     "output_type": "stream",
     "text": [
      " 92%|████████████████████████████████████████████████████████████████████████▎      | 916/1000 [04:29<00:25,  3.26it/s]"
     ]
    },
    {
     "name": "stdout",
     "output_type": "stream",
     "text": [
      "Best model checkpoint saved at epoch 916 with validation loss 0.0000002923\n"
     ]
    },
    {
     "name": "stderr",
     "output_type": "stream",
     "text": [
      " 92%|████████████████████████████████████████████████████████████████████████▍      | 917/1000 [04:29<00:25,  3.29it/s]"
     ]
    },
    {
     "name": "stdout",
     "output_type": "stream",
     "text": [
      "Best model checkpoint saved at epoch 917 with validation loss 0.0000002922\n"
     ]
    },
    {
     "name": "stderr",
     "output_type": "stream",
     "text": [
      " 92%|████████████████████████████████████████████████████████████████████████▌      | 918/1000 [04:30<00:25,  3.22it/s]"
     ]
    },
    {
     "name": "stdout",
     "output_type": "stream",
     "text": [
      "Best model checkpoint saved at epoch 918 with validation loss 0.0000002922\n"
     ]
    },
    {
     "name": "stderr",
     "output_type": "stream",
     "text": [
      " 92%|████████████████████████████████████████████████████████████████████████▌      | 919/1000 [04:30<00:25,  3.17it/s]"
     ]
    },
    {
     "name": "stdout",
     "output_type": "stream",
     "text": [
      "Best model checkpoint saved at epoch 919 with validation loss 0.0000002922\n"
     ]
    },
    {
     "name": "stderr",
     "output_type": "stream",
     "text": [
      " 92%|████████████████████████████████████████████████████████████████████████▋      | 920/1000 [04:30<00:25,  3.20it/s]"
     ]
    },
    {
     "name": "stdout",
     "output_type": "stream",
     "text": [
      "Best model checkpoint saved at epoch 920 with validation loss 0.0000002922\n"
     ]
    },
    {
     "name": "stderr",
     "output_type": "stream",
     "text": [
      " 92%|████████████████████████████████████████████████████████████████████████▊      | 921/1000 [04:31<00:24,  3.25it/s]"
     ]
    },
    {
     "name": "stdout",
     "output_type": "stream",
     "text": [
      "Best model checkpoint saved at epoch 921 with validation loss 0.0000002922\n"
     ]
    },
    {
     "name": "stderr",
     "output_type": "stream",
     "text": [
      " 92%|████████████████████████████████████████████████████████████████████████▊      | 922/1000 [04:31<00:22,  3.45it/s]"
     ]
    },
    {
     "name": "stdout",
     "output_type": "stream",
     "text": [
      "Best model checkpoint saved at epoch 922 with validation loss 0.0000002922\n"
     ]
    },
    {
     "name": "stderr",
     "output_type": "stream",
     "text": [
      " 92%|████████████████████████████████████████████████████████████████████████▉      | 923/1000 [04:31<00:22,  3.36it/s]"
     ]
    },
    {
     "name": "stdout",
     "output_type": "stream",
     "text": [
      "Best model checkpoint saved at epoch 923 with validation loss 0.0000002921\n"
     ]
    },
    {
     "name": "stderr",
     "output_type": "stream",
     "text": [
      " 92%|████████████████████████████████████████████████████████████████████████▉      | 924/1000 [04:31<00:22,  3.37it/s]"
     ]
    },
    {
     "name": "stdout",
     "output_type": "stream",
     "text": [
      "Best model checkpoint saved at epoch 924 with validation loss 0.0000002921\n"
     ]
    },
    {
     "name": "stderr",
     "output_type": "stream",
     "text": [
      " 92%|█████████████████████████████████████████████████████████████████████████      | 925/1000 [04:32<00:21,  3.56it/s]"
     ]
    },
    {
     "name": "stdout",
     "output_type": "stream",
     "text": [
      "Best model checkpoint saved at epoch 925 with validation loss 0.0000002921\n"
     ]
    },
    {
     "name": "stderr",
     "output_type": "stream",
     "text": [
      " 93%|█████████████████████████████████████████████████████████████████████████▏     | 926/1000 [04:32<00:20,  3.69it/s]"
     ]
    },
    {
     "name": "stdout",
     "output_type": "stream",
     "text": [
      "Best model checkpoint saved at epoch 926 with validation loss 0.0000002921\n"
     ]
    },
    {
     "name": "stderr",
     "output_type": "stream",
     "text": [
      " 93%|█████████████████████████████████████████████████████████████████████████▏     | 927/1000 [04:32<00:19,  3.76it/s]"
     ]
    },
    {
     "name": "stdout",
     "output_type": "stream",
     "text": [
      "Best model checkpoint saved at epoch 927 with validation loss 0.0000002921\n"
     ]
    },
    {
     "name": "stderr",
     "output_type": "stream",
     "text": [
      " 93%|█████████████████████████████████████████████████████████████████████████▎     | 928/1000 [04:32<00:19,  3.64it/s]"
     ]
    },
    {
     "name": "stdout",
     "output_type": "stream",
     "text": [
      "Best model checkpoint saved at epoch 928 with validation loss 0.0000002921\n"
     ]
    },
    {
     "name": "stderr",
     "output_type": "stream",
     "text": [
      " 93%|█████████████████████████████████████████████████████████████████████████▍     | 929/1000 [04:33<00:19,  3.56it/s]"
     ]
    },
    {
     "name": "stdout",
     "output_type": "stream",
     "text": [
      "Best model checkpoint saved at epoch 929 with validation loss 0.0000002920\n"
     ]
    },
    {
     "name": "stderr",
     "output_type": "stream",
     "text": [
      " 93%|█████████████████████████████████████████████████████████████████████████▍     | 930/1000 [04:33<00:19,  3.65it/s]"
     ]
    },
    {
     "name": "stdout",
     "output_type": "stream",
     "text": [
      "Best model checkpoint saved at epoch 930 with validation loss 0.0000002920\n"
     ]
    },
    {
     "name": "stderr",
     "output_type": "stream",
     "text": [
      " 93%|█████████████████████████████████████████████████████████████████████████▌     | 931/1000 [04:33<00:19,  3.61it/s]"
     ]
    },
    {
     "name": "stdout",
     "output_type": "stream",
     "text": [
      "Best model checkpoint saved at epoch 931 with validation loss 0.0000002920\n"
     ]
    },
    {
     "name": "stderr",
     "output_type": "stream",
     "text": [
      " 93%|█████████████████████████████████████████████████████████████████████████▋     | 932/1000 [04:34<00:20,  3.39it/s]"
     ]
    },
    {
     "name": "stdout",
     "output_type": "stream",
     "text": [
      "Best model checkpoint saved at epoch 932 with validation loss 0.0000002920\n"
     ]
    },
    {
     "name": "stderr",
     "output_type": "stream",
     "text": [
      " 93%|█████████████████████████████████████████████████████████████████████████▋     | 933/1000 [04:34<00:20,  3.29it/s]"
     ]
    },
    {
     "name": "stdout",
     "output_type": "stream",
     "text": [
      "Best model checkpoint saved at epoch 933 with validation loss 0.0000002920\n"
     ]
    },
    {
     "name": "stderr",
     "output_type": "stream",
     "text": [
      " 93%|█████████████████████████████████████████████████████████████████████████▊     | 934/1000 [04:34<00:20,  3.28it/s]"
     ]
    },
    {
     "name": "stdout",
     "output_type": "stream",
     "text": [
      "Best model checkpoint saved at epoch 934 with validation loss 0.0000002920\n"
     ]
    },
    {
     "name": "stderr",
     "output_type": "stream",
     "text": [
      " 94%|█████████████████████████████████████████████████████████████████████████▊     | 935/1000 [04:35<00:20,  3.21it/s]"
     ]
    },
    {
     "name": "stdout",
     "output_type": "stream",
     "text": [
      "Best model checkpoint saved at epoch 935 with validation loss 0.0000002919\n"
     ]
    },
    {
     "name": "stderr",
     "output_type": "stream",
     "text": [
      " 94%|█████████████████████████████████████████████████████████████████████████▉     | 936/1000 [04:35<00:20,  3.17it/s]"
     ]
    },
    {
     "name": "stdout",
     "output_type": "stream",
     "text": [
      "Best model checkpoint saved at epoch 936 with validation loss 0.0000002919\n"
     ]
    },
    {
     "name": "stderr",
     "output_type": "stream",
     "text": [
      " 94%|██████████████████████████████████████████████████████████████████████████     | 937/1000 [04:35<00:20,  3.08it/s]"
     ]
    },
    {
     "name": "stdout",
     "output_type": "stream",
     "text": [
      "Best model checkpoint saved at epoch 937 with validation loss 0.0000002919\n"
     ]
    },
    {
     "name": "stderr",
     "output_type": "stream",
     "text": [
      " 94%|██████████████████████████████████████████████████████████████████████████     | 938/1000 [04:36<00:19,  3.13it/s]"
     ]
    },
    {
     "name": "stdout",
     "output_type": "stream",
     "text": [
      "Best model checkpoint saved at epoch 938 with validation loss 0.0000002919\n"
     ]
    },
    {
     "name": "stderr",
     "output_type": "stream",
     "text": [
      " 94%|██████████████████████████████████████████████████████████████████████████▏    | 939/1000 [04:36<00:19,  3.08it/s]"
     ]
    },
    {
     "name": "stdout",
     "output_type": "stream",
     "text": [
      "Best model checkpoint saved at epoch 939 with validation loss 0.0000002919\n"
     ]
    },
    {
     "name": "stderr",
     "output_type": "stream",
     "text": [
      " 94%|██████████████████████████████████████████████████████████████████████████▎    | 940/1000 [04:36<00:19,  3.08it/s]"
     ]
    },
    {
     "name": "stdout",
     "output_type": "stream",
     "text": [
      "Best model checkpoint saved at epoch 940 with validation loss 0.0000002919\n"
     ]
    },
    {
     "name": "stderr",
     "output_type": "stream",
     "text": [
      " 94%|██████████████████████████████████████████████████████████████████████████▎    | 941/1000 [04:37<00:19,  3.01it/s]"
     ]
    },
    {
     "name": "stdout",
     "output_type": "stream",
     "text": [
      "Best model checkpoint saved at epoch 941 with validation loss 0.0000002918\n"
     ]
    },
    {
     "name": "stderr",
     "output_type": "stream",
     "text": [
      " 94%|██████████████████████████████████████████████████████████████████████████▍    | 942/1000 [04:37<00:19,  3.03it/s]"
     ]
    },
    {
     "name": "stdout",
     "output_type": "stream",
     "text": [
      "Best model checkpoint saved at epoch 942 with validation loss 0.0000002918\n"
     ]
    },
    {
     "name": "stderr",
     "output_type": "stream",
     "text": [
      " 94%|██████████████████████████████████████████████████████████████████████████▍    | 943/1000 [04:37<00:18,  3.04it/s]"
     ]
    },
    {
     "name": "stdout",
     "output_type": "stream",
     "text": [
      "Best model checkpoint saved at epoch 943 with validation loss 0.0000002918\n"
     ]
    },
    {
     "name": "stderr",
     "output_type": "stream",
     "text": [
      " 94%|██████████████████████████████████████████████████████████████████████████▌    | 944/1000 [04:38<00:18,  3.05it/s]"
     ]
    },
    {
     "name": "stdout",
     "output_type": "stream",
     "text": [
      "Best model checkpoint saved at epoch 944 with validation loss 0.0000002918\n"
     ]
    },
    {
     "name": "stderr",
     "output_type": "stream",
     "text": [
      " 94%|██████████████████████████████████████████████████████████████████████████▋    | 945/1000 [04:38<00:18,  3.02it/s]"
     ]
    },
    {
     "name": "stdout",
     "output_type": "stream",
     "text": [
      "Best model checkpoint saved at epoch 945 with validation loss 0.0000002918\n"
     ]
    },
    {
     "name": "stderr",
     "output_type": "stream",
     "text": [
      " 95%|██████████████████████████████████████████████████████████████████████████▋    | 946/1000 [04:38<00:17,  3.04it/s]"
     ]
    },
    {
     "name": "stdout",
     "output_type": "stream",
     "text": [
      "Best model checkpoint saved at epoch 946 with validation loss 0.0000002918\n"
     ]
    },
    {
     "name": "stderr",
     "output_type": "stream",
     "text": [
      " 95%|██████████████████████████████████████████████████████████████████████████▊    | 947/1000 [04:39<00:17,  3.04it/s]"
     ]
    },
    {
     "name": "stdout",
     "output_type": "stream",
     "text": [
      "Best model checkpoint saved at epoch 947 with validation loss 0.0000002917\n"
     ]
    },
    {
     "name": "stderr",
     "output_type": "stream",
     "text": [
      " 95%|██████████████████████████████████████████████████████████████████████████▉    | 948/1000 [04:39<00:16,  3.07it/s]"
     ]
    },
    {
     "name": "stdout",
     "output_type": "stream",
     "text": [
      "Best model checkpoint saved at epoch 948 with validation loss 0.0000002917\n"
     ]
    },
    {
     "name": "stderr",
     "output_type": "stream",
     "text": [
      " 95%|██████████████████████████████████████████████████████████████████████████▉    | 949/1000 [04:39<00:15,  3.28it/s]"
     ]
    },
    {
     "name": "stdout",
     "output_type": "stream",
     "text": [
      "Best model checkpoint saved at epoch 949 with validation loss 0.0000002917\n"
     ]
    },
    {
     "name": "stderr",
     "output_type": "stream",
     "text": [
      " 95%|███████████████████████████████████████████████████████████████████████████    | 950/1000 [04:39<00:14,  3.42it/s]"
     ]
    },
    {
     "name": "stdout",
     "output_type": "stream",
     "text": [
      "Best model checkpoint saved at epoch 950 with validation loss 0.0000002917\n"
     ]
    },
    {
     "name": "stderr",
     "output_type": "stream",
     "text": [
      " 95%|███████████████████████████████████████████████████████████████████████████▏   | 951/1000 [04:40<00:13,  3.55it/s]"
     ]
    },
    {
     "name": "stdout",
     "output_type": "stream",
     "text": [
      "Best model checkpoint saved at epoch 951 with validation loss 0.0000002917\n"
     ]
    },
    {
     "name": "stderr",
     "output_type": "stream",
     "text": [
      " 95%|███████████████████████████████████████████████████████████████████████████▏   | 952/1000 [04:40<00:13,  3.65it/s]"
     ]
    },
    {
     "name": "stdout",
     "output_type": "stream",
     "text": [
      "Best model checkpoint saved at epoch 952 with validation loss 0.0000002917\n"
     ]
    },
    {
     "name": "stderr",
     "output_type": "stream",
     "text": [
      " 95%|███████████████████████████████████████████████████████████████████████████▎   | 953/1000 [04:40<00:12,  3.77it/s]"
     ]
    },
    {
     "name": "stdout",
     "output_type": "stream",
     "text": [
      "Best model checkpoint saved at epoch 953 with validation loss 0.0000002916\n"
     ]
    },
    {
     "name": "stderr",
     "output_type": "stream",
     "text": [
      " 95%|███████████████████████████████████████████████████████████████████████████▎   | 954/1000 [04:40<00:12,  3.81it/s]"
     ]
    },
    {
     "name": "stdout",
     "output_type": "stream",
     "text": [
      "Best model checkpoint saved at epoch 954 with validation loss 0.0000002916\n"
     ]
    },
    {
     "name": "stderr",
     "output_type": "stream",
     "text": [
      " 96%|███████████████████████████████████████████████████████████████████████████▍   | 955/1000 [04:41<00:12,  3.71it/s]"
     ]
    },
    {
     "name": "stdout",
     "output_type": "stream",
     "text": [
      "Best model checkpoint saved at epoch 955 with validation loss 0.0000002916\n"
     ]
    },
    {
     "name": "stderr",
     "output_type": "stream",
     "text": [
      " 96%|███████████████████████████████████████████████████████████████████████████▌   | 956/1000 [04:41<00:12,  3.49it/s]"
     ]
    },
    {
     "name": "stdout",
     "output_type": "stream",
     "text": [
      "Best model checkpoint saved at epoch 956 with validation loss 0.0000002916\n"
     ]
    },
    {
     "name": "stderr",
     "output_type": "stream",
     "text": [
      " 96%|███████████████████████████████████████████████████████████████████████████▌   | 957/1000 [04:41<00:12,  3.39it/s]"
     ]
    },
    {
     "name": "stdout",
     "output_type": "stream",
     "text": [
      "Best model checkpoint saved at epoch 957 with validation loss 0.0000002916\n"
     ]
    },
    {
     "name": "stderr",
     "output_type": "stream",
     "text": [
      " 96%|███████████████████████████████████████████████████████████████████████████▋   | 958/1000 [04:42<00:12,  3.35it/s]"
     ]
    },
    {
     "name": "stdout",
     "output_type": "stream",
     "text": [
      "Best model checkpoint saved at epoch 958 with validation loss 0.0000002916\n"
     ]
    },
    {
     "name": "stderr",
     "output_type": "stream",
     "text": [
      " 96%|███████████████████████████████████████████████████████████████████████████▊   | 959/1000 [04:42<00:12,  3.29it/s]"
     ]
    },
    {
     "name": "stdout",
     "output_type": "stream",
     "text": [
      "Best model checkpoint saved at epoch 959 with validation loss 0.0000002915\n"
     ]
    },
    {
     "name": "stderr",
     "output_type": "stream",
     "text": [
      " 96%|███████████████████████████████████████████████████████████████████████████▊   | 960/1000 [04:42<00:11,  3.42it/s]"
     ]
    },
    {
     "name": "stdout",
     "output_type": "stream",
     "text": [
      "Best model checkpoint saved at epoch 960 with validation loss 0.0000002915\n"
     ]
    },
    {
     "name": "stderr",
     "output_type": "stream",
     "text": [
      " 96%|███████████████████████████████████████████████████████████████████████████▉   | 961/1000 [04:43<00:11,  3.33it/s]"
     ]
    },
    {
     "name": "stdout",
     "output_type": "stream",
     "text": [
      "Best model checkpoint saved at epoch 961 with validation loss 0.0000002915\n"
     ]
    },
    {
     "name": "stderr",
     "output_type": "stream",
     "text": [
      " 96%|███████████████████████████████████████████████████████████████████████████▉   | 962/1000 [04:43<00:11,  3.33it/s]"
     ]
    },
    {
     "name": "stdout",
     "output_type": "stream",
     "text": [
      "Best model checkpoint saved at epoch 962 with validation loss 0.0000002915\n"
     ]
    },
    {
     "name": "stderr",
     "output_type": "stream",
     "text": [
      " 96%|████████████████████████████████████████████████████████████████████████████   | 963/1000 [04:43<00:11,  3.27it/s]"
     ]
    },
    {
     "name": "stdout",
     "output_type": "stream",
     "text": [
      "Best model checkpoint saved at epoch 963 with validation loss 0.0000002915\n"
     ]
    },
    {
     "name": "stderr",
     "output_type": "stream",
     "text": [
      " 96%|████████████████████████████████████████████████████████████████████████████▏  | 964/1000 [04:44<00:11,  3.20it/s]"
     ]
    },
    {
     "name": "stdout",
     "output_type": "stream",
     "text": [
      "Best model checkpoint saved at epoch 964 with validation loss 0.0000002915\n"
     ]
    },
    {
     "name": "stderr",
     "output_type": "stream",
     "text": [
      " 96%|████████████████████████████████████████████████████████████████████████████▏  | 965/1000 [04:44<00:10,  3.19it/s]"
     ]
    },
    {
     "name": "stdout",
     "output_type": "stream",
     "text": [
      "Best model checkpoint saved at epoch 965 with validation loss 0.0000002914\n"
     ]
    },
    {
     "name": "stderr",
     "output_type": "stream",
     "text": [
      " 97%|████████████████████████████████████████████████████████████████████████████▎  | 966/1000 [04:44<00:10,  3.18it/s]"
     ]
    },
    {
     "name": "stdout",
     "output_type": "stream",
     "text": [
      "Best model checkpoint saved at epoch 966 with validation loss 0.0000002914\n"
     ]
    },
    {
     "name": "stderr",
     "output_type": "stream",
     "text": [
      " 97%|████████████████████████████████████████████████████████████████████████████▍  | 967/1000 [04:44<00:10,  3.15it/s]"
     ]
    },
    {
     "name": "stdout",
     "output_type": "stream",
     "text": [
      "Best model checkpoint saved at epoch 967 with validation loss 0.0000002914\n"
     ]
    },
    {
     "name": "stderr",
     "output_type": "stream",
     "text": [
      " 97%|████████████████████████████████████████████████████████████████████████████▍  | 968/1000 [04:45<00:09,  3.24it/s]"
     ]
    },
    {
     "name": "stdout",
     "output_type": "stream",
     "text": [
      "Best model checkpoint saved at epoch 968 with validation loss 0.0000002914\n"
     ]
    },
    {
     "name": "stderr",
     "output_type": "stream",
     "text": [
      " 97%|████████████████████████████████████████████████████████████████████████████▌  | 969/1000 [04:45<00:09,  3.23it/s]"
     ]
    },
    {
     "name": "stdout",
     "output_type": "stream",
     "text": [
      "Best model checkpoint saved at epoch 969 with validation loss 0.0000002914\n"
     ]
    },
    {
     "name": "stderr",
     "output_type": "stream",
     "text": [
      " 97%|████████████████████████████████████████████████████████████████████████████▋  | 970/1000 [04:45<00:09,  3.19it/s]"
     ]
    },
    {
     "name": "stdout",
     "output_type": "stream",
     "text": [
      "Best model checkpoint saved at epoch 970 with validation loss 0.0000002914\n"
     ]
    },
    {
     "name": "stderr",
     "output_type": "stream",
     "text": [
      " 97%|████████████████████████████████████████████████████████████████████████████▋  | 971/1000 [04:46<00:09,  3.18it/s]"
     ]
    },
    {
     "name": "stdout",
     "output_type": "stream",
     "text": [
      "Best model checkpoint saved at epoch 971 with validation loss 0.0000002914\n"
     ]
    },
    {
     "name": "stderr",
     "output_type": "stream",
     "text": [
      " 97%|████████████████████████████████████████████████████████████████████████████▊  | 972/1000 [04:46<00:08,  3.17it/s]"
     ]
    },
    {
     "name": "stdout",
     "output_type": "stream",
     "text": [
      "Best model checkpoint saved at epoch 972 with validation loss 0.0000002913\n"
     ]
    },
    {
     "name": "stderr",
     "output_type": "stream",
     "text": [
      " 97%|████████████████████████████████████████████████████████████████████████████▊  | 973/1000 [04:46<00:08,  3.14it/s]"
     ]
    },
    {
     "name": "stdout",
     "output_type": "stream",
     "text": [
      "Best model checkpoint saved at epoch 973 with validation loss 0.0000002913\n"
     ]
    },
    {
     "name": "stderr",
     "output_type": "stream",
     "text": [
      " 97%|████████████████████████████████████████████████████████████████████████████▉  | 974/1000 [04:47<00:08,  3.12it/s]"
     ]
    },
    {
     "name": "stdout",
     "output_type": "stream",
     "text": [
      "Best model checkpoint saved at epoch 974 with validation loss 0.0000002913\n"
     ]
    },
    {
     "name": "stderr",
     "output_type": "stream",
     "text": [
      " 98%|█████████████████████████████████████████████████████████████████████████████  | 975/1000 [04:47<00:08,  3.10it/s]"
     ]
    },
    {
     "name": "stdout",
     "output_type": "stream",
     "text": [
      "Best model checkpoint saved at epoch 975 with validation loss 0.0000002913\n"
     ]
    },
    {
     "name": "stderr",
     "output_type": "stream",
     "text": [
      " 98%|█████████████████████████████████████████████████████████████████████████████  | 976/1000 [04:47<00:07,  3.24it/s]"
     ]
    },
    {
     "name": "stdout",
     "output_type": "stream",
     "text": [
      "Best model checkpoint saved at epoch 976 with validation loss 0.0000002913\n"
     ]
    },
    {
     "name": "stderr",
     "output_type": "stream",
     "text": [
      " 98%|█████████████████████████████████████████████████████████████████████████████▏ | 977/1000 [04:48<00:06,  3.38it/s]"
     ]
    },
    {
     "name": "stdout",
     "output_type": "stream",
     "text": [
      "Best model checkpoint saved at epoch 977 with validation loss 0.0000002913\n"
     ]
    },
    {
     "name": "stderr",
     "output_type": "stream",
     "text": [
      " 98%|█████████████████████████████████████████████████████████████████████████████▎ | 978/1000 [04:48<00:06,  3.27it/s]"
     ]
    },
    {
     "name": "stdout",
     "output_type": "stream",
     "text": [
      "Best model checkpoint saved at epoch 978 with validation loss 0.0000002912\n"
     ]
    },
    {
     "name": "stderr",
     "output_type": "stream",
     "text": [
      " 98%|█████████████████████████████████████████████████████████████████████████████▎ | 979/1000 [04:48<00:06,  3.22it/s]"
     ]
    },
    {
     "name": "stdout",
     "output_type": "stream",
     "text": [
      "Best model checkpoint saved at epoch 979 with validation loss 0.0000002912\n"
     ]
    },
    {
     "name": "stderr",
     "output_type": "stream",
     "text": [
      " 98%|█████████████████████████████████████████████████████████████████████████████▍ | 980/1000 [04:49<00:06,  3.17it/s]"
     ]
    },
    {
     "name": "stdout",
     "output_type": "stream",
     "text": [
      "Best model checkpoint saved at epoch 980 with validation loss 0.0000002912\n"
     ]
    },
    {
     "name": "stderr",
     "output_type": "stream",
     "text": [
      " 98%|█████████████████████████████████████████████████████████████████████████████▍ | 981/1000 [04:49<00:06,  3.13it/s]"
     ]
    },
    {
     "name": "stdout",
     "output_type": "stream",
     "text": [
      "Best model checkpoint saved at epoch 981 with validation loss 0.0000002912\n"
     ]
    },
    {
     "name": "stderr",
     "output_type": "stream",
     "text": [
      " 98%|█████████████████████████████████████████████████████████████████████████████▌ | 982/1000 [04:49<00:05,  3.11it/s]"
     ]
    },
    {
     "name": "stdout",
     "output_type": "stream",
     "text": [
      "Best model checkpoint saved at epoch 982 with validation loss 0.0000002912\n"
     ]
    },
    {
     "name": "stderr",
     "output_type": "stream",
     "text": [
      " 98%|█████████████████████████████████████████████████████████████████████████████▋ | 983/1000 [04:50<00:05,  3.10it/s]"
     ]
    },
    {
     "name": "stdout",
     "output_type": "stream",
     "text": [
      "Best model checkpoint saved at epoch 983 with validation loss 0.0000002912\n"
     ]
    },
    {
     "name": "stderr",
     "output_type": "stream",
     "text": [
      " 98%|█████████████████████████████████████████████████████████████████████████████▋ | 984/1000 [04:50<00:05,  3.12it/s]"
     ]
    },
    {
     "name": "stdout",
     "output_type": "stream",
     "text": [
      "Best model checkpoint saved at epoch 984 with validation loss 0.0000002911\n"
     ]
    },
    {
     "name": "stderr",
     "output_type": "stream",
     "text": [
      " 98%|█████████████████████████████████████████████████████████████████████████████▊ | 985/1000 [04:50<00:04,  3.32it/s]"
     ]
    },
    {
     "name": "stdout",
     "output_type": "stream",
     "text": [
      "Best model checkpoint saved at epoch 985 with validation loss 0.0000002911\n"
     ]
    },
    {
     "name": "stderr",
     "output_type": "stream",
     "text": [
      " 99%|█████████████████████████████████████████████████████████████████████████████▉ | 986/1000 [04:50<00:04,  3.47it/s]"
     ]
    },
    {
     "name": "stdout",
     "output_type": "stream",
     "text": [
      "Best model checkpoint saved at epoch 986 with validation loss 0.0000002911\n"
     ]
    },
    {
     "name": "stderr",
     "output_type": "stream",
     "text": [
      " 99%|█████████████████████████████████████████████████████████████████████████████▉ | 987/1000 [04:51<00:03,  3.55it/s]"
     ]
    },
    {
     "name": "stdout",
     "output_type": "stream",
     "text": [
      "Best model checkpoint saved at epoch 987 with validation loss 0.0000002911\n"
     ]
    },
    {
     "name": "stderr",
     "output_type": "stream",
     "text": [
      " 99%|██████████████████████████████████████████████████████████████████████████████ | 988/1000 [04:51<00:03,  3.53it/s]"
     ]
    },
    {
     "name": "stdout",
     "output_type": "stream",
     "text": [
      "Best model checkpoint saved at epoch 988 with validation loss 0.0000002911\n"
     ]
    },
    {
     "name": "stderr",
     "output_type": "stream",
     "text": [
      " 99%|██████████████████████████████████████████████████████████████████████████████▏| 989/1000 [04:51<00:03,  3.64it/s]"
     ]
    },
    {
     "name": "stdout",
     "output_type": "stream",
     "text": [
      "Best model checkpoint saved at epoch 989 with validation loss 0.0000002911\n"
     ]
    },
    {
     "name": "stderr",
     "output_type": "stream",
     "text": [
      " 99%|██████████████████████████████████████████████████████████████████████████████▏| 990/1000 [04:51<00:02,  3.68it/s]"
     ]
    },
    {
     "name": "stdout",
     "output_type": "stream",
     "text": [
      "Best model checkpoint saved at epoch 990 with validation loss 0.0000002911\n"
     ]
    },
    {
     "name": "stderr",
     "output_type": "stream",
     "text": [
      " 99%|██████████████████████████████████████████████████████████████████████████████▎| 991/1000 [04:52<00:02,  3.66it/s]"
     ]
    },
    {
     "name": "stdout",
     "output_type": "stream",
     "text": [
      "Best model checkpoint saved at epoch 991 with validation loss 0.0000002910\n"
     ]
    },
    {
     "name": "stderr",
     "output_type": "stream",
     "text": [
      " 99%|██████████████████████████████████████████████████████████████████████████████▎| 992/1000 [04:52<00:02,  3.65it/s]"
     ]
    },
    {
     "name": "stdout",
     "output_type": "stream",
     "text": [
      "Best model checkpoint saved at epoch 992 with validation loss 0.0000002910\n"
     ]
    },
    {
     "name": "stderr",
     "output_type": "stream",
     "text": [
      " 99%|██████████████████████████████████████████████████████████████████████████████▍| 993/1000 [04:52<00:01,  3.69it/s]"
     ]
    },
    {
     "name": "stdout",
     "output_type": "stream",
     "text": [
      "Best model checkpoint saved at epoch 993 with validation loss 0.0000002910\n"
     ]
    },
    {
     "name": "stderr",
     "output_type": "stream",
     "text": [
      " 99%|██████████████████████████████████████████████████████████████████████████████▌| 994/1000 [04:52<00:01,  3.76it/s]"
     ]
    },
    {
     "name": "stdout",
     "output_type": "stream",
     "text": [
      "Best model checkpoint saved at epoch 994 with validation loss 0.0000002910\n"
     ]
    },
    {
     "name": "stderr",
     "output_type": "stream",
     "text": [
      "100%|██████████████████████████████████████████████████████████████████████████████▌| 995/1000 [04:53<00:01,  3.72it/s]"
     ]
    },
    {
     "name": "stdout",
     "output_type": "stream",
     "text": [
      "Best model checkpoint saved at epoch 995 with validation loss 0.0000002910\n"
     ]
    },
    {
     "name": "stderr",
     "output_type": "stream",
     "text": [
      "100%|██████████████████████████████████████████████████████████████████████████████▋| 996/1000 [04:53<00:01,  3.73it/s]"
     ]
    },
    {
     "name": "stdout",
     "output_type": "stream",
     "text": [
      "Best model checkpoint saved at epoch 996 with validation loss 0.0000002910\n"
     ]
    },
    {
     "name": "stderr",
     "output_type": "stream",
     "text": [
      "100%|██████████████████████████████████████████████████████████████████████████████▊| 997/1000 [04:53<00:00,  3.70it/s]"
     ]
    },
    {
     "name": "stdout",
     "output_type": "stream",
     "text": [
      "Best model checkpoint saved at epoch 997 with validation loss 0.0000002910\n"
     ]
    },
    {
     "name": "stderr",
     "output_type": "stream",
     "text": [
      "100%|██████████████████████████████████████████████████████████████████████████████▊| 998/1000 [04:54<00:00,  3.44it/s]"
     ]
    },
    {
     "name": "stdout",
     "output_type": "stream",
     "text": [
      "Best model checkpoint saved at epoch 998 with validation loss 0.0000002909\n"
     ]
    },
    {
     "name": "stderr",
     "output_type": "stream",
     "text": [
      "100%|██████████████████████████████████████████████████████████████████████████████▉| 999/1000 [04:54<00:00,  3.32it/s]"
     ]
    },
    {
     "name": "stdout",
     "output_type": "stream",
     "text": [
      "Best model checkpoint saved at epoch 999 with validation loss 0.0000002909\n"
     ]
    },
    {
     "name": "stderr",
     "output_type": "stream",
     "text": [
      "100%|██████████████████████████████████████████████████████████████████████████████| 1000/1000 [04:54<00:00,  3.39it/s]"
     ]
    },
    {
     "name": "stdout",
     "output_type": "stream",
     "text": [
      "Best model checkpoint saved at epoch 1000 with validation loss 0.0000002909\n",
      "Training completed!\n",
      "Best Validation Loss: 0.0000002909 at Epoch 1000\n"
     ]
    },
    {
     "name": "stderr",
     "output_type": "stream",
     "text": [
      "\n"
     ]
    }
   ],
   "source": [
    "\n",
    "input_columns = ['maturity', 'strike', 'alpha', ' beta', ' m', ' rho', ' Y0']  # Select only relevant features\n",
    "target_column = [ ' price']  # The target column\n",
    "\n",
    "# 1. Convert training data to PyTorch tensor\n",
    "X = shuffled_train[input_columns].to_numpy()  # Select input features\n",
    "y = shuffled_train[target_column].to_numpy()  # Select target variable\n",
    "\n",
    "X_tensor = torch.tensor(X, dtype=torch.float32)\n",
    "y_tensor = torch.tensor(y, dtype=torch.float32)\n",
    "\n",
    "dX_tensor = X_tensor.to(device)\n",
    "dy_tensor = y_tensor.to(device)\n",
    "\n",
    "# 2. Convert testing data to PyTorch tensor\n",
    "X_test = shuffled_test[input_columns].to_numpy()\n",
    "y_test = shuffled_test[target_column].to_numpy()\n",
    "\n",
    "test_X_tensor = torch.tensor(X_test, dtype=torch.float32)\n",
    "test_y_tensor = torch.tensor(y_test, dtype=torch.float32)\n",
    "\n",
    "# 3. Convert validation data to PyTorch tensor\n",
    "X_val = shuffled_validation[input_columns].to_numpy()\n",
    "y_val = shuffled_validation[target_column].to_numpy()\n",
    "\n",
    "val_X_tensor = torch.tensor(X_val, dtype=torch.float32)\n",
    "val_y_tensor = torch.tensor(y_val, dtype=torch.float32)\n",
    "\n",
    "# Create a TensorDataset for training\n",
    "dataset = torch.utils.data.TensorDataset(X_tensor, y_tensor)\n",
    "\n",
    "# Create a DataLoader\n",
    "batch_size = 2048 *8 # Adjust batch size as needed\n",
    "dataloader = torch.utils.data.DataLoader(dataset, batch_size=batch_size, shuffle=True)\n",
    "\n",
    "# Initialize the neural network\n",
    "n_input = X_tensor.shape[1]\n",
    "n_output = 1\n",
    "\n",
    "model = net(n_input, 200, 200, 200, n_output, True, True)  # Adjust hidden layers as needed\n",
    "\n",
    "# Define the loss function and optimizer\n",
    "loss_func = torch.nn.MSELoss(reduction='mean')  \n",
    "optimizer = torch.optim.Adam(model.parameters(), lr=0.001)\n",
    "scheduler = torch.optim.lr_scheduler.StepLR(optimizer, step_size=200, gamma=0.5)\n",
    "\n",
    "# Initialize the checkpoint save directory\n",
    "checkpoint_dir = 'D:/etud/Brice/alt4_checkpoints'\n",
    "os.makedirs(checkpoint_dir, exist_ok=True)  # Create the directory if it doesn't exist\n",
    "\n",
    "# Initialize variables for storing the best model\n",
    "best_loss = float('inf')\n",
    "best_model_path = None  # To store the path of the best model\n",
    "best_epoch = -1\n",
    "\n",
    "# Training loop with checkpoint\n",
    "epochs = 1000\n",
    "train_losses = []\n",
    "val_losses = []\n",
    "test_losses = []\n",
    "\n",
    "model.to(device)\n",
    "val_X_tensor = val_X_tensor.to(device)\n",
    "val_y_tensor = val_y_tensor.to(device)\n",
    "test_X_tensor = test_X_tensor.to(device)\n",
    "test_y_tensor = test_y_tensor.to(device)\n",
    "\n",
    "for epoch in tqdm(range(epochs)):\n",
    "    model.train()\n",
    "    num_batch = X_tensor.shape[0] // batch_size\n",
    "    #for batch_X, batch_y in dataloader:\n",
    "    #    batch_X = batch_X.to(device)\n",
    "    #    batch_y = batch_y.to(device)\n",
    "    for i in range(num_batch):\n",
    "        batch_X = dX_tensor[i*batch_size:min((i+1)*batch_size, dX_tensor.shape[0])]\n",
    "        batch_y = dy_tensor[i*batch_size:min((i+1)*batch_size, dX_tensor.shape[0])]\n",
    "        optimizer.zero_grad()\n",
    "        output = model(batch_X)\n",
    "        loss = loss_func(output, batch_y)\n",
    "        loss.backward()\n",
    "        optimizer.step()\n",
    "    scheduler.step()\n",
    "\n",
    "    # Calculate training loss for the epoch\n",
    "    train_loss = loss.item()\n",
    "\n",
    "    # Evaluate on the validation set\n",
    "    model.eval()\n",
    "    with torch.no_grad():\n",
    "        val_predictions = model(val_X_tensor)\n",
    "        val_loss = loss_func(val_predictions, val_y_tensor)\n",
    "\n",
    "        # Evaluate on the test set\n",
    "        test_predictions = model(test_X_tensor)\n",
    "        test_loss = loss_func(test_predictions, test_y_tensor)\n",
    "\n",
    "    # Store the losses\n",
    "    train_losses.append(train_loss)\n",
    "    val_losses.append(val_loss.item())\n",
    "    test_losses.append(test_loss.item())\n",
    "\n",
    "    # Print epoch information\n",
    "    #print(f'Epoch {epoch+1}/{epochs}, Training Loss: {train_loss}, Validation Loss: {val_loss.item()}, Test Loss: {test_loss.item()}')\n",
    "\n",
    "    # Check if the validation loss is the best so far\n",
    "    if val_loss < best_loss:\n",
    "        # Update the best loss\n",
    "        best_loss = val_loss\n",
    "        best_model = copy.deepcopy(model)  # Save a copy of the best model\n",
    "\n",
    "        best_epoch = epoch + 1\n",
    "\n",
    "        # Save the best model\n",
    "        best_model_path = os.path.join(checkpoint_dir, 'best_model.pth')\n",
    "\n",
    "        # Remove the previous checkpoint if it exists\n",
    "        if os.path.exists(best_model_path):\n",
    "            os.remove(best_model_path)\n",
    "\n",
    "        # Save the current best model\n",
    "        torch.save({\n",
    "            'epoch': best_epoch,\n",
    "            'model_state_dict': model.state_dict(),\n",
    "            'optimizer_state_dict': optimizer.state_dict(),\n",
    "            'val_loss': best_loss.item(),\n",
    "        }, best_model_path)\n",
    "\n",
    "        # Save metadata in a human-readable format\n",
    "        metadata_path = os.path.join(checkpoint_dir, 'best_model_metadata.txt')\n",
    "        with open(metadata_path, 'w') as metadata_file:\n",
    "            metadata = {\n",
    "                'best_epoch': best_epoch,\n",
    "                'best_val_loss': best_loss.item(),\n",
    "            }\n",
    "            json.dump(metadata, metadata_file, indent=4)\n",
    "\n",
    "        print(f'Best model checkpoint saved at epoch {best_epoch} with validation loss {best_loss.item():.10f}')\n",
    "\n",
    "print(\"Training completed!\")\n",
    "print(f'Best Validation Loss: {best_loss.item():.10f} at Epoch {best_epoch}')"
   ]
  },
  {
   "cell_type": "code",
   "execution_count": 106,
   "metadata": {},
   "outputs": [
    {
     "data": {
      "image/png": "[encoded data removed]",
      "text/plain": [
       "<Figure size 1000x600 with 1 Axes>"
      ]
     },
     "metadata": {},
     "output_type": "display_data"
    }
   ],
   "source": [
    "# Plot the loss curves\n",
    "plt.figure(figsize=(10, 6))\n",
    "plt.plot(range(1, epochs + 1), val_losses, label='Validation Loss', color='blue')\n",
    "plt.plot(range(1, epochs + 1), train_losses, label='Train Loss', color='black')\n",
    "plt.title('Validation and Train Loss Over Epochs')\n",
    "plt.yscale('log')\n",
    "plt.xlabel('Epochs')\n",
    "plt.ylabel('Loss')\n",
    "plt.legend()\n",
    "plt.grid(True)\n",
    "#plt.xticks(range(1, epochs + 1))\n",
    "plt.tight_layout()\n",
    "\n",
    "# Save or show the plot\n",
    "plt.savefig('OU_loss_curve.png')\n",
    "plt.show()"
   ]
  },
  {
   "cell_type": "code",
   "execution_count": 107,
   "metadata": {},
   "outputs": [],
   "source": [
    "def eval_state(path, gelu=False, soft=False):\n",
    "    best_state = torch.load(path)\n",
    "    best_model = net(n_input, 200, 200, 200, n_output, gelu, soft)\n",
    "    best_model.load_state_dict(best_state[\"model_state_dict\"])\n",
    "    best_model.to(device)\n",
    "    best_model.eval()\n",
    "    with torch.no_grad():\n",
    "        test_predictions = best_model(test_X_tensor)\n",
    "    hpred = test_predictions.squeeze().detach().cpu().numpy()\n",
    "    htarget = test_y_tensor.squeeze().cpu().numpy()\n",
    "    herrors = shuffled_test[\" 95cI\"].to_numpy()\n",
    "\n",
    "    fig, axs = plt.subplots(1, 2, figsize=(8, 4))\n",
    "    axs[0].scatter(htarget, hpred, s=1, alpha=0.1)\n",
    "    axs[0].scatter(np.sort(htarget[:1024]), np.sort(hpred[:1024]), s=1, alpha=0.1)\n",
    "    minn = min(htarget)\n",
    "    maxx = max(htarget)\n",
    "    rho = np.mean((htarget - htarget.mean()) * (hpred - hpred.mean())) / np.std(htarget) / np.std(hpred)\n",
    "    r2 = 1 - np.sum((hpred - htarget)**2) / np.sum((htarget - np.mean(htarget))**2)\n",
    "    accurate = np.sum(((htarget - herrors - 1e-6) < hpred) * ((htarget + herrors + 1e-6) > hpred))/ htarget.shape[0]\n",
    "    accurate_relaxed = np.sum(((htarget - 2*herrors - 1e-6) < hpred) * ((htarget + 2*herrors + 1e-6) > hpred))/ htarget.shape[0]\n",
    "    print(f\"linear corr: {rho}, r2: {r2}, acc: {accurate}, acc relaxed: {accurate_relaxed}\")\n",
    "    axs[0].plot([minn, maxx], [minn, maxx], color='C3')\n",
    "    axs[1].ecdf(htarget)\n",
    "    axs[1].ecdf(hpred)\n",
    "    plt.show()\n",
    "    plt.close()\n",
    "    return hpred"
   ]
  },
  {
   "cell_type": "code",
   "execution_count": 110,
   "metadata": {},
   "outputs": [
    {
     "name": "stdout",
     "output_type": "stream",
     "text": [
      "linear corr: 0.9999808073043823, r2: 0.9999614950174873, acc: 0.8412215605828715, acc relaxed: 0.9593584813447713\n"
     ]
    },
    {
     "data": {
      "image/png": "[encoded data removed]",
      "text/plain": [
       "<Figure size 800x400 with 2 Axes>"
      ]
     },
     "metadata": {},
     "output_type": "display_data"
    },
    {
     "data": {
      "text/plain": [
       "array([5.8099777e-02, 4.5781759e-05, 5.5371609e-02, ..., 6.3521124e-02,\n",
       "       2.2805517e-04, 5.6732367e-03], dtype=float32)"
      ]
     },
     "execution_count": 110,
     "metadata": {},
     "output_type": "execute_result"
    }
   ],
   "source": [
    "eval_state(\"D:/etud/Brice/alt4_checkpoints/best_model.pth\", True, True)"
   ]
  },
  {
   "cell_type": "code",
   "execution_count": null,
   "metadata": {},
   "outputs": [],
   "source": []
  }
 ],
 "metadata": {
  "kernelspec": {
   "display_name": "Python 3 (ipykernel)",
   "language": "python",
   "name": "python3"
  },
  "language_info": {
   "codemirror_mode": {
    "name": "ipython",
    "version": 3
   },
   "file_extension": ".py",
   "mimetype": "text/x-python",
   "name": "python",
   "nbconvert_exporter": "python",
   "pygments_lexer": "ipython3",
   "version": "3.12.3"
  }
 },
 "nbformat": 4,
 "nbformat_minor": 4
}
