{
 "cells": [
  {
   "cell_type": "code",
   "execution_count": 14,
   "metadata": {},
   "outputs": [],
   "source": [
    "import torch\n",
    "from torch.utils.data import DataLoader, TensorDataset\n",
    "import numpy as np\n",
    "import pandas as pd\n",
    "from network import VG_nn"
   ]
  },
  {
   "cell_type": "code",
   "execution_count": 11,
   "metadata": {},
   "outputs": [
    {
     "data": {
      "text/html": [
       "<div>\n",
       "<style scoped>\n",
       "    .dataframe tbody tr th:only-of-type {\n",
       "        vertical-align: middle;\n",
       "    }\n",
       "\n",
       "    .dataframe tbody tr th {\n",
       "        vertical-align: top;\n",
       "    }\n",
       "\n",
       "    .dataframe thead th {\n",
       "        text-align: right;\n",
       "    }\n",
       "</style>\n",
       "<table border=\"1\" class=\"dataframe\">\n",
       "  <thead>\n",
       "    <tr style=\"text-align: right;\">\n",
       "      <th></th>\n",
       "      <th>sigma</th>\n",
       "      <th>theta</th>\n",
       "      <th>kappa</th>\n",
       "      <th>strike</th>\n",
       "      <th>T</th>\n",
       "      <th>expected_payoff</th>\n",
       "      <th>error</th>\n",
       "      <th>Ntraj</th>\n",
       "    </tr>\n",
       "  </thead>\n",
       "  <tbody>\n",
       "    <tr>\n",
       "      <th>0</th>\n",
       "      <td>0.11</td>\n",
       "      <td>-0.34</td>\n",
       "      <td>0.11</td>\n",
       "      <td>1.00</td>\n",
       "      <td>0.25</td>\n",
       "      <td>0.030152</td>\n",
       "      <td>0.002309</td>\n",
       "      <td>1000</td>\n",
       "    </tr>\n",
       "    <tr>\n",
       "      <th>1</th>\n",
       "      <td>0.11</td>\n",
       "      <td>-0.34</td>\n",
       "      <td>0.11</td>\n",
       "      <td>0.95</td>\n",
       "      <td>0.25</td>\n",
       "      <td>0.064010</td>\n",
       "      <td>0.003272</td>\n",
       "      <td>1000</td>\n",
       "    </tr>\n",
       "    <tr>\n",
       "      <th>2</th>\n",
       "      <td>0.11</td>\n",
       "      <td>-0.34</td>\n",
       "      <td>0.11</td>\n",
       "      <td>0.90</td>\n",
       "      <td>0.25</td>\n",
       "      <td>0.104068</td>\n",
       "      <td>0.003996</td>\n",
       "      <td>1000</td>\n",
       "    </tr>\n",
       "    <tr>\n",
       "      <th>3</th>\n",
       "      <td>0.11</td>\n",
       "      <td>-0.34</td>\n",
       "      <td>0.11</td>\n",
       "      <td>0.85</td>\n",
       "      <td>0.25</td>\n",
       "      <td>0.153755</td>\n",
       "      <td>0.004293</td>\n",
       "      <td>1000</td>\n",
       "    </tr>\n",
       "    <tr>\n",
       "      <th>4</th>\n",
       "      <td>0.11</td>\n",
       "      <td>-0.34</td>\n",
       "      <td>0.12</td>\n",
       "      <td>1.00</td>\n",
       "      <td>0.25</td>\n",
       "      <td>0.030387</td>\n",
       "      <td>0.002263</td>\n",
       "      <td>1000</td>\n",
       "    </tr>\n",
       "  </tbody>\n",
       "</table>\n",
       "</div>"
      ],
      "text/plain": [
       "   sigma  theta  kappa  strike     T  expected_payoff     error  Ntraj\n",
       "0   0.11  -0.34   0.11    1.00  0.25         0.030152  0.002309   1000\n",
       "1   0.11  -0.34   0.11    0.95  0.25         0.064010  0.003272   1000\n",
       "2   0.11  -0.34   0.11    0.90  0.25         0.104068  0.003996   1000\n",
       "3   0.11  -0.34   0.11    0.85  0.25         0.153755  0.004293   1000\n",
       "4   0.11  -0.34   0.12    1.00  0.25         0.030387  0.002263   1000"
      ]
     },
     "execution_count": 11,
     "metadata": {},
     "output_type": "execute_result"
    }
   ],
   "source": [
    "df = pd.read_csv(\"training.csv\")\n",
    "features = [\"sigma\", \"theta\", \"kappa\", \"strike\", \"T\"]\n",
    "param_range = {param: [min(df[param]), max(df[param])] for param in df.columns}\n",
    "df.head()"
   ]
  },
  {
   "cell_type": "code",
   "execution_count": 12,
   "metadata": {},
   "outputs": [
    {
     "data": {
      "text/plain": [
       "(torch.Size([16000, 5]),\n",
       " tensor([[ 0.1100, -0.3400,  0.1100,  1.0000,  0.2500],\n",
       "         [ 0.1100, -0.3400,  0.1100,  0.9500,  0.2500],\n",
       "         [ 0.1100, -0.3400,  0.1100,  0.9000,  0.2500],\n",
       "         ...,\n",
       "         [ 0.2000, -0.0600,  0.2000,  0.9500,  2.0000],\n",
       "         [ 0.2000, -0.0600,  0.2000,  0.9000,  2.0000],\n",
       "         [ 0.2000, -0.0600,  0.2000,  0.8500,  2.0000]]),\n",
       " torch.Size([16000]),\n",
       " tensor([0.0302, 0.0640, 0.1041,  ..., 0.1455, 0.1592, 0.1984]))"
      ]
     },
     "execution_count": 12,
     "metadata": {},
     "output_type": "execute_result"
    }
   ],
   "source": [
    "X_train = torch.tensor(df[features].values, dtype=torch.float32)\n",
    "y_train = torch.tensor(df[\"expected_payoff\"], dtype=torch.float32)\n",
    "X_train.shape, X_train, y_train.shape, y_train"
   ]
  },
  {
   "cell_type": "code",
   "execution_count": 34,
   "metadata": {},
   "outputs": [],
   "source": [
    "dataset = TensorDataset(X_train, y_train)\n",
    "dataloader = DataLoader(dataset, batch_size=64, shuffle=True)\n",
    "\n",
    "vg_nn = VG_nn()\n",
    "optimizer = torch.optim.AdamW(vg_nn.parameters(), lr=0.1)"
   ]
  },
  {
   "cell_type": "code",
   "execution_count": 35,
   "metadata": {},
   "outputs": [
    {
     "name": "stdout",
     "output_type": "stream",
     "text": [
      "Mean loss on the 0-th epoch: 0.7568654671208933\n",
      "Mean loss on the 1-th epoch: 0.01431115161627531\n",
      "Mean loss on the 2-th epoch: 0.014311151541769505\n",
      "Mean loss on the 3-th epoch: 0.014311151597648859\n",
      "Mean loss on the 4-th epoch: 0.014311151545494795\n",
      "Mean loss on the 5-th epoch: 0.014311151567846537\n",
      "Mean loss on the 6-th epoch: 0.014311151687055827\n",
      "Mean loss on the 7-th epoch: 0.014311151575297117\n",
      "Mean loss on the 8-th epoch: 0.014311151653528214\n",
      "Mean loss on the 9-th epoch: 0.014311151571571827\n",
      "Mean loss on the 10-th epoch: 0.014311151560395956\n",
      "Mean loss on the 11-th epoch: 0.01431115159392357\n",
      "Mean loss on the 12-th epoch: 0.014311151623725892\n",
      "Mean loss on the 13-th epoch: 0.014311151515692472\n",
      "Mean loss on the 14-th epoch: 0.014311151575297117\n",
      "Mean loss on the 15-th epoch: 0.014311151579022408\n",
      "Mean loss on the 16-th epoch: 0.014311151545494795\n",
      "Mean loss on the 17-th epoch: 0.014311151508241892\n",
      "Mean loss on the 18-th epoch: 0.014311151634901762\n",
      "Mean loss on the 19-th epoch: 0.014311151571571827\n"
     ]
    }
   ],
   "source": [
    "n_epochs = 20\n",
    "\n",
    "for e in range(n_epochs):\n",
    "    lossi = []\n",
    "    for X_batch, y_batch in dataloader:\n",
    "        y_out = vg_nn(X_batch)\n",
    "        loss = torch.mean((y_out - y_batch)**2)\n",
    "        optimizer.zero_grad()\n",
    "        loss.backward()\n",
    "        optimizer.step()\n",
    "        lossi.append(loss.item())\n",
    "        # for name, param in vg_nn.named_parameters():\n",
    "        #     if name == \"net.0.weight\":\n",
    "        #         print(f\"Parameter name: {name}\")\n",
    "        #         print(f\"Shape: {param.shape}\")\n",
    "        #         print(f\"Values: {param.data[0]}\\n\")\n",
    "    print(f\"Mean loss on the {e}-th epoch: {np.array(lossi).mean()}\")"
   ]
  }
 ],
 "metadata": {
  "kernelspec": {
   "display_name": "Python 3",
   "language": "python",
   "name": "python3"
  },
  "language_info": {
   "codemirror_mode": {
    "name": "ipython",
    "version": 3
   },
   "file_extension": ".py",
   "mimetype": "text/x-python",
   "name": "python",
   "nbconvert_exporter": "python",
   "pygments_lexer": "ipython3",
   "version": "3.9.21"
  }
 },
 "nbformat": 4,
 "nbformat_minor": 2
}
