{
 "cells": [
  {
   "cell_type": "code",
   "execution_count": 6,
   "metadata": {},
   "outputs": [],
   "source": [
    "import torch\n",
    "from torch.utils.data import DataLoader, TensorDataset\n",
    "import pandas as pd\n",
    "from network import VG_nn"
   ]
  },
  {
   "cell_type": "code",
   "execution_count": 7,
   "metadata": {},
   "outputs": [
    {
     "data": {
      "text/html": [
       "<div>\n",
       "<style scoped>\n",
       "    .dataframe tbody tr th:only-of-type {\n",
       "        vertical-align: middle;\n",
       "    }\n",
       "\n",
       "    .dataframe tbody tr th {\n",
       "        vertical-align: top;\n",
       "    }\n",
       "\n",
       "    .dataframe thead th {\n",
       "        text-align: right;\n",
       "    }\n",
       "</style>\n",
       "<table border=\"1\" class=\"dataframe\">\n",
       "  <thead>\n",
       "    <tr style=\"text-align: right;\">\n",
       "      <th></th>\n",
       "      <th>sigma</th>\n",
       "      <th>theta</th>\n",
       "      <th>kappa</th>\n",
       "      <th>strike</th>\n",
       "      <th>T</th>\n",
       "      <th>expected_payoff</th>\n",
       "      <th>error</th>\n",
       "      <th>Ntraj</th>\n",
       "    </tr>\n",
       "  </thead>\n",
       "  <tbody>\n",
       "    <tr>\n",
       "      <th>0</th>\n",
       "      <td>0.11</td>\n",
       "      <td>-0.34</td>\n",
       "      <td>0.11</td>\n",
       "      <td>1.00</td>\n",
       "      <td>0.25</td>\n",
       "      <td>0.030152</td>\n",
       "      <td>0.002309</td>\n",
       "      <td>1000</td>\n",
       "    </tr>\n",
       "    <tr>\n",
       "      <th>1</th>\n",
       "      <td>0.11</td>\n",
       "      <td>-0.34</td>\n",
       "      <td>0.11</td>\n",
       "      <td>0.95</td>\n",
       "      <td>0.25</td>\n",
       "      <td>0.064010</td>\n",
       "      <td>0.003272</td>\n",
       "      <td>1000</td>\n",
       "    </tr>\n",
       "    <tr>\n",
       "      <th>2</th>\n",
       "      <td>0.11</td>\n",
       "      <td>-0.34</td>\n",
       "      <td>0.11</td>\n",
       "      <td>0.90</td>\n",
       "      <td>0.25</td>\n",
       "      <td>0.104068</td>\n",
       "      <td>0.003996</td>\n",
       "      <td>1000</td>\n",
       "    </tr>\n",
       "    <tr>\n",
       "      <th>3</th>\n",
       "      <td>0.11</td>\n",
       "      <td>-0.34</td>\n",
       "      <td>0.11</td>\n",
       "      <td>0.85</td>\n",
       "      <td>0.25</td>\n",
       "      <td>0.153755</td>\n",
       "      <td>0.004293</td>\n",
       "      <td>1000</td>\n",
       "    </tr>\n",
       "    <tr>\n",
       "      <th>4</th>\n",
       "      <td>0.11</td>\n",
       "      <td>-0.34</td>\n",
       "      <td>0.12</td>\n",
       "      <td>1.00</td>\n",
       "      <td>0.25</td>\n",
       "      <td>0.030387</td>\n",
       "      <td>0.002263</td>\n",
       "      <td>1000</td>\n",
       "    </tr>\n",
       "  </tbody>\n",
       "</table>\n",
       "</div>"
      ],
      "text/plain": [
       "   sigma  theta  kappa  strike     T  expected_payoff     error  Ntraj\n",
       "0   0.11  -0.34   0.11    1.00  0.25         0.030152  0.002309   1000\n",
       "1   0.11  -0.34   0.11    0.95  0.25         0.064010  0.003272   1000\n",
       "2   0.11  -0.34   0.11    0.90  0.25         0.104068  0.003996   1000\n",
       "3   0.11  -0.34   0.11    0.85  0.25         0.153755  0.004293   1000\n",
       "4   0.11  -0.34   0.12    1.00  0.25         0.030387  0.002263   1000"
      ]
     },
     "execution_count": 7,
     "metadata": {},
     "output_type": "execute_result"
    }
   ],
   "source": [
    "df = pd.read_csv(\"training.csv\")\n",
    "features = [\"sigma\", \"theta\", \"kappa\", \"strike\", \"T\"]\n",
    "param_range = {param: [min(df[param]), max(df[param])] for param in df.columns}\n",
    "df.head()"
   ]
  },
  {
   "cell_type": "code",
   "execution_count": 8,
   "metadata": {},
   "outputs": [
    {
     "data": {
      "text/plain": [
       "(torch.Size([16000, 5]),\n",
       " tensor([[ 0.1100, -0.3400,  0.1100,  1.0000,  0.2500],\n",
       "         [ 0.1100, -0.3400,  0.1100,  0.9500,  0.2500],\n",
       "         [ 0.1100, -0.3400,  0.1100,  0.9000,  0.2500],\n",
       "         ...,\n",
       "         [ 0.2000, -0.0600,  0.2000,  0.9500,  2.0000],\n",
       "         [ 0.2000, -0.0600,  0.2000,  0.9000,  2.0000],\n",
       "         [ 0.2000, -0.0600,  0.2000,  0.8500,  2.0000]]),\n",
       " torch.Size([16000]),\n",
       " tensor([0.0302, 0.0640, 0.1041,  ..., 0.1455, 0.1592, 0.1984]))"
      ]
     },
     "execution_count": 8,
     "metadata": {},
     "output_type": "execute_result"
    }
   ],
   "source": [
    "X_train = torch.tensor(df[features].values, dtype=torch.float32)\n",
    "y_train = torch.tensor(df[\"expected_payoff\"], dtype=torch.float32)\n",
    "X_train.shape, X_train, y_train.shape, y_train"
   ]
  },
  {
   "cell_type": "code",
   "execution_count": 9,
   "metadata": {},
   "outputs": [],
   "source": [
    "dataset = TensorDataset(X_train, y_train)\n",
    "dataloader = DataLoader(dataset, batch_size=64, shuffle=True)\n",
    "\n",
    "vg_nn = VG_nn()\n",
    "optimizer = torch.optim.AdamW(vg_nn.parameters())"
   ]
  },
  {
   "cell_type": "code",
   "execution_count": null,
   "metadata": {},
   "outputs": [],
   "source": []
  }
 ],
 "metadata": {
  "kernelspec": {
   "display_name": "Python 3",
   "language": "python",
   "name": "python3"
  },
  "language_info": {
   "codemirror_mode": {
    "name": "ipython",
    "version": 3
   },
   "file_extension": ".py",
   "mimetype": "text/x-python",
   "name": "python",
   "nbconvert_exporter": "python",
   "pygments_lexer": "ipython3",
   "version": "3.9.21"
  }
 },
 "nbformat": 4,
 "nbformat_minor": 2
}
